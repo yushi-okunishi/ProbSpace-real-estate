{
 "cells": [
  {
   "cell_type": "code",
   "execution_count": 125,
   "metadata": {},
   "outputs": [],
   "source": [
    "import os\n",
    "import numpy as np\n",
    "import pandas as pd\n",
    "import matplotlib.pyplot as plt\n",
    "import seaborn as sns\n",
    "from tqdm import tqdm\n",
    "import math"
   ]
  },
  {
   "cell_type": "code",
   "execution_count": 2,
   "metadata": {},
   "outputs": [],
   "source": [
    "from sklearn.preprocessing import LabelEncoder\n",
    "from sklearn.model_selection import KFold"
   ]
  },
  {
   "cell_type": "code",
   "execution_count": 156,
   "metadata": {},
   "outputs": [],
   "source": [
    "import lightgbm as lgb\n",
    "from sklearn.metrics import mean_squared_error\n",
    "import optuna.integration.lightgbm as lgb_tuner"
   ]
  },
  {
   "cell_type": "code",
   "execution_count": 4,
   "metadata": {},
   "outputs": [],
   "source": [
    "train_csv = \"data/train_data.csv\"\n",
    "test_csv = \"data/test_data.csv\"\n",
    "pub_csv = \"data/published_land_price.csv\""
   ]
  },
  {
   "cell_type": "code",
   "execution_count": 200,
   "metadata": {},
   "outputs": [],
   "source": [
    "train_df = pd.read_csv(train_csv)\n",
    "test_df = pd.read_csv(test_csv)\n",
    "pub_df = pd.read_csv(pub_csv)"
   ]
  },
  {
   "cell_type": "code",
   "execution_count": null,
   "metadata": {},
   "outputs": [],
   "source": [
    "nan = \"NULL\""
   ]
  },
  {
   "cell_type": "code",
   "execution_count": 201,
   "metadata": {},
   "outputs": [
    {
     "data": {
      "text/html": [
       "<div>\n",
       "<style scoped>\n",
       "    .dataframe tbody tr th:only-of-type {\n",
       "        vertical-align: middle;\n",
       "    }\n",
       "\n",
       "    .dataframe tbody tr th {\n",
       "        vertical-align: top;\n",
       "    }\n",
       "\n",
       "    .dataframe thead th {\n",
       "        text-align: right;\n",
       "    }\n",
       "</style>\n",
       "<table border=\"1\" class=\"dataframe\">\n",
       "  <thead>\n",
       "    <tr style=\"text-align: right;\">\n",
       "      <th></th>\n",
       "      <th>id</th>\n",
       "      <th>種類</th>\n",
       "      <th>地域</th>\n",
       "      <th>市区町村コード</th>\n",
       "      <th>都道府県名</th>\n",
       "      <th>市区町村名</th>\n",
       "      <th>地区名</th>\n",
       "      <th>最寄駅：名称</th>\n",
       "      <th>最寄駅：距離（分）</th>\n",
       "      <th>間取り</th>\n",
       "      <th>...</th>\n",
       "      <th>前面道路：方位</th>\n",
       "      <th>前面道路：種類</th>\n",
       "      <th>前面道路：幅員（ｍ）</th>\n",
       "      <th>都市計画</th>\n",
       "      <th>建ぺい率（％）</th>\n",
       "      <th>容積率（％）</th>\n",
       "      <th>取引時点</th>\n",
       "      <th>改装</th>\n",
       "      <th>取引の事情等</th>\n",
       "      <th>y</th>\n",
       "    </tr>\n",
       "  </thead>\n",
       "  <tbody>\n",
       "    <tr>\n",
       "      <th>0</th>\n",
       "      <td>1</td>\n",
       "      <td>中古マンション等</td>\n",
       "      <td>NaN</td>\n",
       "      <td>13101</td>\n",
       "      <td>東京都</td>\n",
       "      <td>千代田区</td>\n",
       "      <td>飯田橋</td>\n",
       "      <td>飯田橋</td>\n",
       "      <td>1</td>\n",
       "      <td>２ＬＤＫ</td>\n",
       "      <td>...</td>\n",
       "      <td>NaN</td>\n",
       "      <td>NaN</td>\n",
       "      <td>NaN</td>\n",
       "      <td>商業地域</td>\n",
       "      <td>80.0</td>\n",
       "      <td>600.0</td>\n",
       "      <td>2017年第４四半期</td>\n",
       "      <td>改装済</td>\n",
       "      <td>NaN</td>\n",
       "      <td>66.0</td>\n",
       "    </tr>\n",
       "    <tr>\n",
       "      <th>1</th>\n",
       "      <td>2</td>\n",
       "      <td>中古マンション等</td>\n",
       "      <td>NaN</td>\n",
       "      <td>13101</td>\n",
       "      <td>東京都</td>\n",
       "      <td>千代田区</td>\n",
       "      <td>飯田橋</td>\n",
       "      <td>飯田橋</td>\n",
       "      <td>5</td>\n",
       "      <td>１Ｋ</td>\n",
       "      <td>...</td>\n",
       "      <td>NaN</td>\n",
       "      <td>NaN</td>\n",
       "      <td>NaN</td>\n",
       "      <td>商業地域</td>\n",
       "      <td>80.0</td>\n",
       "      <td>500.0</td>\n",
       "      <td>2017年第４四半期</td>\n",
       "      <td>未改装</td>\n",
       "      <td>NaN</td>\n",
       "      <td>19.0</td>\n",
       "    </tr>\n",
       "    <tr>\n",
       "      <th>2</th>\n",
       "      <td>3</td>\n",
       "      <td>中古マンション等</td>\n",
       "      <td>NaN</td>\n",
       "      <td>13101</td>\n",
       "      <td>東京都</td>\n",
       "      <td>千代田区</td>\n",
       "      <td>飯田橋</td>\n",
       "      <td>飯田橋</td>\n",
       "      <td>3</td>\n",
       "      <td>１ＬＤＫ</td>\n",
       "      <td>...</td>\n",
       "      <td>NaN</td>\n",
       "      <td>NaN</td>\n",
       "      <td>NaN</td>\n",
       "      <td>商業地域</td>\n",
       "      <td>80.0</td>\n",
       "      <td>500.0</td>\n",
       "      <td>2017年第３四半期</td>\n",
       "      <td>未改装</td>\n",
       "      <td>NaN</td>\n",
       "      <td>37.0</td>\n",
       "    </tr>\n",
       "    <tr>\n",
       "      <th>3</th>\n",
       "      <td>4</td>\n",
       "      <td>中古マンション等</td>\n",
       "      <td>NaN</td>\n",
       "      <td>13101</td>\n",
       "      <td>東京都</td>\n",
       "      <td>千代田区</td>\n",
       "      <td>飯田橋</td>\n",
       "      <td>飯田橋</td>\n",
       "      <td>5</td>\n",
       "      <td>１Ｒ</td>\n",
       "      <td>...</td>\n",
       "      <td>NaN</td>\n",
       "      <td>NaN</td>\n",
       "      <td>NaN</td>\n",
       "      <td>商業地域</td>\n",
       "      <td>80.0</td>\n",
       "      <td>500.0</td>\n",
       "      <td>2017年第３四半期</td>\n",
       "      <td>未改装</td>\n",
       "      <td>NaN</td>\n",
       "      <td>18.0</td>\n",
       "    </tr>\n",
       "    <tr>\n",
       "      <th>4</th>\n",
       "      <td>5</td>\n",
       "      <td>宅地(土地と建物)</td>\n",
       "      <td>商業地</td>\n",
       "      <td>13101</td>\n",
       "      <td>東京都</td>\n",
       "      <td>千代田区</td>\n",
       "      <td>飯田橋</td>\n",
       "      <td>飯田橋</td>\n",
       "      <td>3</td>\n",
       "      <td>NaN</td>\n",
       "      <td>...</td>\n",
       "      <td>南西</td>\n",
       "      <td>区道</td>\n",
       "      <td>8.0</td>\n",
       "      <td>商業地域</td>\n",
       "      <td>80.0</td>\n",
       "      <td>500.0</td>\n",
       "      <td>2017年第２四半期</td>\n",
       "      <td>NaN</td>\n",
       "      <td>NaN</td>\n",
       "      <td>240.0</td>\n",
       "    </tr>\n",
       "  </tbody>\n",
       "</table>\n",
       "<p>5 rows × 28 columns</p>\n",
       "</div>"
      ],
      "text/plain": [
       "   id         種類   地域  市区町村コード 都道府県名 市区町村名  地区名 最寄駅：名称 最寄駅：距離（分）   間取り  ...  \\\n",
       "0   1   中古マンション等  NaN    13101   東京都  千代田区  飯田橋    飯田橋         1  ２ＬＤＫ  ...   \n",
       "1   2   中古マンション等  NaN    13101   東京都  千代田区  飯田橋    飯田橋         5    １Ｋ  ...   \n",
       "2   3   中古マンション等  NaN    13101   東京都  千代田区  飯田橋    飯田橋         3  １ＬＤＫ  ...   \n",
       "3   4   中古マンション等  NaN    13101   東京都  千代田区  飯田橋    飯田橋         5    １Ｒ  ...   \n",
       "4   5  宅地(土地と建物)  商業地    13101   東京都  千代田区  飯田橋    飯田橋         3   NaN  ...   \n",
       "\n",
       "  前面道路：方位 前面道路：種類 前面道路：幅員（ｍ）  都市計画 建ぺい率（％） 容積率（％）        取引時点   改装 取引の事情等  \\\n",
       "0     NaN     NaN        NaN  商業地域    80.0  600.0  2017年第４四半期  改装済    NaN   \n",
       "1     NaN     NaN        NaN  商業地域    80.0  500.0  2017年第４四半期  未改装    NaN   \n",
       "2     NaN     NaN        NaN  商業地域    80.0  500.0  2017年第３四半期  未改装    NaN   \n",
       "3     NaN     NaN        NaN  商業地域    80.0  500.0  2017年第３四半期  未改装    NaN   \n",
       "4      南西      区道        8.0  商業地域    80.0  500.0  2017年第２四半期  NaN    NaN   \n",
       "\n",
       "       y  \n",
       "0   66.0  \n",
       "1   19.0  \n",
       "2   37.0  \n",
       "3   18.0  \n",
       "4  240.0  \n",
       "\n",
       "[5 rows x 28 columns]"
      ]
     },
     "execution_count": 201,
     "metadata": {},
     "output_type": "execute_result"
    }
   ],
   "source": [
    "train_df.head()"
   ]
  },
  {
   "cell_type": "code",
   "execution_count": 202,
   "metadata": {},
   "outputs": [
    {
     "data": {
      "text/plain": [
       "Index(['id', '種類', '地域', '市区町村コード', '都道府県名', '市区町村名', '地区名', '最寄駅：名称',\n",
       "       '最寄駅：距離（分）', '間取り', '面積（㎡）', '土地の形状', '間口', '延床面積（㎡）', '建築年', '建物の構造',\n",
       "       '用途', '今後の利用目的', '前面道路：方位', '前面道路：種類', '前面道路：幅員（ｍ）', '都市計画', '建ぺい率（％）',\n",
       "       '容積率（％）', '取引時点', '改装', '取引の事情等', 'y'],\n",
       "      dtype='object')"
      ]
     },
     "execution_count": 202,
     "metadata": {},
     "output_type": "execute_result"
    }
   ],
   "source": [
    "train_df.columns"
   ]
  },
  {
   "cell_type": "code",
   "execution_count": 383,
   "metadata": {},
   "outputs": [
    {
     "name": "stdout",
     "output_type": "stream",
     "text": [
      "<class 'pandas.core.frame.DataFrame'>\n",
      "RangeIndex: 356344 entries, 0 to 356343\n",
      "Data columns (total 28 columns):\n",
      "id            356344 non-null int64\n",
      "種類            356344 non-null object\n",
      "地域            196938 non-null object\n",
      "市区町村コード       356344 non-null int64\n",
      "都道府県名         356344 non-null object\n",
      "市区町村名         356344 non-null object\n",
      "地区名           356098 non-null object\n",
      "最寄駅：名称        354793 non-null object\n",
      "最寄駅：距離（分）     346215 non-null object\n",
      "間取り           153776 non-null object\n",
      "面積（㎡）         356344 non-null object\n",
      "土地の形状         196543 non-null object\n",
      "間口            180263 non-null object\n",
      "延床面積（㎡）       120143 non-null object\n",
      "建築年           273503 non-null object\n",
      "建物の構造         277515 non-null object\n",
      "用途            275283 non-null object\n",
      "今後の利用目的       111379 non-null object\n",
      "前面道路：方位       196514 non-null object\n",
      "前面道路：種類       194373 non-null object\n",
      "前面道路：幅員（ｍ）    193279 non-null float64\n",
      "都市計画          352897 non-null object\n",
      "建ぺい率（％）       350958 non-null float64\n",
      "容積率（％）        350958 non-null float64\n",
      "取引時点          356344 non-null object\n",
      "改装            144273 non-null object\n",
      "取引の事情等        28136 non-null object\n",
      "y             356344 non-null float64\n",
      "dtypes: float64(4), int64(2), object(22)\n",
      "memory usage: 76.1+ MB\n"
     ]
    }
   ],
   "source": [
    "train_df.info()"
   ]
  },
  {
   "cell_type": "code",
   "execution_count": 203,
   "metadata": {
    "collapsed": true,
    "jupyter": {
     "outputs_hidden": true
    }
   },
   "outputs": [
    {
     "data": {
      "text/plain": [
       "id              int64\n",
       "種類             object\n",
       "地域             object\n",
       "市区町村コード         int64\n",
       "都道府県名          object\n",
       "市区町村名          object\n",
       "地区名            object\n",
       "最寄駅：名称         object\n",
       "最寄駅：距離（分）      object\n",
       "間取り            object\n",
       "面積（㎡）          object\n",
       "土地の形状          object\n",
       "間口             object\n",
       "延床面積（㎡）        object\n",
       "建築年            object\n",
       "建物の構造          object\n",
       "用途             object\n",
       "今後の利用目的        object\n",
       "前面道路：方位        object\n",
       "前面道路：種類        object\n",
       "前面道路：幅員（ｍ）    float64\n",
       "都市計画           object\n",
       "建ぺい率（％）       float64\n",
       "容積率（％）        float64\n",
       "取引時点           object\n",
       "改装             object\n",
       "取引の事情等         object\n",
       "y             float64\n",
       "dtype: object"
      ]
     },
     "execution_count": 203,
     "metadata": {},
     "output_type": "execute_result"
    }
   ],
   "source": [
    "train_df.dtypes"
   ]
  },
  {
   "cell_type": "code",
   "execution_count": 263,
   "metadata": {},
   "outputs": [
    {
     "name": "stdout",
     "output_type": "stream",
     "text": [
      "['２ＬＤＫ' '１Ｋ' '１ＬＤＫ' '１Ｒ' nan '３ＬＤＫ' '１ＤＫ＋Ｓ' '３ＤＫ' '１ＤＫ' '２ＤＫ' 'オープンフロア'\n",
      " '４ＬＤＫ' '１Ｋ＋Ｓ' '１ＬＤＫ＋Ｓ' '２ＬＤＫ＋Ｓ' 'スタジオ' '２Ｋ' '２ＤＫ＋Ｓ' '３ＬＤＫ＋Ｓ' '３Ｋ' '４ＤＫ'\n",
      " '５ＬＤＫ＋Ｓ' '７ＬＤＫ' '２Ｋ＋Ｓ' 'メゾネット' '５ＬＤＫ' '３ＤＫ＋Ｓ' '４Ｋ' '４ＬＤＫ＋Ｓ' '２ＬＤ' '３ＬＫ'\n",
      " '１Ｒ＋Ｓ' '１ＬＫ' '２ＬＤ＋Ｓ' '５ＤＫ' '１Ｌ' '２ＬＫ＋Ｓ' '６ＬＤＫ' '２ＬＫ' '１Ｌ＋Ｓ' '６ＬＤＫ＋Ｓ'\n",
      " '６ＤＫ' '４ＤＫ＋Ｓ' '３Ｋ＋Ｓ' '３ＬＤ＋Ｓ' '１ＬＤ＋Ｓ' '３ＬＤ' '２Ｄ' '３ＬＤＫ＋Ｋ']\n"
     ]
    }
   ],
   "source": [
    "print(train_df['間取り'].unique())\n",
    "#print(train_df['都道府県名'].unique())\n",
    "#print(train_df.groupby(['市区町村コード', '市区町村名']).count()['id'])\n",
    "#sum(train_df['市区町村コード'] == train_df['地区名'])"
   ]
  },
  {
   "cell_type": "code",
   "execution_count": 264,
   "metadata": {},
   "outputs": [
    {
     "data": {
      "text/plain": [
       "False"
      ]
     },
     "execution_count": 264,
     "metadata": {},
     "output_type": "execute_result"
    }
   ],
   "source": [
    "'Ｌ' == 'L'"
   ]
  },
  {
   "cell_type": "code",
   "execution_count": 137,
   "metadata": {},
   "outputs": [
    {
     "name": "stdout",
     "output_type": "stream",
     "text": [
      "[nan '住宅' '住宅、事務所、店舗' 'その他' '事務所、倉庫' '事務所' '事務所、倉庫、駐車場、その他' '駐車場' '共同住宅'\n",
      " '共同住宅、店舗' '事務所、店舗' '住宅、店舗' '共同住宅、事務所、倉庫、店舗' '住宅、作業場、店舗' '共同住宅、事務所、店舗'\n",
      " '住宅、事務所' '事務所、倉庫、駐車場' '住宅、事務所、その他' '店舗' '事務所、その他' '事務所、倉庫、店舗'\n",
      " '住宅、倉庫、店舗、その他' '住宅、事務所、倉庫、店舗' '事務所、作業場、倉庫' '事務所、駐車場' '工場' '住宅、倉庫'\n",
      " '住宅、共同住宅、工場、倉庫' '倉庫' '事務所、駐車場、店舗' '住宅、工場、事務所' '共同住宅、事務所、倉庫、駐車場'\n",
      " '住宅、事務所、倉庫' '住宅、作業場' '共同住宅、事務所' '住宅、事務所、店舗、その他' '住宅、駐車場、店舗' '住宅、工場'\n",
      " '住宅、事務所、駐車場' '事務所、倉庫、その他' '住宅、その他' '住宅、作業場、倉庫、店舗' '住宅、共同住宅、事務所、店舗'\n",
      " '共同住宅、事務所、倉庫' '事務所、店舗、その他' '店舗、その他' '住宅、事務所、倉庫、駐車場' '共同住宅、その他'\n",
      " '住宅、事務所、作業場' '作業場、倉庫、駐車場' '工場、事務所' '住宅、共同住宅、工場、事務所' '住宅、作業場、倉庫' '倉庫、店舗'\n",
      " '事務所、作業場、店舗' '住宅、事務所、駐車場、店舗' '共同住宅、駐車場' '共同住宅、作業場' '住宅、店舗、その他' '住宅、倉庫、店舗'\n",
      " '住宅、事務所、作業場、店舗' '住宅、共同住宅、事務所、倉庫' '共同住宅、事務所、作業場' '住宅、駐車場' '住宅、倉庫、その他'\n",
      " '住宅、共同住宅、店舗' '事務所、駐車場、その他' '住宅、共同住宅、作業場' '住宅、共同住宅、工場、事務所、作業場、倉庫'\n",
      " '共同住宅、工場、事務所、駐車場' '住宅、共同住宅、駐車場' '事務所、作業場' '住宅、倉庫、駐車場、店舗' '共同住宅、工場、事務所'\n",
      " '共同住宅、駐車場、店舗' '共同住宅、事務所、倉庫、駐車場、店舗' '住宅、共同住宅、作業場、店舗' '共同住宅、倉庫、駐車場'\n",
      " '共同住宅、事務所、駐車場' '住宅、共同住宅' '駐車場、店舗' '共同住宅、倉庫、店舗' '住宅、共同住宅、事務所、作業場'\n",
      " '駐車場、その他' '住宅、倉庫、駐車場' '住宅、共同住宅、駐車場、その他' '事務所、倉庫、駐車場、店舗' '工場、作業場'\n",
      " '共同住宅、工場' '共同住宅、倉庫' '共同住宅、事務所、その他' '住宅、事務所、倉庫、駐車場、店舗' '共同住宅、事務所、駐車場、店舗'\n",
      " '共同住宅、工場、店舗' '住宅、作業場、倉庫、駐車場' '住宅、事務所、倉庫、店舗、その他' '住宅、工場、事務所、店舗'\n",
      " '工場、事務所、その他' '共同住宅、作業場、店舗' '住宅、共同住宅、事務所、倉庫、駐車場' '共同住宅、店舗、その他'\n",
      " '共同住宅、作業場、倉庫' '工場、倉庫' '共同住宅、工場、倉庫' '工場、事務所、作業場、駐車場' '住宅、事務所、作業場、駐車場'\n",
      " '倉庫、駐車場' '住宅、工場、店舗' '事務所、作業場、倉庫、駐車場' '住宅、共同住宅、店舗、その他' '住宅、共同住宅、事務所、駐車場'\n",
      " '住宅、共同住宅、事務所' '共同住宅、駐車場、その他' '作業場' '共同住宅、事務所、作業場、倉庫' '住宅、共同住宅、倉庫、店舗'\n",
      " '住宅、工場、倉庫' '共同住宅、事務所、作業場、駐車場、店舗' '住宅、工場、事務所、倉庫' '住宅、事務所、駐車場、その他'\n",
      " '住宅、事務所、作業場、倉庫、駐車場' '住宅、共同住宅、工場、事務所、倉庫' '住宅、事務所、作業場、倉庫' '住宅、共同住宅、作業場、倉庫'\n",
      " '住宅、共同住宅、工場' '工場、事務所、倉庫' '工場、事務所、倉庫、店舗' '共同住宅、倉庫、その他' '住宅、共同住宅、倉庫'\n",
      " '住宅、作業場、駐車場' '事務所、作業場、駐車場、その他' '住宅、作業場、その他' '事務所、作業場、その他'\n",
      " '共同住宅、工場、事務所、倉庫' '共同住宅、倉庫、店舗、その他' '工場、作業場、その他' '住宅、工場、その他' '工場、店舗'\n",
      " '住宅、駐車場、その他' '共同住宅、作業場、倉庫、店舗' '住宅、事務所、駐車場、店舗、その他' '共同住宅、工場、駐車場' '作業場、倉庫'\n",
      " '工場、事務所、倉庫、駐車場' '工場、事務所、倉庫、駐車場、店舗' '住宅、共同住宅、その他' '共同住宅、事務所、倉庫、店舗、その他'\n",
      " '作業場、店舗' '事務所、駐車場、店舗、その他' '共同住宅、倉庫、駐車場、店舗、その他' '住宅、共同住宅、倉庫、駐車場'\n",
      " '住宅、駐車場、店舗、その他' '事務所、作業場、店舗、その他' '作業場、その他' '住宅、工場、事務所、その他'\n",
      " '共同住宅、事務所、作業場、店舗' '工場、事務所、駐車場、店舗' '作業場、倉庫、店舗' '事務所、作業場、駐車場'\n",
      " '共同住宅、事務所、作業場、倉庫、店舗' '工場、作業場、倉庫' '事務所、作業場、倉庫、店舗' '住宅、事務所、作業場、倉庫、店舗'\n",
      " '共同住宅、駐車場、店舗、その他' '共同住宅、事務所、店舗、その他' '共同住宅、事務所、作業場、倉庫、駐車場'\n",
      " '住宅、共同住宅、作業場、駐車場' '工場、事務所、駐車場' '事務所、倉庫、店舗、その他' '倉庫、その他' '共同住宅、倉庫、駐車場、店舗'\n",
      " '共同住宅、事務所、倉庫、その他' '工場、その他' '工場、事務所、店舗' '共同住宅、工場、倉庫、その他' '共同住宅、作業場、倉庫、駐車場'\n",
      " '工場、事務所、作業場' '工場、倉庫、駐車場' '共同住宅、作業場、駐車場' '住宅、工場、倉庫、店舗' '住宅、共同住宅、事務所、倉庫、店舗'\n",
      " '共同住宅、事務所、作業場、倉庫、その他' '工場、事務所、作業場、倉庫' '工場、事務所、倉庫、その他'\n",
      " '共同住宅、工場、事務所、倉庫、その他' '共同住宅、工場、事務所、その他' '共同住宅、作業場、その他' '住宅、工場、作業場'\n",
      " '住宅、工場、事務所、作業場' '倉庫、駐車場、店舗' '作業場、駐車場、店舗、その他' '住宅、工場、事務所、駐車場' '駐車場、店舗、その他'\n",
      " '住宅、事務所、倉庫、駐車場、その他' '住宅、共同住宅、駐車場、店舗' '住宅、事務所、倉庫、その他' '工場、倉庫、店舗'\n",
      " '住宅、共同住宅、工場、店舗' '共同住宅、工場、事務所、駐車場、店舗' '事務所、作業場、倉庫、その他'\n",
      " '事務所、作業場、倉庫、駐車場、その他' '作業場、店舗、その他' '倉庫、店舗、その他']\n"
     ]
    }
   ],
   "source": [
    "tcol = '用途'\n",
    "print(train_df[tcol].unique())"
   ]
  },
  {
   "cell_type": "code",
   "execution_count": 141,
   "metadata": {},
   "outputs": [],
   "source": [
    "use_set = set()\n",
    "for i in range(len(train_df)):\n",
    "    use = train_df.iloc[i]['用途']\n",
    "    if type(use) is not str: continue\n",
    "    use_set |= set(use.split('、'))"
   ]
  },
  {
   "cell_type": "code",
   "execution_count": 142,
   "metadata": {},
   "outputs": [
    {
     "name": "stdout",
     "output_type": "stream",
     "text": [
      "{'駐車場', '作業場', '事務所', 'その他', '倉庫', '住宅', '工場', '共同住宅', '店舗'}\n"
     ]
    }
   ],
   "source": [
    "print(use_set)"
   ]
  },
  {
   "cell_type": "code",
   "execution_count": 136,
   "metadata": {
    "collapsed": true,
    "jupyter": {
     "outputs_hidden": true
    }
   },
   "outputs": [
    {
     "name": "stdout",
     "output_type": "stream",
     "text": [
      "住宅\n"
     ]
    },
    {
     "data": {
      "image/png": "[encoded data removed]",
      "text/plain": [
       "<Figure size 1584x216 with 1 Axes>"
      ]
     },
     "metadata": {
      "needs_background": "light"
     },
     "output_type": "display_data"
    },
    {
     "data": {
      "image/png": "[encoded data removed]",
      "text/plain": [
       "<Figure size 1584x216 with 1 Axes>"
      ]
     },
     "metadata": {
      "needs_background": "light"
     },
     "output_type": "display_data"
    },
    {
     "name": "stdout",
     "output_type": "stream",
     "text": [
      "その他\n"
     ]
    },
    {
     "data": {
      "image/png": "[encoded data removed]",
      "text/plain": [
       "<Figure size 1584x216 with 1 Axes>"
      ]
     },
     "metadata": {
      "needs_background": "light"
     },
     "output_type": "display_data"
    },
    {
     "data": {
      "image/png": "[encoded data removed]",
      "text/plain": [
       "<Figure size 1584x216 with 1 Axes>"
      ]
     },
     "metadata": {
      "needs_background": "light"
     },
     "output_type": "display_data"
    },
    {
     "name": "stdout",
     "output_type": "stream",
     "text": [
      "事務所\n"
     ]
    },
    {
     "data": {
      "image/png": "[encoded data removed]",
      "text/plain": [
       "<Figure size 1584x216 with 1 Axes>"
      ]
     },
     "metadata": {
      "needs_background": "light"
     },
     "output_type": "display_data"
    },
    {
     "data": {
      "image/png": "[encoded data removed]",
      "text/plain": [
       "<Figure size 1584x216 with 1 Axes>"
      ]
     },
     "metadata": {
      "needs_background": "light"
     },
     "output_type": "display_data"
    },
    {
     "name": "stdout",
     "output_type": "stream",
     "text": [
      "nan\n",
      "店舗\n"
     ]
    },
    {
     "data": {
      "image/png": "[encoded data removed]",
      "text/plain": [
       "<Figure size 1584x216 with 1 Axes>"
      ]
     },
     "metadata": {
      "needs_background": "light"
     },
     "output_type": "display_data"
    },
    {
     "data": {
      "image/png": "[encoded data removed]",
      "text/plain": [
       "<Figure size 1584x216 with 1 Axes>"
      ]
     },
     "metadata": {
      "needs_background": "light"
     },
     "output_type": "display_data"
    },
    {
     "name": "stdout",
     "output_type": "stream",
     "text": [
      "倉庫\n"
     ]
    },
    {
     "data": {
      "image/png": "[encoded data removed]",
      "text/plain": [
       "<Figure size 1584x216 with 1 Axes>"
      ]
     },
     "metadata": {
      "needs_background": "light"
     },
     "output_type": "display_data"
    },
    {
     "data": {
      "image/png": "[encoded data removed]",
      "text/plain": [
       "<Figure size 1584x216 with 1 Axes>"
      ]
     },
     "metadata": {
      "needs_background": "light"
     },
     "output_type": "display_data"
    },
    {
     "name": "stdout",
     "output_type": "stream",
     "text": [
      "工場\n"
     ]
    },
    {
     "data": {
      "image/png": "[encoded data removed]",
      "text/plain": [
       "<Figure size 1584x216 with 1 Axes>"
      ]
     },
     "metadata": {
      "needs_background": "light"
     },
     "output_type": "display_data"
    },
    {
     "data": {
      "image/png": "[encoded data removed]",
      "text/plain": [
       "<Figure size 1584x216 with 1 Axes>"
      ]
     },
     "metadata": {
      "needs_background": "light"
     },
     "output_type": "display_data"
    }
   ],
   "source": [
    "for t in train_df[tcol].unique():\n",
    "    print(t)\n",
    "    if type(t) is not str and math.isnan(t): continue\n",
    "    df = train_df.loc[train_df[tcol] == t]\n",
    "    xmin = min(np.min(df['y']), np.min(df['pred_y']))\n",
    "    xmax = max(np.max(df['y']), np.max(df['pred_y']))\n",
    "    plt.figure(figsize=(22, 3))\n",
    "    plt.xlim(xmin, xmax)\n",
    "    sns.boxplot(x='y', data=df)\n",
    "    plt.figure(figsize=(22, 3))\n",
    "    plt.xlim(xmin, xmax)\n",
    "    sns.boxplot(x='pred_y', data=df)\n",
    "    plt.show()"
   ]
  },
  {
   "cell_type": "code",
   "execution_count": 293,
   "metadata": {},
   "outputs": [
    {
     "data": {
      "text/plain": [
       "<matplotlib.axes._subplots.AxesSubplot at 0x1262375c0>"
      ]
     },
     "execution_count": 293,
     "metadata": {},
     "output_type": "execute_result"
    },
    {
     "data": {
      "image/png": "[encoded data removed]",
      "text/plain": [
       "<Figure size 1440x360 with 1 Axes>"
      ]
     },
     "metadata": {
      "needs_background": "light"
     },
     "output_type": "display_data"
    }
   ],
   "source": [
    "plt.figure(figsize=(20, 5))\n",
    "sns.boxplot(x='area', data=p_train_df)"
   ]
  },
  {
   "cell_type": "code",
   "execution_count": 291,
   "metadata": {},
   "outputs": [
    {
     "data": {
      "text/plain": [
       "<matplotlib.axes._subplots.AxesSubplot at 0x11f267a58>"
      ]
     },
     "execution_count": 291,
     "metadata": {},
     "output_type": "execute_result"
    },
    {
     "data": {
      "image/png": "[encoded data removed]",
      "text/plain": [
       "<Figure size 432x288 with 1 Axes>"
      ]
     },
     "metadata": {
      "needs_background": "light"
     },
     "output_type": "display_data"
    }
   ],
   "source": [
    "sns.boxplot(x='y', data=p_train_df.loc[(p_train_df['frontage'] > 20)])# & (p_train_df['area'] < 1000)])"
   ]
  },
  {
   "cell_type": "code",
   "execution_count": 56,
   "metadata": {},
   "outputs": [
    {
     "data": {
      "text/plain": [
       "Index(['id', '種類', '地域', '市区町村コード', '都道府県名', '市区町村名', '地区名', '最寄駅：名称',\n",
       "       '最寄駅：距離（分）', '間取り', '面積（㎡）', '土地の形状', '間口', '延床面積（㎡）', '建築年', '建物の構造',\n",
       "       '用途', '今後の利用目的', '前面道路：方位', '前面道路：種類', '前面道路：幅員（ｍ）', '都市計画', '建ぺい率（％）',\n",
       "       '容積率（％）', '取引時点', '改装', '取引の事情等', 'y'],\n",
       "      dtype='object')"
      ]
     },
     "execution_count": 56,
     "metadata": {},
     "output_type": "execute_result"
    },
    {
     "name": "stderr",
     "output_type": "stream",
     "text": [
      " 25%|██▍       | 96148/391188 [14:20<1:09:06, 71.15it/s]"
     ]
    }
   ],
   "source": [
    "train_df.columns"
   ]
  },
  {
   "cell_type": "code",
   "execution_count": 104,
   "metadata": {},
   "outputs": [
    {
     "data": {
      "text/plain": [
       "<matplotlib.axes._subplots.AxesSubplot at 0x11aa00400>"
      ]
     },
     "execution_count": 104,
     "metadata": {},
     "output_type": "execute_result"
    },
    {
     "data": {
      "image/png": "[encoded data removed]",
      "text/plain": [
       "<Figure size 432x288 with 1 Axes>"
      ]
     },
     "metadata": {
      "needs_background": "light"
     },
     "output_type": "display_data"
    }
   ],
   "source": [
    "sns.boxplot(x='y', data=train_df)"
   ]
  },
  {
   "cell_type": "code",
   "execution_count": 128,
   "metadata": {},
   "outputs": [
    {
     "data": {
      "text/plain": [
       "所在地コード  市区町村名  住居表示              \n",
       "13101   千代田    東京都　千代田区一ツ橋２－６－８      1\n",
       "               東京都　千代田区一番町１３番８       1\n",
       "               東京都　千代田区一番町１６番３       1\n",
       "               東京都　千代田区三番町６番２５       1\n",
       "               東京都　千代田区丸の内１－８－２      1\n",
       "                                    ..\n",
       "13401   八丈     東京都　八丈町中之郷１６８２番       1\n",
       "               東京都　八丈町大賀郷２２８４番       1\n",
       "13421   小笠原    東京都　小笠原村父島字奥村２３番６     1\n",
       "               東京都　小笠原村父島字東町２０番８     1\n",
       "               東京都　小笠原村父島字西町２６番１３    1\n",
       "Name: id, Length: 2602, dtype: int64"
      ]
     },
     "execution_count": 128,
     "metadata": {},
     "output_type": "execute_result"
    }
   ],
   "source": [
    "pub_df.groupby([\"所在地コード\", \"市区町村名\", \"住居表示\"])['id'].count()"
   ]
  },
  {
   "cell_type": "code",
   "execution_count": 146,
   "metadata": {
    "collapsed": true,
    "jupyter": {
     "outputs_hidden": true
    }
   },
   "outputs": [
    {
     "data": {
      "text/plain": [
       "array(['東京都\\u3000神津島村９９５番', '東京都\\u3000神津島村８４１番', '東京都\\u3000神津島村２８４番',\n",
       "       '東京都\\u3000あきる野市戸倉字西戸倉５２５番３', '東京都\\u3000青梅市沢井１丁目４３４番９外',\n",
       "       '東京都\\u3000青梅市柚木町２丁目４１６番２', '東京都\\u3000あきる野市小和田字北ノ前１４０番８',\n",
       "       '東京都\\u3000青梅市梅郷５丁目９９１番４', '東京都\\u3000あきる野市留原字中村７６１番８',\n",
       "       '東京都\\u3000青梅市和田町２丁目１６２番４外', '東京都\\u3000あきる野市舘谷字追原１４２番１６外',\n",
       "       '東京都\\u3000あきる野市高尾字橋本１８５番４', '東京都\\u3000青梅市日向和田１丁目２１６番３',\n",
       "       '東京都\\u3000西多摩郡日の出町大字大久野字萱窪８７３番２５', '東京都\\u3000八王子市美山町５５３番１',\n",
       "       '東京都\\u3000八王子市美山町９４６番', '東京都\\u3000あきる野市伊奈字新宿１１３２番５',\n",
       "       '東京都\\u3000青梅市裏宿町６７６番３', '東京都\\u3000八王子市裏高尾町１１１２番１',\n",
       "       '東京都\\u3000西多摩郡日の出町大字大久野字落合１１０番１４', '東京都\\u3000青梅市大柳町１４１４番３',\n",
       "       '東京都\\u3000新島村本村１－３－５', '東京都\\u3000あきる野市伊奈字北伊奈前９０３番９',\n",
       "       '東京都\\u3000青梅市駒木町２丁目２０番１外', '東京都\\u3000八王子市下恩方町２０９５番６',\n",
       "       '東京都\\u3000新島村本村１－７－１１', '東京都\\u3000西多摩郡日の出町大字平井字東本宿２０２４番７',\n",
       "       '東京都\\u3000あきる野市山田字上分９５６番７', '東京都\\u3000青梅市成木３丁目３７０番７外',\n",
       "       '東京都\\u3000青梅市西分町２丁目４９番１外', '東京都\\u3000八王子市裏高尾町５３２番６',\n",
       "       '東京都\\u3000青梅市根ヶ布２丁目２３７番２１４', '東京都\\u3000あきる野市引田字静ノ郷６１３番５',\n",
       "       '東京都\\u3000八王子市西寺方町１０１９番６４', '東京都\\u3000八王子市西寺方町１１０６番１５',\n",
       "       '東京都\\u3000青梅市長淵５丁目５４９番６', '東京都\\u3000青梅市千ヶ瀬町４丁目３７２番８',\n",
       "       '東京都\\u3000青梅市勝沼２丁目２２７番２', '東京都\\u3000八王子市西浅川町５６番７',\n",
       "       '東京都\\u3000青梅市東青梅１丁目４番３', '東京都\\u3000西多摩郡日の出町大字平井字三吉野下平井１０５８番１',\n",
       "       '東京都\\u3000八王子市川町１２８番１０２', '東京都\\u3000西多摩郡日の出町大字平井字三吉野桜木２０９番３',\n",
       "       '東京都\\u3000青梅市長淵４丁目２５６番６外', '東京都\\u3000八王子市川口町４６２番４外',\n",
       "       '東京都\\u3000八王子市元八王子町３丁目２１５３番９５', '東京都\\u3000八王子市西寺方町７１２番３８',\n",
       "       '東京都\\u3000青梅市小曾木３丁目２０２４番１外', '東京都\\u3000八王子市高尾町１７３３番３',\n",
       "       '東京都\\u3000八王子市初沢町１４２９番６４'], dtype=object)"
      ]
     },
     "execution_count": 146,
     "metadata": {},
     "output_type": "execute_result"
    }
   ],
   "source": [
    "pub_df[\"住居表示\"].unique()[:50]"
   ]
  },
  {
   "cell_type": "code",
   "execution_count": 90,
   "metadata": {},
   "outputs": [
    {
     "name": "stdout",
     "output_type": "stream",
     "text": [
      "福生市大字福生字奈賀１１７３番５\n",
      "福生市大字福生字奈賀７６７番５外\n",
      "福生市大字熊川字南４３番４\n",
      "福生市大字福生字武蔵野２３２２番２１\n",
      "福生市大字熊川字東２６２番２２\n",
      "福生市大字熊川字北５８３番１外\n",
      "福生市大字福生字武蔵野２２６３番８\n",
      "福生市大字熊川字北８５３番１８外\n",
      "福生市大字熊川字武蔵野１７０８番１５外\n",
      "八王子市絹ヶ丘３－２８－１３\n",
      "日野市大字日野４１６番２外\n",
      "日野市大字日野７７７３番１５６\n",
      "渋谷区千駄ヶ谷５－１２－１７\n",
      "渋谷区千駄ヶ谷３－２６－５\n",
      "渋谷区千駄ヶ谷１－２６－１１\n",
      "千代田区内幸町２－１－４\n",
      "千代田区内幸町１－２－１\n",
      "千代田区内幸町１－１－７\n",
      "千代田区大手町１丁目１１番外\n",
      "千代田区丸の内３－３－１\n",
      "千代田区丸の内２－４－１\n",
      "千代田区大手町１－７－２\n",
      "千代田区大手町２－２－１\n",
      "千代田区丸の内１－８－２\n",
      "千代田区神田相生町１０１番外\n"
     ]
    }
   ],
   "source": [
    "district_set = set()\n",
    "for ar in pub_df[\"住居表示\"].unique():\n",
    "    distr = extract_district_name(ar)\n",
    "    if not distr in district_set:\n",
    "        #print(\"{} <= {}\".format(distr, ar))\n",
    "        district_set.add(distr)"
   ]
  },
  {
   "cell_type": "code",
   "execution_count": 12,
   "metadata": {
    "collapsed": true,
    "jupyter": {
     "outputs_hidden": true
    }
   },
   "outputs": [
    {
     "name": "stdout",
     "output_type": "stream",
     "text": [
      "{'', '四谷三栄町', '東青梅', '南町', '上板橋', '蓮沼町', '鎌田', '神泉町', '小川東', '入間町', '深沢', '佐賀', '赤羽西', '柳窪', '北馬込', '平沢字西平', '上水本町', '江原町', '月島', '旭が丘', '南陽台', '井草', '北新宿', '今戸', '池袋本町', '篠崎町', '伊奈字北伊奈前', '天神町', '南雪谷', '西新橋', '東伏見', '境南町', '中台', '大字熊川字武蔵野', '神田岩本町', '本天沼', '西分町', '中葛西', '大賀郷', '和泉本町', '山市富士見町', '初台', '千住曙町', '大字百村字三号', 'つくし野', '東池袋', '西中延', '大森中', '本宿町', '高倉町', '小柳町', '北葛西', '中延', '赤坂', '田中町', '町屋', '小山町字二十三号', '大蔵町字大蔵', '大字矢野口字塚戸', '久我山', '東馬込', '深大寺元町', '六月', '大山町', '平尾', '白糸台', '仲町', '泉', 'むさし野', '神田紺屋町', '一ツ家', '岸町', '高野台', '神田錦町', '西瑞江', '東糀谷', '八重洲', '中央町', '玉川町', '武蔵台', '小石川', '江古田', '中村南', '相生町', '一之江', '市谷左内町', '駒沢', '神宮前', '東五反田', '横川', '住吉町', '柳沢', '上原', '西伊興', '秋留', '中野町', '西亀有', '関原', '山市伊奈平', '千歳台', '二葉', '高島平', '岩戸南', '寿', '大字坂浜字八号', '桃井', '南田中', '大宮', '宝町', '南葛西', '神明', '幸町', '津田町', '山市岸', '目黒本町', '西蒲田', '喜多見', '野塩', '曙町', '仲六郷', '東中延', '日本橋', '西浅草', '立花', '上高井戸', '東保木間', '喜久井町', '四つ木', '東砂', '保谷町', '西保木間', '日新町', '桜が丘', '鹿骨', '東雲', '北野', '下恩方町', '市川崎', '東山', '堀切', '中丸町', '大島', '押立町', '東元町', '旭町', '湖畔', '清新町', '保塚町', '上壱分方町', '大字熊川字東', '本郷', '師岡町', '上井草', '興宮町', '栄町', '中', '北烏山', '愛宕', '中落合', '祖師谷', '鷹番', '山市神明', '上池台', '鹿浜', '前沢', '芝浦', '関町北', '西新宿', '西ケ原', '山市廻田町', '阿佐谷南', '白金台', '山王', '南大塚', '亀戸', '戸吹町', '松島', '大谷口', '上高田', '小茂根', '関口', '舎人', '大字和田字十三号', '丸の内', '大谷田', '九段南', '錦糸', '大字東長沼字一号', '石神井町', '山市多摩湖町', '飛田給', '両国', '南大谷字十一号', '野津田町字暖沢前', '本町田字乙九号', '伊奈字新宿', '程久保', '大字長岡長谷部字中平', '本町田字八号', '府中町', '大山東町', '上川原町', '金森東', '桜台', '谷在家', '弘道', '北篠崎', '大森南', '草花字山ノ神', '王子本町', '佃', '弥生町', '舟町', '大字大丸字四号', '西巣鴨', '高円寺北', '宮前', '中央', '芋窪', '奥沢', '東山町', '森下', '沼袋', '新川町', '高木町', '宮坂', '富士見台', '大字落川字十九号', '柴崎', 'みなみ野', '上十条', '下小山田町字関村', '武蔵野台', '多摩川', '千住緑町', '大手町', '市栄町', '東十条', '天沼', '東品川', '千駄木', '市谷仲之町', '南池袋', '馬場下町', '北砂', '内神田', '鍛冶町', '駒込', '西府町', '大字矢野口字根方', '大崎', '大谷町', '三根', '高ヶ坂', '本町田字一号', '能ヶ谷', '中原', '渋谷', '裏高尾町', '分梅町', '貫井', '大原', '六町', '虎ノ門', '三軒茶屋', '北野町', '百草', '錦町', '有楽町', '古石場', '子安町', '日本橋本町', '島根', '青井', '等々力', '新富', '日野台', '西砂町', '新井', '大岡山', '若葉', '八丁堀', '谷戸町', '平河町', '芝', '高松', '洗足', '浅草', '上砂町', '西竹の塚', '大字谷保字栗原', '清水が丘', '千ヶ瀬町', 'たかの台', '下清戸', '代田', '大泉町', '犬目町', '大字押立字稲荷島', '豊田', '大字矢野口字松葉', '下高井戸', '原町', '竹の塚', '小川', '若松町', '今井', '平井', '藤橋', '永山', '矢部町字二十五号', '神着', '北大塚', '新堀', '小和田字北ノ前', '学園西町', '太子堂', '西五反田', '相原町字中ケ谷戸', '山市久米川町', '早宮', '中町', '牟礼', 'みつい台', '東和', '片倉町', '三輪町字七号', '仲池上', '小日向', '浅間町', '西平山', '若宮', '昭和町', '六木', '富士本', '成田東', '平沢東', '山市本町', '白金', '椚田町', '境', '弦巻', '大字箱根ケ崎字池廻り', '尾山台', '新宿', '新蒲田', '大字平井字東本宿', '中井', '東田端', '清澄', '上祖師谷', '南蒲田', '船橋', '井の頭', '立野', '南品川', '三園', '西馬込', '富岡', '忠生', '下里', '大字和田', '宇田川町', '長淵', '草花字羽ケ田', '二宮字森腰', '代沢', '東浅川町', '丸山町', '東', '前原町', '鷺宮', '柿の木坂', '西久保', '和田', '小竹町', '栗原', '関前', '中神町', '貫井南町', '学園町', '吉祥寺北町', '板橋', '平町', '飯田橋', '南常盤台', '八雲台', '要町', '南六郷', '神山町', '越野', '成瀬台', '日本橋小伝馬町', '堀之内', '東大井', '平塚', '友田町', '西元町', '東新橋', '大字熊川字北', '元赤坂', '東小松川', '柴又', '山市秋津町', '永田町', '大字熊川字南', '市羽中', '大蔵', '山市恩多町', '関町南', '泉町', '上中里', '勝沼', '中馬込', '西大井', '聖ケ丘', '神楽坂', '上用賀', '深大寺東町', '別所', '高井戸西', '西早稲田', '東坂下', '西水元', '相原町字大戸', '永福', '富士見町', '大井', '南大沢', '元代々木町', '南田園', '大字和田字二十一号', '日本橋蛎殻町', '臨海町', '下落合', '箱根ケ崎東松原', '万願寺', '宮城', '玉川田園調布', '上池袋', '高砂', '南沢', '白鷺', '麹町', '柳橋', '丹木町', '三輪緑山', '元麻布', '東戸倉', '本一色', '東日暮里', '新川', '下目黒', '下井草', '富久町', '大字百村字十七号', '水道町', '散田町', '神田神保町', '神田猿楽町', '中目黒', '南青山', '図師町字一号', '山市諏訪町', '羽田', '立石', '西荻北', '上柚木字十六号', '住吉', '矢来町', '佐野', '大字東長沼字七号', '辰沼', '上篠崎', '大久保', '明神町', '東矢口', '戸倉字西戸倉', '築地', '東中野', '野上町', '梅園', '西新井', '銀座', '蔵前', '西原町', '大字箱根ケ崎字狭山', '江東橋', '旗の台', '市富士見平', '高松町', '西町', '上水新町', '西野川', '市羽西', '野辺字宅地附', '池袋', '南街', '吉祥寺南町', '池上', '二番町', '大字大丸字八号', '白山', '鎌倉', '松ノ木', '山市残堀', '下保谷', '南台', '立野町', '長房町', '桜町', '中里', '奈良橋', '上小山田町字十三号', '中央本町', '砂川町', '北町', '芝久保町', '高木', '三輪町字三号', '下宿', '大字大久野字萱窪', '百人町', '日本橋富沢町', '梅島', '浮間', '千住橋戸町', '大字新井', '東町', '市谷本村町', '美堀町', '霞が関', '下柚木字十七号', '南千束', '坂下', '皿沼', '小宮町', '東嶺町', '東駒形', '光町', '大門', '北', '東恋ケ窪', '成瀬が丘', '本町', '王子', '南大泉', '上目黒', '仲宿', '高尾字橋本', '南小岩', '留原字中村', '豪徳寺', '蓮根', '南野', '青戸', '西一之江', '関戸', '金井', '花小金井南町', '本村', '上石原', '新田', '台東', '美山町', '引田字静ノ郷', '千住龍田町', '西品川', '小菅', '北山町', '南烏山', '港南', '柴崎町', '桜ケ丘', '久保山町', '桜上水', '真光寺', '田柄', '千鳥', '日本堤', '井口', '道玄坂', '大字平井字三吉野欠上', '御幸町', '貫井北町', '相原町字川島', '上連雀', '江戸川', '上水南町', '小曾木', '浜田山', '神田小川町', '羽沢', '東葛西', '仙川町', '荒川', '南水元', '石川町', '菊野台', '図師町字八号', '中清戸', '中野', '愛住町', '諏訪町', '東麻布', '東金町', '木場', '小山台', '海岸', '市緑ヶ丘', '金森', '原小宮', '下石神井', '松山', '大橋', '高田馬場', '信濃町', '神谷', '小山ヶ丘', '大楽寺町', '日本橋箱崎町', '世田谷', '南平台町', '錦', '元横山町', '諏訪', '日本橋馬喰町', '前野町', '高井戸東', '亀沢', '下石原', '伊興本町', '善福寺', '中板橋', '東六郷', '綾瀬', '上落合', '大森西', '舘谷字追原', '落川', '荻窪', '山市栄町', '池之端', '北品川', '絹ケ丘', '雑司が谷', '野沢', '保木間', '日野本町', '西葛西', '蒲田', '水元', '宮町', '外神田', '麻布十番', '上馬', '貝取', '川町', '菅生字上', '羽衣町', '豊玉北', '紀尾井町', '深大寺', '梅丘', '浅草橋', '矢口', '目白台', '細田', '小豆沢', '玉川学園', '瀬田', '江北', '上野桜木', '緑ケ丘', '原町田', '恵比寿', '東松本', '徳丸', '麻布台', '東綾瀬', '足立', '十条仲原', '東玉川学園', '明石町', '鶴川', '古千谷本町', '竹丘', '堀ノ内', '歌舞伎町', '並木町', '父島字奥村', '駒井町', '大沼町', '祐天寺', '多磨町', '練馬', '豊玉中', '北上野', '春日町', '金井町字二十号', '宮下町', '春江町', '広尾', 'ひばりが丘北', '雷門', '武蔵野', '西大泉', '北千束', '京橋', '下篠崎町', '自由が丘', '高橋', '佐須町', '巣鴨', '中野上町', '元町', '神田佐久間町', '塩浜', '梶野町', '下丸子', '千駄ヶ谷', '吉祥寺本町', '高輪', '郷地町', '梅郷', '楢原町', '八幡町', '大字高根字高根下', '三沢', '長沼町', '木曽東', '滝野川', '八潮', '河辺町', '清水', '日向和田', '大蔵町字関山', '大字平井字三吉野桜木', '赤城下町', '赤羽北', '拝島町', '叶谷町', '桜', '碑文谷', '一番町', '西', '東大泉', '三宿', '南平', '是政', '高円寺南', '野毛', '千川', '山市中原', '大塚', '上柚木字四号', '豊島', '西糀谷', '若木', '日本橋茅場町', '大字矢野口字宿', '一ツ橋', '湯島', '山市野口町', '北青山', '入船', '山市大南', '元八王子町', '瀬戸岡字天神前', '成瀬', '辰巳', '山田字上分', '花畑', '千住旭町', '国領町', '山市萩山町', '南長崎', '亀有', '吉祥寺東町', '三田', '根津', '木曽西', '岩戸北', '桜堤', '用賀', '喜平町', '西荻南', '三筋', '唐木田', '扇', '墨田', '初沢町', '東小岩', '上大崎', '城南島', '平野', '大字大丸字七号', '西恋ケ窪', '中川', '土支田', '荏原', '北野台', '八雲', '内幸町', '阿古', '小山町', '山市青葉町', '緑が丘', '五本木', '中野山王', '東つつじケ丘', '新小岩', '下馬', '業平', '常盤台', '打越町', '寺田町', '福島町', '御殿山', '田端新町', '平山', '大泉学園町', '成城', '相原町字丸山', '経堂', '大柳町', '加平', '田無町', '方南', '東神田', 'めじろ台', '上野毛', '南大谷字十五号', '上北沢', '晴海', '本木北町', '平和台', '柚木町', '山市中央', '三原台', '日本橋人形町', '大字坂浜字四十二号', '南砂', '南成瀬', '中和泉', 'お花茶屋', '大字殿ケ谷字狭山平', '大字日野', '青葉台', '岩本町', '早稲田鶴巻町', '奥戸', '東尾久', '松木', '目白', '西片', '森野', '西麻布', '千住', '千石', '西新井栄町', '大和田町', '小野路町字町田', '谷原', '大字押立字中関', '西日暮里', '牛浜', '駒木町', '円山町', '三崎町', '西小岩', '市小作台', '目黒', '東新町', '大山金井町', '神田司町', '小山町字八号', '滝山町', '石神井台', '山市美住町', '押上', '紅葉丘', '新河岸', '根ヶ布', '滝山', '玉川', '四谷坂町', '和泉', '千早', '裏宿町', '堀船', '日本橋室町', '北加平町', '石島', '高尾町', '小比企町', '向原', '回田町', '調布ケ丘', '上野町', '北原町', '鶴牧', '大和町', '六本木', '豊洲', '南つくし野', '松原', '東陽', '阿佐谷北', '南大井', '緑', '川口町', '本町田字十二号', '山市学園', '南千住', '南荻窪', '金町', '絹ヶ丘', '父島字東町', '西落合', '布田', '八広', '日本橋中洲', '下柚木', '平岡町', '鶴間', '一ノ宮', '南元町', '豊玉上', '青柳', '若葉台', '深大寺北町', '金井町字十七号', '笹塚', '上北台', '小山町字十二号', '恵比寿南', '雪谷大塚町', '大京町', '大森東', '大字箱根ケ崎字武蔵野', '京島', '向丘', '金井町字二十三号', '牡丹', '野津田町字綾部', '谷中', '桜丘町', '晴見町', '小川町', '千住元町', '市双葉町', '日本橋兜町', '弥生', '中村北', '砧', '狭間町', '学園東町', '西新小岩', '東本町', '西池袋', '向山', '神田相生町', '乞田', '清川町', '和田町', '連光寺', '赤堤', '秋川', '向台町', '千住寿町', '四谷', '東立石', '草花字折立下タ', '上石神井', '市羽字玉川附', '今川', '差木地字下原', '田園調布', '余丁町', '成田西', '三番町', '舟渡', '千駄ケ谷', '入谷', '本多', '小山', '東和泉', '春日', '上野', '中十条', '常盤町字二十三号', '向島', '弐分方町', '横川町', '朝日町', '小野路町字栗ケ沢', '染地', '成木', '堀之内字三号', '豊町', '館町', '東雪谷', '南麻布', '市谷砂土原町', '日本橋浜町', '大字平井字三吉野下平井', '神宝町', '山市三ツ藤', '高田', '草花字小宮久保', '芝大門', '田園調布南', '勝どき', '大沢', '浜松町', '大杉', '竜泉', '元本郷町', '松江', '東豊田', '高幡', '父島字西町', '富士町', '桜丘', '氷川台', '船堀', '戸越', '西尾久', '大字福生字武蔵野', '北小岩', '中根', '東新小岩', '若葉町', '大字東長沼字四号', '梅坪町', '大字二本木字南長田', '稲荷台', '水道', '上鷺宮', '宇奈根', '神田三崎町', '大字福生字奈賀', '小川東町', '花小金井', '六番町', '西浅川町', '富士見', '東上野', '根岸', '瑞江', '沢井', '上荻', '東瑞江', '横山町', '南篠崎町', '立川', '恵比寿西', '中之郷', '神田駿河台', 'ひばりが丘', '野方', '加賀', '美好町', '駒場', '落合', '神南', '給田', '下連雀', '緑町', '松濤', '西つつじケ丘', '東野川', '赤羽', '鈴木町', '松原町', '大字平井字三吉野下原', '千住柳町', '向陽台', '東海', '大字東長沼字五号', '仲原', '東玉川', '志村', '岩淵町', '台町', '久が原', '西が丘', '本町田字乙三号', '若林', '西寺方町', '柏町', '本駒込', '雨間字澤田', '大坂上', '赤塚', '大字東長沼字六号', '上柚木字十一号', '馬引沢', '相原町字七国', '成増', '大字大久野字落合', '九段北', '野崎', '北沢', '暁町', '音羽', '日本橋久松町', '西綾瀬', '大森北', '多摩平', '羽根木', '志茂', '松庵', '岡本', '桜新町', '池尻', '代々木', '本所', '田端', '文花', '小島町', '小川西町', '若郷', '蒲田本町', '新橋', '千歳', '小島', '南町田', '長岡', '美園町', '南馬込', '後楽', '有明', '大字箱根ケ崎字宿東', '山吹町', '粕谷', '新町'}\n"
     ]
    }
   ],
   "source": [
    "print(district_set)"
   ]
  },
  {
   "cell_type": "code",
   "execution_count": 67,
   "metadata": {},
   "outputs": [],
   "source": [
    "t_distr_set = set(train_df['地区名'].unique())"
   ]
  },
  {
   "cell_type": "code",
   "execution_count": 91,
   "metadata": {},
   "outputs": [
    {
     "name": "stdout",
     "output_type": "stream",
     "text": [
      "1066 1455\n"
     ]
    }
   ],
   "source": [
    "print(len(district_set), len(t_distr_set))"
   ]
  },
  {
   "cell_type": "code",
   "execution_count": 92,
   "metadata": {},
   "outputs": [
    {
     "data": {
      "text/plain": [
       "1055"
      ]
     },
     "execution_count": 92,
     "metadata": {},
     "output_type": "execute_result"
    }
   ],
   "source": [
    "len(district_set & t_distr_set)"
   ]
  },
  {
   "cell_type": "code",
   "execution_count": 93,
   "metadata": {},
   "outputs": [
    {
     "name": "stdout",
     "output_type": "stream",
     "text": [
      "['', '丸の内', '内幸町', '千駄ヶ谷', '大', '大手町', '日野', '熊川', '神田相生町', '福生', '絹ヶ丘']\n",
      "[nan, '尾崎町', '上代継', '矢崎町', '市谷台町', '丸山', '山崎', '田園調布本町', '大字富士山栗原新田', '神田練塀町', '今寺', '日原', '式根島', '門前仲町', '四葉', '大丹波', '丹三郎', '白河', '大谷口上町', '棚澤', '大字長岡下師岡', '深川', '横網', '関町東', '宇津貫町', '南山伏町', '大神町', '八日町', '平和島', '大字福生二宮', '東墨田', '西片倉', '豊海町', '神戸', '蔵敷', '宇喜田町', '本羽田', '上ノ台', '三内', '神田東紺屋町', '市谷甲良町', '神田鍛冶町', '日本橋本石町', '西六郷', '扇橋', '白丸', '堤通', '川井', '椿', '須賀町', '西成瀬', '大字箱根ケ崎', '羽加美', '神田東松下町', '大字川辺堀之内', '天ヶ瀬町', '大船町', '樫立', '上清戸', '小台', '西台', '原', '西加平', '上恩方町', '寺町', '京浜島', '桐ケ丘', '袋町', '末吉', '改代町', '西原', '下元郷', '麻布永坂町', '代官山町', '南', '字名組山', '元和泉', '三ノ輪', '鉢山町', '千住仲町', '日ノ出町', '薬師台', '赤城元町', '三好', '日本橋小網町', '新木場', '隼町', '千住桜木', '市谷柳町', '中藤', '谷河内', '下谷', '南久が原', '切欠', '枝川', '勝島', '津久戸町', '渕上', '八幡山', '小中野', '日鋼町', '千田', '東蒲田', '清川', '新大橋', '日吉町', '油平', '木野下', '小丹波', '伊興', '五番町', '払方町', '大字殿ケ谷', '広袴町', '吹上', '榎', '寿町', '日本橋大伝馬町', '湊', '北糀谷', '東榎町', '西和泉', '玉堤', '赤羽南', '波浮港', '小松川', '猿楽町', '片町', '小山田桜台', '橋場', '一之江町', '白銀町', '大字福生', '左門町', '五ノ神', '上町', '本郷町', '三都郷', '谷野町', '広袴', '追分町', '細工町', '市谷田町', '兵衛', '小峰台', '永代', '坪田', '常盤', '御岳本町', '菊川', '戸塚町', '神田北乗物町', '大山西町', '大字二本木', '萩中', '東堀切', '三ツ木', '千住関屋町', '左入町', '東が丘', '本宿', '神田松永町', '万町', '平沢西', '大字武蔵', '東寺方', '上川町', '金山町', '若洲', '小沢', '桜川', '日本橋横山町', '赤羽台', '早稲田南町', '神明南', '中沢', '狭山', '大字上田', '上元郷', '元浅草', '五日市', '氷川町', '横沢', '神明台', '宮西町', '築地町', '神田和泉町', '高月町', '水元公園', '東水元', '市谷山伏町', '氷川', '大字新井', '二宮東', '梅里', '千住河原町', '海辺', '大字石田', '鹿島', '西新井本町', '海澤', '千住中居町', '石田', '大原町', '塩船', '赤塚新町', '鹿骨町', '箪笥町', '乙津', '神田淡路町', '松が丘', '岩戸町', '清水町', '市谷鷹匠町', '山崎町', '（大字なし）', '七国', '東篠崎', '若宮町', '神田美土代町', '新砂', '木曽町', '潮見', '四谷町', '上一色', '滝ノ上町', '畑中', '広町', 'つつじが丘', '千束', '鵜の木', '中里町', '大字大久野', '八木町', '西神田', '吾妻橋', '麻布狸穴町', '上野公園', '東向島', '代々木神園町', '北山伏町', '山田町', '東五軒町', '市谷加賀町', '上の原', '戸山', '上石神井南町', '柳原', '牛沼', '人里', '田町', '西五軒町', '本木南町', '四番町', '大字高根', '富ケ谷', '内藤町', '早稲田町', '日本橋堀留町', '大字宮', '留浦', '大門町', '幡ケ谷', '興野', '弁天町', '神田富山町', '本木', '花川戸', '松が谷', '日本橋小舟町', '宮本町', '豊ケ丘', '廿里町', '養沢', '加美平', '市谷薬王寺町', '宮沢町', '関野町', '越中島', '大字石畑', '野火止', '東平山', '東四つ木', '太平', '網代', '梅田', '中村', '真光寺町', '二俣尾', '清原', '西小松川町', '小門町', '山王下', '松本', '荒木町', '納戸町', '住江町', '筑土八幡町', '城山手', '玉川台', '南浅川町', '大字日野', '揚場町', '入野', '市谷長延寺町', '東六月町', '猿江', '南榎町', '西篠崎', '下代継', '北田園', '神田佐久間河岸', 'ひばりが丘団地', '根岸町', '駒形', '河田町', '羽田旭町', '大谷口北町', '長崎', '大字平井', '神田美倉町', '横寺町', '台場', '加住町', '矢川', '鳥越', '市谷八幡町', '樋里', '西大泉町', '母島', '本木東町', '末広町', '市谷船河原町', '神田西福田町', '小津町', '大字長岡長谷部', '大横町', '深大寺南町', '千住大川町', '内藤', '中島町', '羽東', '福住', '昭和島', '御岳', '青海', '四谷本塩町', '神田須田町', '泉津', '箱根ケ崎西松原', '毛利', '光が丘', '白鳥', '黒沢', '北嶺町', '南郷', '大字熊川', '秋葉原', '十条台', '東浅草', '東芝町', '東日本橋', '大森本町', '芝公園', '森下町', '鶯谷町', '神田多町', '南新町', '二十騎町', '本木西町', '熊野町', '野増', '伊ヶ谷', '岡田', '梅澤', '長峰', '谷野', '宇津木町', '中山', '旭丘', '南花畑', '猪方', '千住東', '千住宮元町', '新小川町', '千人町', '大字駒形富士山', '石原', '鑓水', '西嶺町', '冬木', '榎町', '字金長', '伊豆', '野水', '字鉄砲場', '下宮比町', '東伊興', '豊玉南', '二之江町']\n"
     ]
    }
   ],
   "source": [
    "print(sorted(list(district_set - t_distr_set)))\n",
    "print(list(t_distr_set - district_set))"
   ]
  },
  {
   "cell_type": "code",
   "execution_count": 94,
   "metadata": {},
   "outputs": [
    {
     "name": "stdout",
     "output_type": "stream",
     "text": [
      "大字福生二宮\n",
      "大字福生\n"
     ]
    }
   ],
   "source": [
    "for s in t_distr_set:\n",
    "    if type(s) is float:\n",
    "        continue\n",
    "    if \"大字福生\" in s:\n",
    "        print(s)"
   ]
  },
  {
   "cell_type": "code",
   "execution_count": 99,
   "metadata": {},
   "outputs": [],
   "source": [
    "not_match = ['尾崎町', '上代継', '矢崎町', '市谷台町', '丸山', '山崎', '田園調布本町', '大字富士山栗原新田', '神田練塀町', '今寺', '日原', '式根島', '門前仲町', '四葉', '大丹波', '丹三郎', '白河', '大谷口上町', '棚澤', '大字長岡下師岡', '深川', '横網', '関町東', '宇津貫町', '南山伏町', '大神町', '八日町', '平和島', '大字福生二宮', '東墨田', '西片倉', '豊海町', '神戸', '蔵敷', '宇喜田町', '本羽田', '上ノ台', '三内', '神田東紺屋町', '市谷甲良町', '神田鍛冶町', '日本橋本石町', '西六郷', '扇橋', '白丸', '堤通', '川井', '椿', '須賀町', '西成瀬', '大字箱根ケ崎', '羽加美', '神田東松下町', '大字川辺堀之内', '天ヶ瀬町', '大船町', '樫立', '上清戸', '小台', '西台', '原', '西加平', '上恩方町', '寺町', '京浜島', '桐ケ丘', '袋町', '末吉', '改代町', '西原', '下元郷', '麻布永坂町', '代官山町', '南', '字名組山', '元和泉', '三ノ輪', '鉢山町', '千住仲町', '日ノ出町', '薬師台', '赤城元町', '三好', '日本橋小網町', '新木場', '隼町', '千住桜木', '市谷柳町', '中藤', '谷河内', '下谷', '南久が原', '切欠', '枝川', '勝島', '津久戸町', '渕上', '八幡山', '小中野', '日鋼町', '千田', '東蒲田', '清川', '新大橋', '日吉町', '油平', '木野下', '小丹波', '伊興', '五番町', '払方町', '大字殿ケ谷', '広袴町', '吹上', '榎', '寿町', '日本橋大伝馬町', '湊', '北糀谷', '東榎町', '西和泉', '玉堤', '赤羽南', '波浮港', '小松川', '猿楽町', '片町', '小山田桜台', '橋場', '一之江町', '白銀町', '大字福生', '左門町', '五ノ神', '上町', '本郷町', '三都郷', '谷野町', '広袴', '追分町', '細工町', '市谷田町', '兵衛', '小峰台', '永代', '坪田', '常盤', '御岳本町', '菊川', '戸塚町', '神田北乗物町', '大山西町', '大字二本木', '萩中', '東堀切', '三ツ木', '千住関屋町', '左入町', '東が丘', '本宿', '神田松永町', '万町', '平沢西', '大字武蔵', '東寺方', '上川町', '金山町', '若洲', '小沢', '桜川', '日本橋横山町', '赤羽台', '早稲田南町', '神明南', '中沢', '狭山', '大字上田', '上元郷', '元浅草', '五日市', '氷川町', '横沢', '神明台', '宮西町', '築地町', '神田和泉町', '高月町', '水元公園', '東水元', '市谷山伏町', '氷川', '大字新井', '二宮東', '梅里', '千住河原町', '海辺', '大字石田', '鹿島', '西新井本町', '海澤', '千住中居町', '石田', '大原町', '塩船', '赤塚新町', '鹿骨町', '箪笥町', '乙津', '神田淡路町', '松が丘', '岩戸町', '清水町', '市谷鷹匠町', '山崎町', '（大字なし）', '七国', '東篠崎', '若宮町', '神田美土代町', '新砂', '木曽町', '潮見', '四谷町', '上一色', '滝ノ上町', '畑中', '広町', 'つつじが丘', '千束', '鵜の木', '中里町', '大字大久野', '八木町', '西神田', '吾妻橋', '麻布狸穴町', '上野公園', '東向島', '代々木神園町', '北山伏町', '山田町', '東五軒町', '市谷加賀町', '上の原', '戸山', '上石神井南町', '柳原', '牛沼', '人里', '田町', '西五軒町', '本木南町', '四番町', '大字高根', '富ケ谷', '内藤町', '早稲田町', '日本橋堀留町', '大字宮', '留浦', '大門町', '幡ケ谷', '興野', '弁天町', '神田富山町', '本木', '花川戸', '松が谷', '日本橋小舟町', '宮本町', '豊ケ丘', '廿里町', '養沢', '加美平', '市谷薬王寺町', '宮沢町', '関野町', '越中島', '大字石畑', '野火止', '東平山', '東四つ木', '太平', '網代', '梅田', '中村', '真光寺町', '二俣尾', '清原', '西小松川町', '小門町', '山王下', '松本', '荒木町', '納戸町', '住江町', '筑土八幡町', '城山手', '玉川台', '南浅川町', '大字日野', '揚場町', '入野', '市谷長延寺町', '東六月町', '猿江', '南榎町', '西篠崎', '下代継', '北田園', '神田佐久間河岸', 'ひばりが丘団地', '根岸町', '駒形', '河田町', '羽田旭町', '大谷口北町', '長崎', '大字平井', '神田美倉町', '横寺町', '台場', '加住町', '矢川', '鳥越', '市谷八幡町', '樋里', '西大泉町', '母島', '本木東町', '末広町', '市谷船河原町', '神田西福田町', '小津町', '大字長岡長谷部', '大横町', '深大寺南町', '千住大川町', '内藤', '中島町', '羽東', '福住', '昭和島', '御岳', '青海', '四谷本塩町', '神田須田町', '泉津', '箱根ケ崎西松原', '毛利', '光が丘', '白鳥', '黒沢', '北嶺町', '南郷', '大字熊川', '秋葉原', '十条台', '東浅草', '東芝町', '東日本橋', '大森本町', '芝公園', '森下町', '鶯谷町', '神田多町', '南新町', '二十騎町', '本木西町', '熊野町', '野増', '伊ヶ谷', '岡田', '梅澤', '長峰', '谷野', '宇津木町', '中山', '旭丘', '南花畑', '猪方', '千住東', '千住宮元町', '新小川町', '千人町', '大字駒形富士山', '石原', '鑓水', '西嶺町', '冬木', '榎町', '字金長', '伊豆', '野水', '字鉄砲場', '下宮比町', '東伊興', '豊玉南', '二之江町'"
   ]
  },
  {
   "cell_type": "code",
   "execution_count": 101,
   "metadata": {
    "collapsed": true,
    "jupyter": {
     "outputs_hidden": true
    }
   },
   "outputs": [
    {
     "name": "stdout",
     "output_type": "stream",
     "text": [
      "東京都　あきる野市留原字中村７６１番８ 原\n",
      "東京都　あきる野市留原字中村７６１番８ 中村\n",
      "東京都　青梅市和田町２丁目１６２番４外 田町\n",
      "東京都　あきる野市舘谷字追原１４２番１６外 原\n",
      "東京都　西多摩郡日の出町大字大久野字萱窪８７３番２５ 大字大久野\n",
      "東京都　西多摩郡日の出町大字大久野字落合１１０番１４ 大字大久野\n",
      "東京都　西多摩郡日の出町大字平井字東本宿２０２４番７ 本宿\n",
      "東京都　西多摩郡日の出町大字平井字東本宿２０２４番７ 大字平井\n",
      "東京都　西多摩郡日の出町大字平井字三吉野下平井１０５８番１ 大字平井\n",
      "東京都　西多摩郡日の出町大字平井字三吉野桜木２０９番３ 大字平井\n",
      "東京都　西多摩郡日の出町大字平井字三吉野欠上１７番４ 大字平井\n",
      "東京都　西多摩郡日の出町大字平井字三吉野下原３５番６ 原\n",
      "東京都　西多摩郡日の出町大字平井字三吉野下原３５番６ 大字平井\n",
      "東京都　青梅市友田町５丁目４５５番３ 田町\n",
      "東京都　八王子市大楽寺町２１９番４ 寺町\n",
      "東京都　町田市相原町字大戸４６４０番２外 原\n",
      "東京都　青梅市友田町１丁目１２０８番外 田町\n",
      "東京都　青梅市野上町３丁目２０番３３ 上町\n",
      "東京都　あきる野市原小宮１丁目３番２２ 原\n",
      "東京都　八王子市楢原町１５１０番１６ 原\n",
      "東京都　八王子市散田町５－１３－８ 田町\n",
      "東京都　町田市相原町字川島３１６５番３ 原\n",
      "東京都　八王子市椚田町５６８番８ 田町\n",
      "東京都　八王子市楢原町５１４番５ 原\n",
      "東京都　八王子市楢原町４３３番８ 原\n",
      "東京都　八王子市楢原町４７３番２ 原\n",
      "東京都　八王子市寺田町７６４番２ 田町\n",
      "東京都　八王子市散田町３－６－２１ 田町\n",
      "東京都　八王子市清川町１７番３ 清川\n",
      "東京都　八王子市寺田町２５９番５ 田町\n",
      "東京都　八王子市椚田町５１３番１４ 田町\n",
      "東京都　八王子市元本郷町４－７－４ 本郷町\n",
      "東京都　町田市相原町字七国２２９４番 原\n",
      "東京都　町田市相原町字七国２２９４番 七国\n",
      "東京都　八王子市散田町２－３２－２ 田町\n",
      "東京都　八王子市元本郷町２－１８－４ 本郷町\n",
      "東京都　八王子市中野上町３－３６－１０ 上町\n",
      "東京都　福生市大字福生字奈賀１１７３番５ 大字福生\n",
      "東京都　八王子市中野上町１－３２－２０ 上町\n",
      "東京都　町田市相原町字丸山１８０６番３８ 丸山\n",
      "東京都　町田市相原町字丸山１８０６番３８ 原\n",
      "東京都　八王子市中野上町１－１５－１８ 上町\n",
      "東京都　福生市大字福生字奈賀７６７番５外 大字福生\n",
      "東京都　西多摩郡瑞穂町大字長岡長谷部字中平３６２番２０ 大字長岡長谷部\n",
      "東京都　福生市南田園３丁目６番１２ 南\n",
      "東京都　福生市大字熊川字南４３番４ 南\n",
      "東京都　福生市大字熊川字南４３番４ 大字熊川\n",
      "東京都　西多摩郡瑞穂町大字箱根ケ崎字武蔵野９６７番 大字箱根ケ崎\n",
      "東京都　町田市相原町字中ケ谷戸８５７番４１ 原\n",
      "東京都　福生市大字福生字武蔵野２３２２番２１ 大字福生\n",
      "東京都　福生市大字熊川字東２６２番２２ 大字熊川\n",
      "東京都　福生市大字熊川字北５８３番１外 大字熊川\n",
      "東京都　福生市大字福生字武蔵野２２６３番８ 大字福生\n",
      "東京都　福生市大字熊川字北８５３番１８外 大字熊川\n",
      "東京都　西多摩郡瑞穂町箱根ケ崎東松原３１番４ 原\n",
      "東京都　西多摩郡瑞穂町南平２丁目３８番８ 南\n",
      "東京都　昭島市松原町５－１０－５ 原\n",
      "東京都　福生市大字熊川字武蔵野１７０８番１５外 大字熊川\n",
      "東京都　西多摩郡瑞穂町大字箱根ケ崎字池廻り５２０番８ 大字箱根ケ崎\n",
      "東京都　西多摩郡瑞穂町大字箱根ケ崎字狭山２９５番４ 大字箱根ケ崎\n",
      "東京都　西多摩郡瑞穂町大字箱根ケ崎字狭山２９５番４ 狭山\n",
      "東京都　西多摩郡瑞穂町大字箱根ケ崎字狭山１６１番４ 大字箱根ケ崎\n",
      "東京都　西多摩郡瑞穂町大字箱根ケ崎字狭山１６１番４ 狭山\n",
      "東京都　西多摩郡瑞穂町大字箱根ケ崎字狭山１８８番６ 大字箱根ケ崎\n",
      "東京都　西多摩郡瑞穂町大字箱根ケ崎字狭山１８８番６ 狭山\n",
      "東京都　八王子市丸山町１６番４ 丸山\n",
      "東京都　八王子市大和田町３－１７－４ 田町\n",
      "東京都　西多摩郡瑞穂町大字箱根ケ崎字宿東２３６５番４ 大字箱根ケ崎\n",
      "東京都　八王子市大和田町４－８－８ 田町\n",
      "東京都　西多摩郡瑞穂町大字二本木字南長田１０３４番１１ 南\n",
      "東京都　西多摩郡瑞穂町大字二本木字南長田１０３４番１１ 大字二本木\n",
      "東京都　西多摩郡瑞穂町大字二本木字南長田１０３４番１１ 本木\n",
      "東京都　八王子市大和田町４－３２－４ 田町\n",
      "東京都　西多摩郡瑞穂町大字殿ケ谷字狭山平８８４番３ 大字殿ケ谷\n",
      "東京都　西多摩郡瑞穂町大字殿ケ谷字狭山平８８４番３ 狭山\n",
      "東京都　西多摩郡瑞穂町大字高根字高根下１５８番７ 大字高根\n",
      "東京都　武蔵村山市中原２丁目１０番１４ 原\n",
      "東京都　昭島市上川原町１－２０－５ 原\n",
      "東京都　八王子市南陽台１－１４－１０ 南\n",
      "東京都　八王子市南大沢２丁目１８番１０ 南\n",
      "東京都　日野市南平６丁目２０番１５ 南\n",
      "東京都　町田市常盤町字二十三号３２５３番４外 常盤\n",
      "東京都　町田市上小山田町字十三号１８７２番 山田町\n",
      "東京都　町田市上小山田町字十三号１８７２番 田町\n",
      "東京都　日野市南平５丁目１８番２９外 南\n",
      "東京都　日野市南平２丁目５１番２ 南\n",
      "東京都　武蔵村山市大南１丁目１５８番１ 南\n",
      "東京都　武蔵村山市大南２丁目６７番３ 南\n",
      "東京都　日野市大字日野４１６番２外 大字日野\n",
      "東京都　武蔵村山市大南５丁目１０番３ 南\n",
      "東京都　町田市下小山田町字関村２２７番４外 山田町\n",
      "東京都　町田市下小山田町字関村２２７番４外 田町\n",
      "東京都　日野市大字日野７７７３番１５６ 大字日野\n",
      "東京都　日野市大字新井８６３番１１４ 大字新井\n",
      "東京都　東大和市南街３丁目４１番７ 南\n",
      "東京都　東大和市南街５丁目７３番２ 南\n",
      "東京都　国立市大字谷保字栗原６０６９番１ 原\n",
      "東京都　多摩市南野２丁目７番３ 南\n",
      "東京都　東大和市南街１丁目３７番２ 南\n",
      "東京都　東大和市南街５丁目９５番６ 南\n",
      "東京都　東大和市仲原４丁目１１番１１ 原\n",
      "東京都　大島町差木地字下原１０１３番４３ 原\n",
      "東京都　東大和市仲原３丁目４番１７ 原\n",
      "東京都　東大和市向原２丁目７７８番１３ 原\n",
      "東京都　東大和市向原５丁目１１２９番１１ 原\n",
      "東京都　東大和市仲原１丁目７番３２ 原\n",
      "東京都　町田市原町田６－３－９ 原\n",
      "東京都　町田市原町田６－１５－１５ 原\n",
      "東京都　町田市原町田４－１－７ 原\n",
      "東京都　東村山市廻田町３丁目２０番１８ 田町\n",
      "東京都　町田市野津田町字暖沢前３２１０番２１１外 田町\n",
      "東京都　町田市原町田４－５－８ 原\n",
      "東京都　町田市原町田３－１４－８ 原\n",
      "東京都　東村山市廻田町１丁目１８番８ 田町\n",
      "東京都　町田市南大谷字十五号１３２７番１１９ 南\n",
      "東京都　町田市野津田町字綾部１３１４番１４ 田町\n",
      "東京都　府中市西原町２丁目１６番１３ 原\n",
      "東京都　府中市西原町２丁目１６番１３ 西原\n",
      "東京都　府中市本宿町４丁目２０番１１外 本宿\n",
      "東京都　小平市津田町１－６－５ 田町\n",
      "東京都　町田市南町田１－２３－１４ 南\n",
      "東京都　府中市南町３丁目３１番７６ 南\n",
      "東京都　町田市南大谷字十一号９１２番３４ 南\n",
      "東京都　町田市南成瀬２丁目１３番８ 南\n",
      "東京都　府中市南町１丁目６番７４ 南\n",
      "東京都　町田市南成瀬５丁目２６番５ 南\n",
      "東京都　町田市南つくし野２丁目５番４ 南\n",
      "東京都　国分寺市南町３－２２－１１ 南\n",
      "東京都　町田市南つくし野３丁目５番１３ 南\n",
      "東京都　小平市上水南町１－２０－１６ 南\n",
      "東京都　国分寺市南町２－１－１３ 南\n",
      "東京都　小金井市貫井南町４－１２－２ 南\n",
      "東京都　小金井市貫井南町１－１４－１７ 南\n",
      "東京都　小平市回田町２５２番１２外 田町\n",
      "東京都　小金井市前原町３－６－４ 原\n",
      "東京都　小金井市前原町４－１２－２６ 原\n",
      "東京都　小平市花小金井南町１－１３－２０ 南\n",
      "東京都　小平市花小金井南町３－２４－１８ 南\n",
      "東京都　東久留米市南町４－６－３ 南\n",
      "東京都　調布市上石原３丁目１７番１４外 原\n",
      "東京都　調布市上石原３丁目１７番１４外 石原\n",
      "東京都　東久留米市氷川台２－２４－１１ 氷川\n",
      "東京都　調布市上石原１丁目１４番６ 原\n",
      "東京都　調布市上石原１丁目１４番６ 石原\n",
      "東京都　調布市上石原１丁目１３番１ 原\n",
      "東京都　調布市上石原１丁目１３番１ 石原\n",
      "東京都　西東京市西原町４－８－１２ 原\n",
      "東京都　西東京市西原町４－８－１２ 西原\n",
      "東京都　東久留米市南沢５－１３－２ 南\n",
      "東京都　東久留米市南沢４－３－３ 南\n",
      "東京都　調布市下石原２丁目２４番１１ 原\n",
      "東京都　調布市下石原２丁目２４番１１ 石原\n",
      "東京都　東久留米市南沢２－７－４ 南\n",
      "東京都　西東京市南町５－１８－１１ 南\n",
      "東京都　武蔵野市境南町３－１４－２２ 南\n",
      "東京都　西東京市南町３－１４－１３ 南\n",
      "東京都　武蔵野市境南町２－９－４ 南\n",
      "東京都　武蔵野市境南町２－２－３ 南\n",
      "東京都　西東京市北原町１－３０－７ 原\n",
      "東京都　武蔵野市境南町１－１８－３ 南\n",
      "東京都　三鷹市中原３－１－３３ 原\n",
      "東京都　練馬区南大泉３－２１－４ 南\n",
      "東京都　三鷹市中原１－１８－６ 原\n",
      "東京都　練馬区関町南４－７－２９ 南\n",
      "東京都　練馬区南大泉５－１０－６ 南\n",
      "東京都　練馬区南大泉１－６－４６ 南\n",
      "東京都　武蔵野市吉祥寺南町１－５－５ 南\n",
      "東京都　武蔵野市吉祥寺南町１－１９－３ 南\n",
      "東京都　狛江市岩戸南１－１８－２ 南\n",
      "東京都　練馬区関町南２－２５－１５ 南\n",
      "東京都　武蔵野市吉祥寺南町４－４－１９ 南\n",
      "東京都　狛江市岩戸南３－１７－１１ 南\n",
      "東京都　世田谷区南烏山５－１６－２０ 南\n",
      "東京都　杉並区西荻南１－１０－１８ 南\n",
      "東京都　世田谷区南烏山４－２２－１５ 南\n",
      "東京都　練馬区三原台１－２５－３５ 原\n",
      "東京都　杉並区西荻南４－１５－２ 南\n",
      "東京都　世田谷区南烏山２－１２－６ 南\n",
      "東京都　世田谷区南烏山３－２５－１２ 南\n",
      "東京都　練馬区南田中４－２０－１６ 南\n",
      "東京都　練馬区谷原４－１６－１４ 原\n",
      "東京都　杉並区南荻窪４－３２－１５ 南\n",
      "東京都　練馬区谷原２－６－５ 原\n",
      "東京都　練馬区南田中３－２３－４ 南\n",
      "東京都　杉並区阿佐谷南３丁目５８５番７ 南\n",
      "東京都　杉並区阿佐谷南３－３７－１４ 南\n",
      "東京都　練馬区中村北４－８－３０ 中村\n",
      "東京都　杉並区阿佐谷南１－８－５ 南\n",
      "東京都　練馬区中村南２－２４－４ 南\n",
      "東京都　練馬区中村南２－２４－４ 中村\n",
      "東京都　練馬区中村北２－８－１０ 中村\n",
      "東京都　世田谷区松原３－３９－３０ 原\n",
      "東京都　杉並区高円寺南３－１４－１ 南\n",
      "東京都　世田谷区松原４－３４－３ 原\n",
      "東京都　杉並区高円寺南３－５２－２ 南\n",
      "東京都　練馬区中村南１－２９－１５ 南\n",
      "東京都　練馬区中村南１－２９－１５ 中村\n",
      "東京都　杉並区高円寺南２－２０－１１ 南\n",
      "東京都　杉並区高円寺南４－２３－４ 南\n",
      "東京都　世田谷区松原１－３６－８ 原\n",
      "東京都　世田谷区松原５－２３－１３ 原\n",
      "東京都　世田谷区松原１－２９－１６ 原\n",
      "東京都　杉並区高円寺南２－２－１３ 南\n",
      "東京都　世田谷区松原５－３－１３ 原\n",
      "東京都　杉並区方南２－２１－３ 南\n",
      "東京都　世田谷区大原２－１８－３ 原\n",
      "東京都　杉並区高円寺南１－２６－１ 南\n",
      "東京都　杉並区方南１－３４－１５ 南\n",
      "東京都　練馬区氷川台４－４５－１８ 氷川\n",
      "東京都　練馬区氷川台３－４０－１１ 氷川\n",
      "東京都　世田谷区大原１－３－６ 原\n",
      "東京都　練馬区氷川台２－１６－１１ 氷川\n",
      "東京都　中野区南台３－１８－５ 南\n",
      "東京都　練馬区氷川台３－２４－２１ 氷川\n",
      "東京都　中野区南台２－４９－８ 南\n",
      "東京都　中野区江原町１－３３－２ 原\n",
      "東京都　大田区田園調布南５－１３ 南\n",
      "東京都　大田区田園調布南１９－３ 南\n",
      "東京都　大田区南雪谷２－１２－１０ 南\n",
      "東京都　渋谷区上原２－２９－７ 原\n",
      "東京都　大田区南雪谷２－２－４ 南\n",
      "東京都　渋谷区上原２－２０－１ 原\n",
      "東京都　豊島区南長崎５－２６－１３ 南\n",
      "東京都　豊島区南長崎５－２６－１３ 長崎\n",
      "東京都　渋谷区上原１－１８－２ 原\n",
      "東京都　渋谷区上原２－４－８ 原\n",
      "東京都　板橋区南常盤台２－２５－５ 南\n",
      "東京都　板橋区南常盤台２－２５－５ 常盤\n",
      "東京都　大田区南雪谷１－１８－６ 南\n",
      "東京都　大田区南雪谷３－１６－１９ 南\n",
      "東京都　目黒区五本木２－５０－１３ 本木\n",
      "東京都　大田区南千束３－２５－５ 南\n",
      "東京都　大田区南千束３－２５－５ 千束\n",
      "東京都　大田区久が原３－３７－６ 原\n",
      "東京都　大田区久が原３－４１－５ 原\n",
      "東京都　板橋区常盤台２－２４－５ 常盤\n",
      "東京都　板橋区常盤台２－６－５ 常盤\n",
      "東京都　豊島区南長崎２－７－１０ 南\n",
      "東京都　豊島区南長崎２－７－１０ 長崎\n",
      "東京都　大田区久が原１－３４－５ 原\n",
      "東京都　豊島区南長崎１－３－３ 南\n",
      "東京都　豊島区南長崎１－３－３ 長崎\n",
      "東京都　大田区南千束２－８－２ 南\n",
      "東京都　大田区南千束２－８－２ 千束\n",
      "東京都　大田区久が原４－４２－４ 原\n",
      "東京都　大田区北千束２－２５－５ 千束\n",
      "東京都　渋谷区南平台町１９－１８ 南\n",
      "東京都　目黒区原町１－１１－２ 原\n",
      "東京都　大田区久が原２－２１－２２ 原\n",
      "東京都　渋谷区神南１－１５－８ 南\n",
      "東京都　渋谷区神南１－１７－３ 南\n",
      "東京都　板橋区南町１９－２ 南\n",
      "東京都　渋谷区恵比寿南３－２－１７ 南\n",
      "東京都　品川区荏原４－１－４ 原\n",
      "東京都　大田区南馬込５－３９－７ 南\n",
      "東京都　豊島区南池袋１－１１－２２ 南\n",
      "東京都　豊島区南池袋１－２１－５ 南\n",
      "東京都　大田区南馬込４－１３－１８ 南\n",
      "東京都　豊島区南池袋２－１３－５ 南\n",
      "東京都　豊島区南池袋２－２７－６ 南\n",
      "東京都　品川区荏原１－２２－１ 原\n",
      "東京都　港区南青山４－２０－４ 南\n",
      "東京都　港区南青山３－１－５ 南\n",
      "東京都　豊島区南池袋２－３９－９ 南\n",
      "東京都　大田区南六郷３－１６－１７ 南\n",
      "東京都　港区南青山７－１０－３ 南\n",
      "東京都　港区南青山４－１２－１ 南\n",
      "東京都　大田区南馬込３－１４－６ 南\n",
      "東京都　北区十条仲原１－１７－２ 原\n",
      "東京都　北区十条仲原２－１０－２５ 原\n",
      "東京都　北区十条仲原１－８－２９ 原\n",
      "東京都　大田区南六郷２－８－１２ 南\n",
      "東京都　港区南青山２－４－１１ 南\n",
      "東京都　港区南麻布５－９－２ 南\n",
      "東京都　新宿区南元町４番４９ 南\n",
      "東京都　港区南青山２－１－１ 南\n",
      "東京都　大田区南蒲田１－１－１８ 南\n",
      "東京都　港区南麻布４－１０－２２ 南\n",
      "東京都　港区南麻布４－９－３４ 南\n",
      "東京都　豊島区南大塚３－５０－３ 南\n",
      "東京都　港区六本木７－４－８ 本木\n",
      "東京都　大田区南蒲田３－３－６ 南\n",
      "東京都　豊島区南大塚２－４５－８ 南\n",
      "東京都　品川区南大井６－２８－１２ 南\n",
      "東京都　港区六本木４－９－５ 本木\n",
      "東京都　港区南麻布１－２７－３３ 南\n",
      "東京都　品川区南大井６－３－１６ 南\n",
      "東京都　港区六本木４－５－３ 本木\n",
      "東京都　品川区南大井３－８－１７ 南\n",
      "東京都　品川区南大井３－３３－１０ 南\n",
      "東京都　港区南麻布１－５－１１ 南\n",
      "東京都　港区六本木３－５－１６ 本木\n",
      "東京都　新宿区市谷砂土原町２丁目７番１ 原\n",
      "東京都　港区六本木５－１３－１ 本木\n",
      "東京都　豊島区南大塚１－４－２１ 南\n",
      "東京都　品川区南品川６－７－３６ 南\n",
      "東京都　北区西ケ原３－４０－１２ 原\n",
      "東京都　千代田区永田町２－１３－１ 田町\n",
      "東京都　品川区南品川４－１５－１ 南\n",
      "東京都　千代田区九段南４－２－１２ 南\n",
      "東京都　品川区南品川４－１７－６ 南\n",
      "東京都　港区港南２－１６－２ 南\n",
      "東京都　千代田区永田町２－１７－１４ 田町\n",
      "東京都　港区港南２－３－１ 南\n",
      "東京都　品川区南品川１－３－１３ 南\n",
      "東京都　大田区大森南３－２２－９ 南\n",
      "東京都　北区西ケ原１－５５－９ 原\n",
      "東京都　千代田区九段南２－２－５ 南\n",
      "東京都　北区西ケ原１－６－７ 原\n",
      "東京都　港区港南３－７－２３ 南\n",
      "東京都　千代田区神田猿楽町２－５－４ 猿楽町\n",
      "東京都　足立区西伊興２－５－１９ 伊興\n",
      "東京都　大田区城南島２－９－１５ 南\n",
      "東京都　足立区本木北町９－２１ 本木\n",
      "東京都　足立区栗原３－１０－１５ 原\n",
      "東京都　足立区栗原４－９－６ 原\n",
      "東京都　足立区伊興本町２－１３－２４ 伊興\n",
      "東京都　足立区伊興本町１－１３－１９ 伊興\n",
      "東京都　足立区関原２－８－２ 原\n",
      "東京都　荒川区南千住１－３１－８ 南\n",
      "東京都　荒川区南千住５－６－１３ 南\n",
      "東京都　足立区千住龍田町３－１２ 田町\n",
      "東京都　荒川区南千住７－２９－１１ 南\n",
      "東京都　足立区千住寿町５－１０ 寿町\n",
      "東京都　墨田区東駒形２－１－２ 駒形\n",
      "東京都　荒川区南千住３－３１－５ 南\n",
      "東京都　江東区南砂２－１２－１１ 南\n",
      "東京都　江東区南砂２－１６－６ 南\n",
      "東京都　江東区南砂２－３１－１０ 南\n",
      "東京都　江東区南砂３－８－１５ 南\n",
      "東京都　江東区南砂４－１８－２ 南\n",
      "東京都　江戸川区東小松川４－１１－２４ 小松川\n",
      "東京都　江戸川区東小松川２－１３－１０ 小松川\n",
      "東京都　葛飾区南水元４－２３－４ 南\n",
      "東京都　葛飾区南水元４－２７－１３ 南\n",
      "東京都　江戸川区南葛西３－１０－４ 南\n",
      "東京都　江戸川区南葛西１－９－１ 南\n",
      "東京都　江戸川区南葛西５－８－１５ 南\n",
      "東京都　江戸川区南葛西６－３１－１０ 南\n",
      "東京都　江戸川区南小岩５－７－５ 南\n",
      "東京都　江戸川区南小岩７－１７－１ 南\n",
      "東京都　江戸川区東松本２－５－７ 松本\n",
      "東京都　江戸川区南小岩４－７－２ 南\n",
      "東京都　江戸川区南篠崎町３－１５－２ 南\n",
      "東京都　江戸川区南篠崎町１－６－１８ 南\n",
      "東京都　小笠原村父島字西町２６番１３ 原\n",
      "東京都　小笠原村父島字東町２０番８ 原\n",
      "東京都　小笠原村父島字奥村２３番６ 原\n"
     ]
    }
   ],
   "source": [
    "for s in pub_df[\"住居表示\"].unique():\n",
    "    if type(s) is float:\n",
    "        continue\n",
    "    for n in not_match:\n",
    "        if n in s:\n",
    "            print(s, n)"
   ]
  },
  {
   "cell_type": "code",
   "execution_count": 89,
   "metadata": {},
   "outputs": [],
   "source": [
    "def extract_district_name(address):\n",
    "    prefec, city = address.split(\"\\u3000\")\n",
    "    split_words = [\"市\", \"区\", \"町\", \"村\", \"字\", \"群\"]\n",
    "    other_words = [\"西多摩郡瑞穂町\", \"西多摩郡日の出町\"]\n",
    "    spc = 0\n",
    "    for w in other_words:\n",
    "        if (city[:len(w)] == w):\n",
    "            spc = 1\n",
    "            start_i = len(w)\n",
    "            break\n",
    "    if spc:\n",
    "        pass\n",
    "    elif \n",
    "    else:\n",
    "        for i in range(1, len(city)):\n",
    "            if city[i] in split_words:\n",
    "                if city[i-1:i+2] in [\"蔵村山\", \"羽村市\", \"東村山\"]:\n",
    "                    continue\n",
    "                spl_i = i\n",
    "                break\n",
    "\n",
    "        start_i = spl_i+3 if city[spl_i+1:spl_i+3] == \"大字\" else spl_i+1\n",
    "    for i in range(start_i, len(city)):\n",
    "        if city[i] == \"字\":\n",
    "            nu_i = i\n",
    "            break\n",
    "        if city[i].isdigit():\n",
    "            nu_i = i\n",
    "            break\n",
    "    if city[start_i: nu_i] in ['丸の内', '二本木', '内幸町', '千駄ヶ谷', '大久野', '大手町', '日野', '殿ケ谷', '熊川', '神田相生町', '福生', '箱根ケ崎', '絹ヶ丘', '長岡長谷部', '高根']:\n",
    "        print(city)\n",
    "    return city[start_i: nu_i]"
   ]
  },
  {
   "cell_type": "code",
   "execution_count": 102,
   "metadata": {},
   "outputs": [],
   "source": [
    "import geocoder"
   ]
  },
  {
   "cell_type": "code",
   "execution_count": 125,
   "metadata": {},
   "outputs": [
    {
     "name": "stdout",
     "output_type": "stream",
     "text": [
      "[35.6564018, 139.7339705] 麻布, 麻布十番1, 麻布十番, 東京都, 港区, 106-0045, 日本 (Japan)\n"
     ]
    }
   ],
   "source": [
    "res = geocoder.osm(\"元麻布\", timeout=30)\n",
    "print(res.latlng, res.address)"
   ]
  },
  {
   "cell_type": "code",
   "execution_count": 124,
   "metadata": {
    "collapsed": true,
    "jupyter": {
     "outputs_hidden": true
    }
   },
   "outputs": [
    {
     "name": "stderr",
     "output_type": "stream",
     "text": [
      "\n",
      "  0%|          | 0/356344 [00:00<?, ?it/s]\u001b[A\n",
      "  0%|          | 1/356344 [00:01<107:11:04,  1.08s/it]\u001b[A\n",
      "  0%|          | 63/356344 [00:02<75:32:52,  1.31it/s]\u001b[A\n",
      "  0%|          | 116/356344 [00:03<53:28:27,  1.85it/s]\u001b[A\n",
      "  0%|          | 219/356344 [00:03<37:27:00,  2.64it/s]\u001b[A\n",
      "  0%|          | 265/356344 [00:04<26:55:15,  3.67it/s]\u001b[A\n",
      "  0%|          | 1115/356344 [00:50<5:04:15, 19.46it/s]\u001b[A\n",
      "  0%|          | 334/356344 [00:07<16:50:01,  5.87it/s]\u001b[A\n",
      "  0%|          | 355/356344 [00:08<13:16:19,  7.45it/s]\u001b[A\n",
      "  0%|          | 377/356344 [00:09<10:51:36,  9.10it/s]\u001b[A\n",
      "  0%|          | 385/356344 [00:10<11:40:38,  8.47it/s]\u001b[A\n",
      "  0%|          | 410/356344 [00:12<9:27:42, 10.45it/s] \u001b[A\n",
      "  0%|          | 415/356344 [00:14<19:26:09,  5.09it/s]\u001b[A\n",
      "  0%|          | 421/356344 [00:15<18:43:12,  5.28it/s]\u001b[A\n",
      "  0%|          | 450/356344 [00:16<14:14:27,  6.94it/s]\u001b[A"
     ]
    },
    {
     "name": "stdout",
     "output_type": "stream",
     "text": [
      "東京都千代田区神田猿楽町\n"
     ]
    },
    {
     "name": "stderr",
     "output_type": "stream",
     "text": [
      "\n",
      "  0%|          | 480/356344 [00:17<11:06:33,  8.90it/s]\u001b[A\n",
      "  0%|          | 552/356344 [00:18<8:13:41, 12.01it/s] \u001b[A\n",
      "  0%|          | 618/356344 [00:19<6:16:33, 15.74it/s]\u001b[A\n",
      "  0%|          | 640/356344 [00:20<5:55:51, 16.66it/s]\u001b[A\n",
      "  0%|          | 688/356344 [00:21<4:48:55, 20.52it/s]\u001b[A\n",
      "  0%|          | 711/356344 [00:23<4:44:15, 20.85it/s]\u001b[A\n",
      "  0%|          | 718/356344 [00:24<8:09:13, 12.12it/s]\u001b[A\n",
      "  0%|          | 769/356344 [00:25<6:20:12, 15.59it/s]\u001b[A\n",
      "  0%|          | 775/356344 [00:26<9:36:25, 10.28it/s]\u001b[A\n",
      "  0%|          | 780/356344 [00:27<12:33:42,  7.86it/s]\u001b[A\n",
      "  0%|          | 791/356344 [00:28<11:30:17,  8.58it/s]\u001b[A\n",
      "  0%|          | 793/356344 [00:29<24:18:58,  4.06it/s]\u001b[A\n",
      "  0%|          | 814/356344 [00:30<18:25:49,  5.36it/s]\u001b[A\n",
      "  0%|          | 817/356344 [00:31<22:25:51,  4.40it/s]\u001b[A\n",
      "  0%|          | 821/356344 [00:32<23:38:48,  4.18it/s]\u001b[A"
     ]
    },
    {
     "name": "stdout",
     "output_type": "stream",
     "text": [
      "東京都千代田区九段北\n"
     ]
    },
    {
     "name": "stderr",
     "output_type": "stream",
     "text": [
      "\n",
      "  0%|          | 861/356344 [00:33<17:23:06,  5.68it/s]\u001b[A"
     ]
    },
    {
     "name": "stdout",
     "output_type": "stream",
     "text": [
      "東京都千代田区九段南\n"
     ]
    },
    {
     "name": "stderr",
     "output_type": "stream",
     "text": [
      "\n",
      "  0%|          | 912/356344 [00:34<12:45:24,  7.74it/s]\u001b[A\n",
      "  0%|          | 950/356344 [00:35<9:43:20, 10.15it/s] \u001b[A"
     ]
    },
    {
     "name": "stdout",
     "output_type": "stream",
     "text": [
      "東京都千代田区五番町\n"
     ]
    },
    {
     "name": "stderr",
     "output_type": "stream",
     "text": [
      "\n",
      "  0%|          | 968/356344 [00:36<8:30:20, 11.61it/s]\u001b[A"
     ]
    },
    {
     "name": "stdout",
     "output_type": "stream",
     "text": [
      "東京都千代田区三番町\n"
     ]
    },
    {
     "name": "stderr",
     "output_type": "stream",
     "text": [
      "\n",
      "  0%|          | 1023/356344 [00:37<6:30:49, 15.15it/s]\u001b[A"
     ]
    },
    {
     "name": "stdout",
     "output_type": "stream",
     "text": [
      "東京都千代田区外神田\n"
     ]
    },
    {
     "name": "stderr",
     "output_type": "stream",
     "text": [
      "\n",
      "  0%|          | 1115/356344 [00:38<4:55:11, 20.06it/s]\u001b[A\n",
      "  0%|          | 1133/356344 [00:39<5:12:07, 18.97it/s]\u001b[A\n",
      "  0%|          | 1141/356344 [00:40<7:44:10, 12.75it/s]\u001b[A"
     ]
    },
    {
     "name": "stdout",
     "output_type": "stream",
     "text": [
      "東京都千代田区二番町\n"
     ]
    },
    {
     "name": "stderr",
     "output_type": "stream",
     "text": [
      "\n",
      "  0%|          | 1182/356344 [00:41<6:09:48, 16.01it/s]\u001b[A\n",
      "  0%|          | 1189/356344 [00:43<9:03:52, 10.88it/s]\u001b[A\n",
      "  0%|          | 1309/356344 [00:44<6:38:00, 14.87it/s]\u001b[A\n",
      "  0%|          | 1343/356344 [00:45<5:32:10, 17.81it/s]\u001b[A"
     ]
    },
    {
     "name": "stdout",
     "output_type": "stream",
     "text": [
      "東京都千代田区富士見\n"
     ]
    },
    {
     "name": "stderr",
     "output_type": "stream",
     "text": [
      "\n",
      "  0%|          | 1381/356344 [00:46<4:41:25, 21.02it/s]\u001b[A\n",
      "  0%|          | 1386/356344 [00:47<10:02:04,  9.83it/s]\u001b[A"
     ]
    },
    {
     "name": "stdout",
     "output_type": "stream",
     "text": [
      "東京都千代田区四番町\n"
     ]
    },
    {
     "name": "stderr",
     "output_type": "stream",
     "text": [
      "\n",
      "  0%|          | 1406/356344 [00:48<8:37:32, 11.43it/s] \u001b[A"
     ]
    },
    {
     "name": "stdout",
     "output_type": "stream",
     "text": [
      "東京都千代田区六番町\n"
     ]
    },
    {
     "name": "stderr",
     "output_type": "stream",
     "text": [
      "\n",
      "  0%|          | 1428/356344 [00:49<7:26:50, 13.24it/s]\u001b[A"
     ]
    },
    {
     "name": "stdout",
     "output_type": "stream",
     "text": [
      "東京都中央区明石町\n"
     ]
    },
    {
     "name": "stderr",
     "output_type": "stream",
     "text": [
      "\n",
      "  0%|          | 1449/356344 [00:50<6:39:38, 14.80it/s]\u001b[A"
     ]
    },
    {
     "name": "stdout",
     "output_type": "stream",
     "text": [
      "東京都中央区入船\n"
     ]
    },
    {
     "name": "stderr",
     "output_type": "stream",
     "text": [
      "\n",
      "  0%|          | 1552/356344 [00:51<4:57:04, 19.90it/s]\u001b[A\n",
      "  0%|          | 1670/356344 [00:51<3:29:23, 28.23it/s]\u001b[A\n",
      "  1%|          | 1799/356344 [00:51<2:27:53, 39.95it/s]\u001b[A\n",
      "  1%|          | 1912/356344 [00:52<1:58:55, 49.67it/s]\u001b[A\n",
      "  1%|          | 1962/356344 [00:53<1:56:42, 50.61it/s]\u001b[A\n",
      "  1%|          | 2071/356344 [00:54<1:39:18, 59.46it/s]\u001b[A\n",
      "  1%|          | 2191/356344 [00:54<1:10:58, 83.17it/s]\u001b[A\n",
      "  1%|          | 2264/356344 [00:55<1:13:22, 80.43it/s]\u001b[A"
     ]
    },
    {
     "name": "stdout",
     "output_type": "stream",
     "text": [
      "東京都中央区新富\n"
     ]
    },
    {
     "name": "stderr",
     "output_type": "stream",
     "text": [
      "\n",
      "  1%|          | 2324/356344 [00:56<1:19:56, 73.81it/s]\u001b[A\n",
      "  1%|          | 2431/356344 [00:57<57:36, 102.39it/s] \u001b[A\n",
      "  1%|          | 2541/356344 [00:58<56:45, 103.90it/s]\u001b[A\n",
      "  1%|          | 2659/356344 [00:58<41:13, 143.00it/s]\u001b[A\n",
      "  1%|          | 2723/356344 [00:59<1:03:52, 92.26it/s]\u001b[A\n",
      "  1%|          | 2839/356344 [00:59<46:13, 127.44it/s] \u001b[A\n",
      "  1%|          | 2906/356344 [01:00<59:43, 98.64it/s] \u001b[A\n",
      "  1%|          | 2955/356344 [01:01<1:22:53, 71.05it/s]\u001b[A"
     ]
    },
    {
     "name": "stdout",
     "output_type": "stream",
     "text": [
      "東京都中央区日本橋大伝馬町\n"
     ]
    },
    {
     "name": "stderr",
     "output_type": "stream",
     "text": [
      "\n",
      "  1%|          | 2991/356344 [01:02<1:50:51, 53.12it/s]\u001b[A\n",
      "  1%|          | 3120/356344 [01:02<1:18:56, 74.57it/s]\u001b[A\n",
      "  1%|          | 3177/356344 [01:05<2:03:53, 47.51it/s]\u001b[A\n",
      "  1%|          | 3218/356344 [01:06<2:10:48, 44.99it/s]\u001b[A"
     ]
    },
    {
     "name": "stdout",
     "output_type": "stream",
     "text": [
      "東京都中央区日本橋小網町\n"
     ]
    },
    {
     "name": "stderr",
     "output_type": "stream",
     "text": [
      "\n",
      "  1%|          | 3248/356344 [01:07<2:38:40, 37.09it/s]\u001b[A\n",
      "  1%|          | 3271/356344 [01:08<3:16:41, 29.92it/s]\u001b[A"
     ]
    },
    {
     "name": "stdout",
     "output_type": "stream",
     "text": [
      "東京都中央区日本橋小舟町\n"
     ]
    },
    {
     "name": "stderr",
     "output_type": "stream",
     "text": [
      "\n",
      "  1%|          | 3303/356344 [01:09<3:21:36, 29.19it/s]\u001b[A"
     ]
    },
    {
     "name": "stdout",
     "output_type": "stream",
     "text": [
      "東京都中央区日本橋富沢町\n"
     ]
    },
    {
     "name": "stderr",
     "output_type": "stream",
     "text": [
      "\n",
      "  1%|          | 3334/356344 [01:10<3:24:42, 28.74it/s]\u001b[A"
     ]
    },
    {
     "name": "stdout",
     "output_type": "stream",
     "text": [
      "東京都中央区日本橋中洲\n"
     ]
    },
    {
     "name": "stderr",
     "output_type": "stream",
     "text": [
      "\n",
      "  1%|          | 3384/356344 [01:11<3:04:24, 31.90it/s]\u001b[A\n",
      "  1%|          | 3465/356344 [01:13<2:35:22, 37.85it/s]\u001b[A\n",
      "  1%|          | 3508/356344 [01:14<2:36:10, 37.66it/s]\u001b[A"
     ]
    },
    {
     "name": "stdout",
     "output_type": "stream",
     "text": [
      "東京都中央区日本橋箱崎町\n"
     ]
    },
    {
     "name": "stderr",
     "output_type": "stream",
     "text": [
      "\n",
      "  1%|          | 3611/356344 [01:15<2:09:50, 45.28it/s]\u001b[A\n",
      "  1%|          | 3694/356344 [01:15<1:33:00, 63.20it/s]\u001b[A\n",
      "  1%|          | 3780/356344 [01:15<1:07:08, 87.51it/s]\u001b[A\n",
      "  1%|          | 3845/356344 [01:16<1:15:23, 77.93it/s]\u001b[A\n",
      "  1%|          | 3880/356344 [01:17<1:49:53, 53.46it/s]\u001b[A"
     ]
    },
    {
     "name": "stdout",
     "output_type": "stream",
     "text": [
      "東京都中央区日本橋堀留町\n"
     ]
    },
    {
     "name": "stderr",
     "output_type": "stream",
     "text": [
      "\n",
      "  1%|          | 3938/356344 [01:18<1:52:37, 52.15it/s]\u001b[A"
     ]
    },
    {
     "name": "stdout",
     "output_type": "stream",
     "text": [
      "東京都中央区日本橋本石町\n"
     ]
    },
    {
     "name": "stderr",
     "output_type": "stream",
     "text": [
      "\n",
      "  1%|          | 3957/356344 [01:20<2:58:39, 32.87it/s]\u001b[A"
     ]
    },
    {
     "name": "stdout",
     "output_type": "stream",
     "text": [
      "東京都中央区日本橋本町\n"
     ]
    },
    {
     "name": "stderr",
     "output_type": "stream",
     "text": [
      "\n",
      "  1%|          | 3972/356344 [01:21<4:08:21, 23.65it/s]\u001b[A"
     ]
    },
    {
     "name": "stdout",
     "output_type": "stream",
     "text": [
      "東京都中央区日本橋室町\n"
     ]
    },
    {
     "name": "stderr",
     "output_type": "stream",
     "text": [
      "\n",
      "  1%|          | 3983/356344 [01:22<5:55:54, 16.50it/s]\u001b[A"
     ]
    },
    {
     "name": "stdout",
     "output_type": "stream",
     "text": [
      "東京都中央区日本橋横山町\n"
     ]
    },
    {
     "name": "stderr",
     "output_type": "stream",
     "text": [
      "\n",
      "  1%|          | 3991/356344 [01:23<8:05:51, 12.09it/s]\u001b[A\n",
      "  1%|          | 4076/356344 [01:24<6:02:31, 16.20it/s]\u001b[A\n",
      "  1%|          | 4184/356344 [01:24<4:15:19, 22.99it/s]\u001b[A\n",
      "  1%|          | 4303/356344 [01:24<3:00:09, 32.57it/s]\u001b[A\n",
      "  1%|          | 4421/356344 [01:24<2:07:33, 45.98it/s]\u001b[A\n",
      "  1%|▏         | 4500/356344 [01:25<1:55:12, 50.90it/s]\u001b[A\n",
      "  1%|▏         | 4619/356344 [01:26<1:36:31, 60.73it/s]\u001b[A"
     ]
    },
    {
     "name": "stdout",
     "output_type": "stream",
     "text": [
      "東京都中央区湊\n"
     ]
    },
    {
     "name": "stderr",
     "output_type": "stream",
     "text": [
      "\n",
      "  1%|▏         | 4708/356344 [01:28<1:32:52, 63.10it/s]\u001b[A\n",
      "  1%|▏         | 4741/356344 [01:29<1:56:39, 50.23it/s]\u001b[A\n",
      "  1%|▏         | 4856/356344 [01:29<1:23:10, 70.44it/s]\u001b[A\n",
      "  1%|▏         | 4971/356344 [01:29<59:44, 98.04it/s]  \u001b[A\n",
      "  1%|▏         | 5088/356344 [01:29<43:18, 135.20it/s]\u001b[A\n",
      "  1%|▏         | 5173/356344 [01:34<2:06:25, 46.29it/s]\u001b[A\n",
      "  1%|▏         | 5233/356344 [01:35<1:55:20, 50.74it/s]\u001b[A"
     ]
    },
    {
     "name": "stdout",
     "output_type": "stream",
     "text": [
      "東京都港区海岸\n"
     ]
    },
    {
     "name": "stderr",
     "output_type": "stream",
     "text": [
      "\n",
      "  1%|▏         | 5290/356344 [01:36<1:51:32, 52.45it/s]\u001b[A"
     ]
    },
    {
     "name": "stdout",
     "output_type": "stream",
     "text": [
      "東京都港区北青山\n"
     ]
    },
    {
     "name": "stderr",
     "output_type": "stream",
     "text": [
      "\n",
      "  1%|▏         | 5323/356344 [01:37<2:12:23, 44.19it/s]\u001b[A\n",
      "  2%|▏         | 5436/356344 [01:37<1:34:12, 62.08it/s]\u001b[A"
     ]
    },
    {
     "name": "stdout",
     "output_type": "stream",
     "text": [
      "東京都港区港南\n"
     ]
    },
    {
     "name": "stderr",
     "output_type": "stream",
     "text": [
      "\n",
      "  2%|▏         | 5555/356344 [01:37<1:07:23, 86.75it/s]\u001b[A\n",
      "  2%|▏         | 5626/356344 [01:38<1:13:19, 79.71it/s]\u001b[A\n",
      "  2%|▏         | 5721/356344 [01:38<53:09, 109.91it/s] \u001b[A"
     ]
    },
    {
     "name": "stdout",
     "output_type": "stream",
     "text": [
      "東京都港区芝\n"
     ]
    },
    {
     "name": "stderr",
     "output_type": "stream",
     "text": [
      "\n",
      "  2%|▏         | 5831/356344 [01:38<38:47, 150.57it/s]\u001b[A\n",
      "  2%|▏         | 5910/356344 [01:39<49:36, 117.75it/s]\u001b[A\n",
      "  2%|▏         | 6028/356344 [01:39<36:11, 161.30it/s]\u001b[A\n",
      "  2%|▏         | 6145/356344 [01:39<26:50, 217.49it/s]\u001b[A\n",
      "  2%|▏         | 6264/356344 [01:39<20:15, 288.05it/s]\u001b[A\n",
      "  2%|▏         | 6361/356344 [01:41<51:56, 112.30it/s]\u001b[A\n",
      "  2%|▏         | 6431/356344 [01:42<1:00:53, 95.77it/s]\u001b[A\n",
      "  2%|▏         | 6550/356344 [01:42<44:05, 132.24it/s] \u001b[A\n",
      "  2%|▏         | 6621/356344 [01:44<56:56, 102.37it/s]\u001b[A\n",
      "  2%|▏         | 6729/356344 [01:45<56:29, 103.15it/s]\u001b[A\n",
      "  2%|▏         | 6828/356344 [01:46<58:07, 100.23it/s]\u001b[A\n",
      "  2%|▏         | 6859/356344 [01:47<1:33:04, 62.58it/s]\u001b[A\n",
      "  2%|▏         | 6981/356344 [01:47<1:06:33, 87.48it/s]\u001b[A\n",
      "  2%|▏         | 7100/356344 [01:47<48:02, 121.15it/s] \u001b[A\n",
      "  2%|▏         | 7196/356344 [01:48<52:28, 110.88it/s]\u001b[A\n",
      "  2%|▏         | 7273/356344 [01:49<59:24, 97.93it/s] \u001b[A\n",
      "  2%|▏         | 7391/356344 [01:49<43:03, 135.09it/s]\u001b[A\n",
      "  2%|▏         | 7455/356344 [01:50<58:07, 100.04it/s]\u001b[A\n",
      "  2%|▏         | 7501/356344 [01:51<1:18:09, 74.38it/s]\u001b[A\n",
      "  2%|▏         | 7535/356344 [01:52<1:47:58, 53.84it/s]\u001b[A"
     ]
    },
    {
     "name": "stdout",
     "output_type": "stream",
     "text": [
      "東京都港区東麻布\n"
     ]
    },
    {
     "name": "stderr",
     "output_type": "stream",
     "text": [
      "\n",
      "  2%|▏         | 7616/356344 [01:53<1:37:47, 59.43it/s]\u001b[A"
     ]
    },
    {
     "name": "stdout",
     "output_type": "stream",
     "text": [
      "東京都港区東新橋\n"
     ]
    },
    {
     "name": "stderr",
     "output_type": "stream",
     "text": [
      "\n",
      "  2%|▏         | 7662/356344 [01:54<1:43:45, 56.01it/s]\u001b[A\n",
      "  2%|▏         | 7743/356344 [01:54<1:14:46, 77.71it/s]\u001b[A\n",
      "  2%|▏         | 7861/356344 [01:54<53:48, 107.94it/s] \u001b[A\n",
      "  2%|▏         | 7955/356344 [01:55<57:43, 100.60it/s]\u001b[A\n",
      "  2%|▏         | 8067/356344 [01:55<41:57, 138.36it/s]\u001b[A"
     ]
    },
    {
     "name": "stdout",
     "output_type": "stream",
     "text": [
      "東京都港区南青山\n"
     ]
    },
    {
     "name": "stderr",
     "output_type": "stream",
     "text": [
      "\n",
      "  2%|▏         | 8164/356344 [01:56<47:31, 122.12it/s]\u001b[A\n",
      "  2%|▏         | 8268/356344 [01:56<34:55, 166.10it/s]\u001b[A"
     ]
    },
    {
     "name": "stdout",
     "output_type": "stream",
     "text": [
      "東京都港区南麻布\n"
     ]
    },
    {
     "name": "stderr",
     "output_type": "stream",
     "text": [
      "\n",
      "  2%|▏         | 8350/356344 [01:57<46:50, 123.82it/s]\u001b[A"
     ]
    },
    {
     "name": "stdout",
     "output_type": "stream",
     "text": [
      "東京都港区元赤坂\n"
     ]
    },
    {
     "name": "stderr",
     "output_type": "stream",
     "text": [
      "\n",
      "  2%|▏         | 8398/356344 [01:59<1:11:33, 81.04it/s]\u001b[A"
     ]
    },
    {
     "name": "stdout",
     "output_type": "stream",
     "text": [
      "東京都港区元麻布\n"
     ]
    },
    {
     "name": "stderr",
     "output_type": "stream",
     "text": [
      "\n",
      "  2%|▏         | 8433/356344 [02:00<1:40:27, 57.72it/s]\u001b[A\n",
      "  2%|▏         | 8552/356344 [02:00<1:11:45, 80.77it/s]\u001b[A\n",
      "  2%|▏         | 8638/356344 [02:01<1:10:44, 81.91it/s]\u001b[A"
     ]
    },
    {
     "name": "stdout",
     "output_type": "stream",
     "text": [
      "東京都新宿区愛住町\n",
      "東京都新宿区赤城下町\n",
      "東京都新宿区赤城元町\n"
     ]
    },
    {
     "name": "stderr",
     "output_type": "stream",
     "text": [
      "\n",
      "  2%|▏         | 8678/356344 [02:04<3:10:18, 30.45it/s]\u001b[A\n",
      "  2%|▏         | 8707/356344 [02:05<3:21:09, 28.80it/s]\u001b[A"
     ]
    },
    {
     "name": "stdout",
     "output_type": "stream",
     "text": [
      "東京都新宿区市谷加賀町\n",
      "東京都新宿区市谷甲良町\n"
     ]
    },
    {
     "name": "stderr",
     "output_type": "stream",
     "text": [
      "\n",
      "  2%|▏         | 8728/356344 [02:07<5:29:05, 17.61it/s]\u001b[A"
     ]
    },
    {
     "name": "stdout",
     "output_type": "stream",
     "text": [
      "東京都新宿区市谷砂土原町\n"
     ]
    },
    {
     "name": "stderr",
     "output_type": "stream",
     "text": [
      "\n",
      "  2%|▏         | 8743/356344 [02:08<6:00:40, 16.06it/s]\u001b[A"
     ]
    },
    {
     "name": "stdout",
     "output_type": "stream",
     "text": [
      "東京都新宿区市谷左内町\n"
     ]
    },
    {
     "name": "stderr",
     "output_type": "stream",
     "text": [
      "\n",
      "  2%|▏         | 8754/356344 [02:10<7:09:15, 13.50it/s]\u001b[A"
     ]
    },
    {
     "name": "stdout",
     "output_type": "stream",
     "text": [
      "東京都新宿区市谷台町\n"
     ]
    },
    {
     "name": "stderr",
     "output_type": "stream",
     "text": [
      "\n",
      "  2%|▏         | 8762/356344 [02:11<9:12:54, 10.48it/s]\u001b[A"
     ]
    },
    {
     "name": "stdout",
     "output_type": "stream",
     "text": [
      "東京都新宿区市谷田町\n"
     ]
    },
    {
     "name": "stderr",
     "output_type": "stream",
     "text": [
      "\n",
      "  2%|▏         | 8777/356344 [02:12<8:44:26, 11.05it/s]\u001b[A"
     ]
    },
    {
     "name": "stdout",
     "output_type": "stream",
     "text": [
      "東京都新宿区市谷長延寺町\n"
     ]
    },
    {
     "ename": "KeyboardInterrupt",
     "evalue": "",
     "output_type": "error",
     "traceback": [
      "\u001b[0;31m---------------------------------------------------------------------------\u001b[0m",
      "\u001b[0;31mKeyboardInterrupt\u001b[0m                         Traceback (most recent call last)",
      "\u001b[0;32m<ipython-input-124-82d231248b5b>\u001b[0m in \u001b[0;36m<module>\u001b[0;34m\u001b[0m\n\u001b[1;32m      3\u001b[0m     \u001b[0mloc_name\u001b[0m \u001b[0;34m=\u001b[0m \u001b[0;34m\"\"\u001b[0m\u001b[0;34m.\u001b[0m\u001b[0mjoin\u001b[0m\u001b[0;34m(\u001b[0m\u001b[0mtrain_df\u001b[0m\u001b[0;34m.\u001b[0m\u001b[0miloc\u001b[0m\u001b[0;34m[\u001b[0m\u001b[0mi\u001b[0m\u001b[0;34m]\u001b[0m\u001b[0;34m[\u001b[0m\u001b[0;34m[\u001b[0m\u001b[0;34m\"都道府県名\"\u001b[0m\u001b[0;34m,\u001b[0m \u001b[0;34m\"市区町村名\"\u001b[0m\u001b[0;34m,\u001b[0m \u001b[0;34m\"地区名\"\u001b[0m\u001b[0;34m]\u001b[0m\u001b[0;34m]\u001b[0m\u001b[0;34m)\u001b[0m\u001b[0;34m\u001b[0m\u001b[0;34m\u001b[0m\u001b[0m\n\u001b[1;32m      4\u001b[0m     \u001b[0;32mif\u001b[0m \u001b[0;32mnot\u001b[0m \u001b[0mloc_name\u001b[0m \u001b[0;32min\u001b[0m \u001b[0mlatlng_dic\u001b[0m\u001b[0;34m:\u001b[0m\u001b[0;34m\u001b[0m\u001b[0;34m\u001b[0m\u001b[0m\n\u001b[0;32m----> 5\u001b[0;31m         \u001b[0mres\u001b[0m \u001b[0;34m=\u001b[0m \u001b[0mgeocoder\u001b[0m\u001b[0;34m.\u001b[0m\u001b[0mosm\u001b[0m\u001b[0;34m(\u001b[0m\u001b[0mloc_name\u001b[0m\u001b[0;34m,\u001b[0m \u001b[0mtimeout\u001b[0m\u001b[0;34m=\u001b[0m\u001b[0;36m10\u001b[0m\u001b[0;34m)\u001b[0m\u001b[0;34m\u001b[0m\u001b[0;34m\u001b[0m\u001b[0m\n\u001b[0m\u001b[1;32m      6\u001b[0m         \u001b[0mlatlng_dic\u001b[0m\u001b[0;34m[\u001b[0m\u001b[0mloc_name\u001b[0m\u001b[0;34m]\u001b[0m \u001b[0;34m=\u001b[0m \u001b[0mres\u001b[0m\u001b[0;34m.\u001b[0m\u001b[0mlatlng\u001b[0m\u001b[0;34m\u001b[0m\u001b[0;34m\u001b[0m\u001b[0m\n\u001b[1;32m      7\u001b[0m         \u001b[0;31m#print(res.latlng, res.address)\u001b[0m\u001b[0;34m\u001b[0m\u001b[0;34m\u001b[0m\u001b[0;34m\u001b[0m\u001b[0m\n",
      "\u001b[0;32m/anaconda3/envs/kaggle/lib/python3.6/site-packages/geocoder/api.py\u001b[0m in \u001b[0;36mosm\u001b[0;34m(location, **kwargs)\u001b[0m\n\u001b[1;32m    456\u001b[0m                \u001b[0;34m(\u001b[0m\u001b[0mex\u001b[0m\u001b[0;34m:\u001b[0m \u001b[0mhttp\u001b[0m\u001b[0;34m:\u001b[0m\u001b[0;34m//\u001b[0m\u001b[0mnominatim\u001b[0m\u001b[0;34m.\u001b[0m\u001b[0mopenstreetmap\u001b[0m\u001b[0;34m.\u001b[0m\u001b[0morg\u001b[0m\u001b[0;34m/\u001b[0m\u001b[0msearch\u001b[0m\u001b[0;34m)\u001b[0m\u001b[0;34m\u001b[0m\u001b[0;34m\u001b[0m\u001b[0m\n\u001b[1;32m    457\u001b[0m     \"\"\"\n\u001b[0;32m--> 458\u001b[0;31m     \u001b[0;32mreturn\u001b[0m \u001b[0mget\u001b[0m\u001b[0;34m(\u001b[0m\u001b[0mlocation\u001b[0m\u001b[0;34m,\u001b[0m \u001b[0mprovider\u001b[0m\u001b[0;34m=\u001b[0m\u001b[0;34m'osm'\u001b[0m\u001b[0;34m,\u001b[0m \u001b[0;34m**\u001b[0m\u001b[0mkwargs\u001b[0m\u001b[0;34m)\u001b[0m\u001b[0;34m\u001b[0m\u001b[0;34m\u001b[0m\u001b[0m\n\u001b[0m\u001b[1;32m    459\u001b[0m \u001b[0;34m\u001b[0m\u001b[0m\n\u001b[1;32m    460\u001b[0m \u001b[0;34m\u001b[0m\u001b[0m\n",
      "\u001b[0;32m/anaconda3/envs/kaggle/lib/python3.6/site-packages/geocoder/api.py\u001b[0m in \u001b[0;36mget\u001b[0;34m(location, **kwargs)\u001b[0m\n\u001b[1;32m    196\u001b[0m         \u001b[0;32mif\u001b[0m \u001b[0mmethod\u001b[0m \u001b[0;32mnot\u001b[0m \u001b[0;32min\u001b[0m \u001b[0moptions\u001b[0m\u001b[0;34m[\u001b[0m\u001b[0mprovider\u001b[0m\u001b[0;34m]\u001b[0m\u001b[0;34m:\u001b[0m\u001b[0;34m\u001b[0m\u001b[0;34m\u001b[0m\u001b[0m\n\u001b[1;32m    197\u001b[0m             \u001b[0;32mraise\u001b[0m \u001b[0mValueError\u001b[0m\u001b[0;34m(\u001b[0m\u001b[0;34m\"Invalid method\"\u001b[0m\u001b[0;34m)\u001b[0m\u001b[0;34m\u001b[0m\u001b[0;34m\u001b[0m\u001b[0m\n\u001b[0;32m--> 198\u001b[0;31m     \u001b[0;32mreturn\u001b[0m \u001b[0moptions\u001b[0m\u001b[0;34m[\u001b[0m\u001b[0mprovider\u001b[0m\u001b[0;34m]\u001b[0m\u001b[0;34m[\u001b[0m\u001b[0mmethod\u001b[0m\u001b[0;34m]\u001b[0m\u001b[0;34m(\u001b[0m\u001b[0mlocation\u001b[0m\u001b[0;34m,\u001b[0m \u001b[0;34m**\u001b[0m\u001b[0mkwargs\u001b[0m\u001b[0;34m)\u001b[0m\u001b[0;34m\u001b[0m\u001b[0;34m\u001b[0m\u001b[0m\n\u001b[0m\u001b[1;32m    199\u001b[0m \u001b[0;34m\u001b[0m\u001b[0m\n\u001b[1;32m    200\u001b[0m \u001b[0;34m\u001b[0m\u001b[0m\n",
      "\u001b[0;32m/anaconda3/envs/kaggle/lib/python3.6/site-packages/geocoder/base.py\u001b[0m in \u001b[0;36m__init__\u001b[0;34m(self, location, **kwargs)\u001b[0m\n\u001b[1;32m    408\u001b[0m \u001b[0;34m\u001b[0m\u001b[0m\n\u001b[1;32m    409\u001b[0m         \u001b[0;31m# query and parse results\u001b[0m\u001b[0;34m\u001b[0m\u001b[0;34m\u001b[0m\u001b[0;34m\u001b[0m\u001b[0m\n\u001b[0;32m--> 410\u001b[0;31m         \u001b[0mself\u001b[0m\u001b[0;34m.\u001b[0m\u001b[0m_initialize\u001b[0m\u001b[0;34m(\u001b[0m\u001b[0;34m)\u001b[0m\u001b[0;34m\u001b[0m\u001b[0;34m\u001b[0m\u001b[0m\n\u001b[0m\u001b[1;32m    411\u001b[0m \u001b[0;34m\u001b[0m\u001b[0m\n\u001b[1;32m    412\u001b[0m     \u001b[0;32mdef\u001b[0m \u001b[0m__getitem__\u001b[0m\u001b[0;34m(\u001b[0m\u001b[0mself\u001b[0m\u001b[0;34m,\u001b[0m \u001b[0mkey\u001b[0m\u001b[0;34m)\u001b[0m\u001b[0;34m:\u001b[0m\u001b[0;34m\u001b[0m\u001b[0;34m\u001b[0m\u001b[0m\n",
      "\u001b[0;32m/anaconda3/envs/kaggle/lib/python3.6/site-packages/geocoder/base.py\u001b[0m in \u001b[0;36m_initialize\u001b[0;34m(self)\u001b[0m\n\u001b[1;32m    455\u001b[0m     \u001b[0;32mdef\u001b[0m \u001b[0m_initialize\u001b[0m\u001b[0;34m(\u001b[0m\u001b[0mself\u001b[0m\u001b[0;34m)\u001b[0m\u001b[0;34m:\u001b[0m\u001b[0;34m\u001b[0m\u001b[0;34m\u001b[0m\u001b[0m\n\u001b[1;32m    456\u001b[0m         \u001b[0;31m# query URL and get valid JSON (also stored in self.json)\u001b[0m\u001b[0;34m\u001b[0m\u001b[0;34m\u001b[0m\u001b[0;34m\u001b[0m\u001b[0m\n\u001b[0;32m--> 457\u001b[0;31m         \u001b[0mjson_response\u001b[0m \u001b[0;34m=\u001b[0m \u001b[0mself\u001b[0m\u001b[0;34m.\u001b[0m\u001b[0m_connect\u001b[0m\u001b[0;34m(\u001b[0m\u001b[0;34m)\u001b[0m\u001b[0;34m\u001b[0m\u001b[0;34m\u001b[0m\u001b[0m\n\u001b[0m\u001b[1;32m    458\u001b[0m \u001b[0;34m\u001b[0m\u001b[0m\n\u001b[1;32m    459\u001b[0m         \u001b[0;31m# catch errors\u001b[0m\u001b[0;34m\u001b[0m\u001b[0;34m\u001b[0m\u001b[0;34m\u001b[0m\u001b[0m\n",
      "\u001b[0;32m/anaconda3/envs/kaggle/lib/python3.6/site-packages/geocoder/base.py\u001b[0m in \u001b[0;36m_connect\u001b[0;34m(self)\u001b[0m\n\u001b[1;32m    482\u001b[0m                 \u001b[0mheaders\u001b[0m\u001b[0;34m=\u001b[0m\u001b[0mself\u001b[0m\u001b[0;34m.\u001b[0m\u001b[0mheaders\u001b[0m\u001b[0;34m,\u001b[0m\u001b[0;34m\u001b[0m\u001b[0;34m\u001b[0m\u001b[0m\n\u001b[1;32m    483\u001b[0m                 \u001b[0mtimeout\u001b[0m\u001b[0;34m=\u001b[0m\u001b[0mself\u001b[0m\u001b[0;34m.\u001b[0m\u001b[0mtimeout\u001b[0m\u001b[0;34m,\u001b[0m\u001b[0;34m\u001b[0m\u001b[0;34m\u001b[0m\u001b[0m\n\u001b[0;32m--> 484\u001b[0;31m                 \u001b[0mproxies\u001b[0m\u001b[0;34m=\u001b[0m\u001b[0mself\u001b[0m\u001b[0;34m.\u001b[0m\u001b[0mproxies\u001b[0m\u001b[0;34m\u001b[0m\u001b[0;34m\u001b[0m\u001b[0m\n\u001b[0m\u001b[1;32m    485\u001b[0m             )\n\u001b[1;32m    486\u001b[0m \u001b[0;34m\u001b[0m\u001b[0m\n",
      "\u001b[0;32m/anaconda3/envs/kaggle/lib/python3.6/site-packages/geocoder/base.py\u001b[0m in \u001b[0;36mrate_limited_get\u001b[0;34m(self, url, **kwargs)\u001b[0m\n\u001b[1;32m    508\u001b[0m     \u001b[0;32mdef\u001b[0m \u001b[0mrate_limited_get\u001b[0m\u001b[0;34m(\u001b[0m\u001b[0mself\u001b[0m\u001b[0;34m,\u001b[0m \u001b[0murl\u001b[0m\u001b[0;34m,\u001b[0m \u001b[0;34m**\u001b[0m\u001b[0mkwargs\u001b[0m\u001b[0;34m)\u001b[0m\u001b[0;34m:\u001b[0m\u001b[0;34m\u001b[0m\u001b[0;34m\u001b[0m\u001b[0m\n\u001b[1;32m    509\u001b[0m         \u001b[0;34m\"\"\" By default, simply wraps a session.get request\"\"\"\u001b[0m\u001b[0;34m\u001b[0m\u001b[0;34m\u001b[0m\u001b[0m\n\u001b[0;32m--> 510\u001b[0;31m         \u001b[0;32mreturn\u001b[0m \u001b[0mself\u001b[0m\u001b[0;34m.\u001b[0m\u001b[0msession\u001b[0m\u001b[0;34m.\u001b[0m\u001b[0mget\u001b[0m\u001b[0;34m(\u001b[0m\u001b[0murl\u001b[0m\u001b[0;34m,\u001b[0m \u001b[0;34m**\u001b[0m\u001b[0mkwargs\u001b[0m\u001b[0;34m)\u001b[0m\u001b[0;34m\u001b[0m\u001b[0;34m\u001b[0m\u001b[0m\n\u001b[0m\u001b[1;32m    511\u001b[0m \u001b[0;34m\u001b[0m\u001b[0m\n\u001b[1;32m    512\u001b[0m     \u001b[0;32mdef\u001b[0m \u001b[0m_adapt_results\u001b[0m\u001b[0;34m(\u001b[0m\u001b[0mself\u001b[0m\u001b[0;34m,\u001b[0m \u001b[0mjson_response\u001b[0m\u001b[0;34m)\u001b[0m\u001b[0;34m:\u001b[0m\u001b[0;34m\u001b[0m\u001b[0;34m\u001b[0m\u001b[0m\n",
      "\u001b[0;32m/anaconda3/envs/kaggle/lib/python3.6/site-packages/requests/sessions.py\u001b[0m in \u001b[0;36mget\u001b[0;34m(self, url, **kwargs)\u001b[0m\n\u001b[1;32m    544\u001b[0m \u001b[0;34m\u001b[0m\u001b[0m\n\u001b[1;32m    545\u001b[0m         \u001b[0mkwargs\u001b[0m\u001b[0;34m.\u001b[0m\u001b[0msetdefault\u001b[0m\u001b[0;34m(\u001b[0m\u001b[0;34m'allow_redirects'\u001b[0m\u001b[0;34m,\u001b[0m \u001b[0;32mTrue\u001b[0m\u001b[0;34m)\u001b[0m\u001b[0;34m\u001b[0m\u001b[0;34m\u001b[0m\u001b[0m\n\u001b[0;32m--> 546\u001b[0;31m         \u001b[0;32mreturn\u001b[0m \u001b[0mself\u001b[0m\u001b[0;34m.\u001b[0m\u001b[0mrequest\u001b[0m\u001b[0;34m(\u001b[0m\u001b[0;34m'GET'\u001b[0m\u001b[0;34m,\u001b[0m \u001b[0murl\u001b[0m\u001b[0;34m,\u001b[0m \u001b[0;34m**\u001b[0m\u001b[0mkwargs\u001b[0m\u001b[0;34m)\u001b[0m\u001b[0;34m\u001b[0m\u001b[0;34m\u001b[0m\u001b[0m\n\u001b[0m\u001b[1;32m    547\u001b[0m \u001b[0;34m\u001b[0m\u001b[0m\n\u001b[1;32m    548\u001b[0m     \u001b[0;32mdef\u001b[0m \u001b[0moptions\u001b[0m\u001b[0;34m(\u001b[0m\u001b[0mself\u001b[0m\u001b[0;34m,\u001b[0m \u001b[0murl\u001b[0m\u001b[0;34m,\u001b[0m \u001b[0;34m**\u001b[0m\u001b[0mkwargs\u001b[0m\u001b[0;34m)\u001b[0m\u001b[0;34m:\u001b[0m\u001b[0;34m\u001b[0m\u001b[0;34m\u001b[0m\u001b[0m\n",
      "\u001b[0;32m/anaconda3/envs/kaggle/lib/python3.6/site-packages/requests/sessions.py\u001b[0m in \u001b[0;36mrequest\u001b[0;34m(self, method, url, params, data, headers, cookies, files, auth, timeout, allow_redirects, proxies, hooks, stream, verify, cert, json)\u001b[0m\n\u001b[1;32m    531\u001b[0m         }\n\u001b[1;32m    532\u001b[0m         \u001b[0msend_kwargs\u001b[0m\u001b[0;34m.\u001b[0m\u001b[0mupdate\u001b[0m\u001b[0;34m(\u001b[0m\u001b[0msettings\u001b[0m\u001b[0;34m)\u001b[0m\u001b[0;34m\u001b[0m\u001b[0;34m\u001b[0m\u001b[0m\n\u001b[0;32m--> 533\u001b[0;31m         \u001b[0mresp\u001b[0m \u001b[0;34m=\u001b[0m \u001b[0mself\u001b[0m\u001b[0;34m.\u001b[0m\u001b[0msend\u001b[0m\u001b[0;34m(\u001b[0m\u001b[0mprep\u001b[0m\u001b[0;34m,\u001b[0m \u001b[0;34m**\u001b[0m\u001b[0msend_kwargs\u001b[0m\u001b[0;34m)\u001b[0m\u001b[0;34m\u001b[0m\u001b[0;34m\u001b[0m\u001b[0m\n\u001b[0m\u001b[1;32m    534\u001b[0m \u001b[0;34m\u001b[0m\u001b[0m\n\u001b[1;32m    535\u001b[0m         \u001b[0;32mreturn\u001b[0m \u001b[0mresp\u001b[0m\u001b[0;34m\u001b[0m\u001b[0;34m\u001b[0m\u001b[0m\n",
      "\u001b[0;32m/anaconda3/envs/kaggle/lib/python3.6/site-packages/requests/sessions.py\u001b[0m in \u001b[0;36msend\u001b[0;34m(self, request, **kwargs)\u001b[0m\n\u001b[1;32m    644\u001b[0m \u001b[0;34m\u001b[0m\u001b[0m\n\u001b[1;32m    645\u001b[0m         \u001b[0;31m# Send the request\u001b[0m\u001b[0;34m\u001b[0m\u001b[0;34m\u001b[0m\u001b[0;34m\u001b[0m\u001b[0m\n\u001b[0;32m--> 646\u001b[0;31m         \u001b[0mr\u001b[0m \u001b[0;34m=\u001b[0m \u001b[0madapter\u001b[0m\u001b[0;34m.\u001b[0m\u001b[0msend\u001b[0m\u001b[0;34m(\u001b[0m\u001b[0mrequest\u001b[0m\u001b[0;34m,\u001b[0m \u001b[0;34m**\u001b[0m\u001b[0mkwargs\u001b[0m\u001b[0;34m)\u001b[0m\u001b[0;34m\u001b[0m\u001b[0;34m\u001b[0m\u001b[0m\n\u001b[0m\u001b[1;32m    647\u001b[0m \u001b[0;34m\u001b[0m\u001b[0m\n\u001b[1;32m    648\u001b[0m         \u001b[0;31m# Total elapsed time of the request (approximately)\u001b[0m\u001b[0;34m\u001b[0m\u001b[0;34m\u001b[0m\u001b[0;34m\u001b[0m\u001b[0m\n",
      "\u001b[0;32m/anaconda3/envs/kaggle/lib/python3.6/site-packages/requests/adapters.py\u001b[0m in \u001b[0;36msend\u001b[0;34m(self, request, stream, timeout, verify, cert, proxies)\u001b[0m\n\u001b[1;32m    447\u001b[0m                     \u001b[0mdecode_content\u001b[0m\u001b[0;34m=\u001b[0m\u001b[0;32mFalse\u001b[0m\u001b[0;34m,\u001b[0m\u001b[0;34m\u001b[0m\u001b[0;34m\u001b[0m\u001b[0m\n\u001b[1;32m    448\u001b[0m                     \u001b[0mretries\u001b[0m\u001b[0;34m=\u001b[0m\u001b[0mself\u001b[0m\u001b[0;34m.\u001b[0m\u001b[0mmax_retries\u001b[0m\u001b[0;34m,\u001b[0m\u001b[0;34m\u001b[0m\u001b[0;34m\u001b[0m\u001b[0m\n\u001b[0;32m--> 449\u001b[0;31m                     \u001b[0mtimeout\u001b[0m\u001b[0;34m=\u001b[0m\u001b[0mtimeout\u001b[0m\u001b[0;34m\u001b[0m\u001b[0;34m\u001b[0m\u001b[0m\n\u001b[0m\u001b[1;32m    450\u001b[0m                 )\n\u001b[1;32m    451\u001b[0m \u001b[0;34m\u001b[0m\u001b[0m\n",
      "\u001b[0;32m/anaconda3/envs/kaggle/lib/python3.6/site-packages/urllib3/connectionpool.py\u001b[0m in \u001b[0;36murlopen\u001b[0;34m(self, method, url, body, headers, retries, redirect, assert_same_host, timeout, pool_timeout, release_conn, chunked, body_pos, **response_kw)\u001b[0m\n\u001b[1;32m    598\u001b[0m                                                   \u001b[0mtimeout\u001b[0m\u001b[0;34m=\u001b[0m\u001b[0mtimeout_obj\u001b[0m\u001b[0;34m,\u001b[0m\u001b[0;34m\u001b[0m\u001b[0;34m\u001b[0m\u001b[0m\n\u001b[1;32m    599\u001b[0m                                                   \u001b[0mbody\u001b[0m\u001b[0;34m=\u001b[0m\u001b[0mbody\u001b[0m\u001b[0;34m,\u001b[0m \u001b[0mheaders\u001b[0m\u001b[0;34m=\u001b[0m\u001b[0mheaders\u001b[0m\u001b[0;34m,\u001b[0m\u001b[0;34m\u001b[0m\u001b[0;34m\u001b[0m\u001b[0m\n\u001b[0;32m--> 600\u001b[0;31m                                                   chunked=chunked)\n\u001b[0m\u001b[1;32m    601\u001b[0m \u001b[0;34m\u001b[0m\u001b[0m\n\u001b[1;32m    602\u001b[0m             \u001b[0;31m# If we're going to release the connection in ``finally:``, then\u001b[0m\u001b[0;34m\u001b[0m\u001b[0;34m\u001b[0m\u001b[0;34m\u001b[0m\u001b[0m\n",
      "\u001b[0;32m/anaconda3/envs/kaggle/lib/python3.6/site-packages/urllib3/connectionpool.py\u001b[0m in \u001b[0;36m_make_request\u001b[0;34m(self, conn, method, url, timeout, chunked, **httplib_request_kw)\u001b[0m\n\u001b[1;32m    341\u001b[0m         \u001b[0;31m# Trigger any extra validation we need to do.\u001b[0m\u001b[0;34m\u001b[0m\u001b[0;34m\u001b[0m\u001b[0;34m\u001b[0m\u001b[0m\n\u001b[1;32m    342\u001b[0m         \u001b[0;32mtry\u001b[0m\u001b[0;34m:\u001b[0m\u001b[0;34m\u001b[0m\u001b[0;34m\u001b[0m\u001b[0m\n\u001b[0;32m--> 343\u001b[0;31m             \u001b[0mself\u001b[0m\u001b[0;34m.\u001b[0m\u001b[0m_validate_conn\u001b[0m\u001b[0;34m(\u001b[0m\u001b[0mconn\u001b[0m\u001b[0;34m)\u001b[0m\u001b[0;34m\u001b[0m\u001b[0;34m\u001b[0m\u001b[0m\n\u001b[0m\u001b[1;32m    344\u001b[0m         \u001b[0;32mexcept\u001b[0m \u001b[0;34m(\u001b[0m\u001b[0mSocketTimeout\u001b[0m\u001b[0;34m,\u001b[0m \u001b[0mBaseSSLError\u001b[0m\u001b[0;34m)\u001b[0m \u001b[0;32mas\u001b[0m \u001b[0me\u001b[0m\u001b[0;34m:\u001b[0m\u001b[0;34m\u001b[0m\u001b[0;34m\u001b[0m\u001b[0m\n\u001b[1;32m    345\u001b[0m             \u001b[0;31m# Py2 raises this as a BaseSSLError, Py3 raises it as socket timeout.\u001b[0m\u001b[0;34m\u001b[0m\u001b[0;34m\u001b[0m\u001b[0;34m\u001b[0m\u001b[0m\n",
      "\u001b[0;32m/anaconda3/envs/kaggle/lib/python3.6/site-packages/urllib3/connectionpool.py\u001b[0m in \u001b[0;36m_validate_conn\u001b[0;34m(self, conn)\u001b[0m\n\u001b[1;32m    837\u001b[0m         \u001b[0;31m# Force connect early to allow us to validate the connection.\u001b[0m\u001b[0;34m\u001b[0m\u001b[0;34m\u001b[0m\u001b[0;34m\u001b[0m\u001b[0m\n\u001b[1;32m    838\u001b[0m         \u001b[0;32mif\u001b[0m \u001b[0;32mnot\u001b[0m \u001b[0mgetattr\u001b[0m\u001b[0;34m(\u001b[0m\u001b[0mconn\u001b[0m\u001b[0;34m,\u001b[0m \u001b[0;34m'sock'\u001b[0m\u001b[0;34m,\u001b[0m \u001b[0;32mNone\u001b[0m\u001b[0;34m)\u001b[0m\u001b[0;34m:\u001b[0m  \u001b[0;31m# AppEngine might not have  `.sock`\u001b[0m\u001b[0;34m\u001b[0m\u001b[0;34m\u001b[0m\u001b[0m\n\u001b[0;32m--> 839\u001b[0;31m             \u001b[0mconn\u001b[0m\u001b[0;34m.\u001b[0m\u001b[0mconnect\u001b[0m\u001b[0;34m(\u001b[0m\u001b[0;34m)\u001b[0m\u001b[0;34m\u001b[0m\u001b[0;34m\u001b[0m\u001b[0m\n\u001b[0m\u001b[1;32m    840\u001b[0m \u001b[0;34m\u001b[0m\u001b[0m\n\u001b[1;32m    841\u001b[0m         \u001b[0;32mif\u001b[0m \u001b[0;32mnot\u001b[0m \u001b[0mconn\u001b[0m\u001b[0;34m.\u001b[0m\u001b[0mis_verified\u001b[0m\u001b[0;34m:\u001b[0m\u001b[0;34m\u001b[0m\u001b[0;34m\u001b[0m\u001b[0m\n",
      "\u001b[0;32m/anaconda3/envs/kaggle/lib/python3.6/site-packages/urllib3/connection.py\u001b[0m in \u001b[0;36mconnect\u001b[0;34m(self)\u001b[0m\n\u001b[1;32m    299\u001b[0m     \u001b[0;32mdef\u001b[0m \u001b[0mconnect\u001b[0m\u001b[0;34m(\u001b[0m\u001b[0mself\u001b[0m\u001b[0;34m)\u001b[0m\u001b[0;34m:\u001b[0m\u001b[0;34m\u001b[0m\u001b[0;34m\u001b[0m\u001b[0m\n\u001b[1;32m    300\u001b[0m         \u001b[0;31m# Add certificate verification\u001b[0m\u001b[0;34m\u001b[0m\u001b[0;34m\u001b[0m\u001b[0;34m\u001b[0m\u001b[0m\n\u001b[0;32m--> 301\u001b[0;31m         \u001b[0mconn\u001b[0m \u001b[0;34m=\u001b[0m \u001b[0mself\u001b[0m\u001b[0;34m.\u001b[0m\u001b[0m_new_conn\u001b[0m\u001b[0;34m(\u001b[0m\u001b[0;34m)\u001b[0m\u001b[0;34m\u001b[0m\u001b[0;34m\u001b[0m\u001b[0m\n\u001b[0m\u001b[1;32m    302\u001b[0m         \u001b[0mhostname\u001b[0m \u001b[0;34m=\u001b[0m \u001b[0mself\u001b[0m\u001b[0;34m.\u001b[0m\u001b[0mhost\u001b[0m\u001b[0;34m\u001b[0m\u001b[0;34m\u001b[0m\u001b[0m\n\u001b[1;32m    303\u001b[0m \u001b[0;34m\u001b[0m\u001b[0m\n",
      "\u001b[0;32m/anaconda3/envs/kaggle/lib/python3.6/site-packages/urllib3/connection.py\u001b[0m in \u001b[0;36m_new_conn\u001b[0;34m(self)\u001b[0m\n\u001b[1;32m    157\u001b[0m         \u001b[0;32mtry\u001b[0m\u001b[0;34m:\u001b[0m\u001b[0;34m\u001b[0m\u001b[0;34m\u001b[0m\u001b[0m\n\u001b[1;32m    158\u001b[0m             conn = connection.create_connection(\n\u001b[0;32m--> 159\u001b[0;31m                 (self._dns_host, self.port), self.timeout, **extra_kw)\n\u001b[0m\u001b[1;32m    160\u001b[0m \u001b[0;34m\u001b[0m\u001b[0m\n\u001b[1;32m    161\u001b[0m         \u001b[0;32mexcept\u001b[0m \u001b[0mSocketTimeout\u001b[0m\u001b[0;34m:\u001b[0m\u001b[0;34m\u001b[0m\u001b[0;34m\u001b[0m\u001b[0m\n",
      "\u001b[0;32m/anaconda3/envs/kaggle/lib/python3.6/site-packages/urllib3/util/connection.py\u001b[0m in \u001b[0;36mcreate_connection\u001b[0;34m(address, timeout, source_address, socket_options)\u001b[0m\n\u001b[1;32m     68\u001b[0m             \u001b[0;32mif\u001b[0m \u001b[0msource_address\u001b[0m\u001b[0;34m:\u001b[0m\u001b[0;34m\u001b[0m\u001b[0;34m\u001b[0m\u001b[0m\n\u001b[1;32m     69\u001b[0m                 \u001b[0msock\u001b[0m\u001b[0;34m.\u001b[0m\u001b[0mbind\u001b[0m\u001b[0;34m(\u001b[0m\u001b[0msource_address\u001b[0m\u001b[0;34m)\u001b[0m\u001b[0;34m\u001b[0m\u001b[0;34m\u001b[0m\u001b[0m\n\u001b[0;32m---> 70\u001b[0;31m             \u001b[0msock\u001b[0m\u001b[0;34m.\u001b[0m\u001b[0mconnect\u001b[0m\u001b[0;34m(\u001b[0m\u001b[0msa\u001b[0m\u001b[0;34m)\u001b[0m\u001b[0;34m\u001b[0m\u001b[0;34m\u001b[0m\u001b[0m\n\u001b[0m\u001b[1;32m     71\u001b[0m             \u001b[0;32mreturn\u001b[0m \u001b[0msock\u001b[0m\u001b[0;34m\u001b[0m\u001b[0;34m\u001b[0m\u001b[0m\n\u001b[1;32m     72\u001b[0m \u001b[0;34m\u001b[0m\u001b[0m\n",
      "\u001b[0;31mKeyboardInterrupt\u001b[0m: "
     ]
    },
    {
     "name": "stderr",
     "output_type": "stream",
     "text": [
      "\n",
      "  2%|▏         | 8777/356344 [02:27<8:44:26, 11.05it/s]\u001b[A"
     ]
    }
   ],
   "source": [
    "latlng_dic = {}\n",
    "for i in tqdm(range(len(train_df))):\n",
    "    loc_name = \"\".join(train_df.iloc[i][[\"都道府県名\", \"市区町村名\", \"地区名\"]])\n",
    "    if not loc_name in latlng_dic:\n",
    "        res = geocoder.osm(loc_name, timeout=10)\n",
    "        latlng_dic[loc_name] = res.latlng\n",
    "        #print(res.latlng, res.address)\n",
    "        if (res.latlng is None):\n",
    "            print(loc_name)"
   ]
  },
  {
   "cell_type": "code",
   "execution_count": 142,
   "metadata": {},
   "outputs": [
    {
     "data": {
      "text/plain": [
       "Index(['id', '種類', '地域', '市区町村コード', '都道府県名', '市区町村名', '地区名', '最寄駅：名称',\n",
       "       '最寄駅：距離（分）', '間取り', '面積（㎡）', '土地の形状', '間口', '延床面積（㎡）', '建築年', '建物の構造',\n",
       "       '用途', '今後の利用目的', '前面道路：方位', '前面道路：種類', '前面道路：幅員（ｍ）', '都市計画', '建ぺい率（％）',\n",
       "       '容積率（％）', '取引時点', '改装', '取引の事情等', 'y'],\n",
       "      dtype='object')"
      ]
     },
     "execution_count": 142,
     "metadata": {},
     "output_type": "execute_result"
    }
   ],
   "source": [
    "train_df.columns"
   ]
  },
  {
   "cell_type": "code",
   "execution_count": 143,
   "metadata": {
    "collapsed": true,
    "jupyter": {
     "outputs_hidden": true
    }
   },
   "outputs": [
    {
     "data": {
      "text/plain": [
       "id                     1\n",
       "種類              中古マンション等\n",
       "地域                   NaN\n",
       "市区町村コード            13101\n",
       "都道府県名                東京都\n",
       "市区町村名               千代田区\n",
       "地区名                  飯田橋\n",
       "最寄駅：名称               飯田橋\n",
       "最寄駅：距離（分）              1\n",
       "間取り                 ２ＬＤＫ\n",
       "面積（㎡）                 55\n",
       "土地の形状                NaN\n",
       "間口                   NaN\n",
       "延床面積（㎡）              NaN\n",
       "建築年                昭和59年\n",
       "建物の構造                ＳＲＣ\n",
       "用途                   NaN\n",
       "今後の利用目的               住宅\n",
       "前面道路：方位              NaN\n",
       "前面道路：種類              NaN\n",
       "前面道路：幅員（ｍ）           NaN\n",
       "都市計画                商業地域\n",
       "建ぺい率（％）               80\n",
       "容積率（％）               600\n",
       "取引時点          2017年第４四半期\n",
       "改装                   改装済\n",
       "取引の事情等               NaN\n",
       "y                     66\n",
       "Name: 0, dtype: object"
      ]
     },
     "execution_count": 143,
     "metadata": {},
     "output_type": "execute_result"
    }
   ],
   "source": [
    "train_df.iloc[0]"
   ]
  },
  {
   "cell_type": "code",
   "execution_count": 110,
   "metadata": {
    "collapsed": true,
    "jupyter": {
     "outputs_hidden": true
    }
   },
   "outputs": [
    {
     "name": "stdout",
     "output_type": "stream",
     "text": [
      "id 1\n",
      "経度 500891.116\n",
      "緯度 123138.601\n",
      "所在地コード 13364\n",
      "用途 0\n",
      "連番 1\n",
      "年次 2019\n",
      "前年所在地コード 13364\n",
      "前年用途 0\n",
      "前年連番 1\n",
      "市区町村名 神津島\n",
      "住居表示 東京都　神津島村９９５番\n",
      "行政 13364\n",
      "地積 224\n",
      "利用の現況 10000000000000000\n",
      "利用状況表示 _\n",
      "建物構造 W2\n",
      "施設 101\n",
      "形状区分 _\n",
      "間口（比率） 10\n",
      "奥行（比率） 12\n",
      "階層（地上） 2\n",
      "階層（地下） 0\n",
      "前面道路区分 村道\n",
      "前面道路の方位区分 南\n",
      "前面道路の幅員 22\n",
      "前面道路の駅前区分 _\n",
      "前面道路の舗装状況 _\n",
      "側道区分 _\n",
      "側道方位区分 _\n",
      "交通施設との近接区分 _\n",
      "周辺の土地の利用の現況 一般住宅のほか民宿、店舗等が混在する住宅地域\n",
      "駅名 キャンドゥ前\n",
      "駅距離 460\n",
      "用途区分 _\n",
      "防火区分 _\n",
      "都市計画区分 非線引\n",
      "森林区分 _\n",
      "公園区分 _\n",
      "建蔽率 70\n",
      "容積率 200\n",
      "共通地点区分 False\n",
      "選定年次ビット 0000000000011111111111111111111111111\n",
      "Ｓ５８価格 0\n",
      "Ｓ５９価格 0\n",
      "Ｓ６０価格 0\n",
      "Ｓ６１価格 0\n",
      "Ｓ６２価格 0\n",
      "Ｓ６３価格 0\n",
      "Ｈ１価格 0\n",
      "Ｈ２価格 0\n",
      "Ｈ３価格 0\n",
      "Ｈ４価格 0\n",
      "Ｈ５価格 0\n",
      "Ｈ６価格 7600\n",
      "Ｈ７価格 7600\n",
      "Ｈ８価格 7600\n",
      "Ｈ９価格 7600\n",
      "Ｈ１０価格 7600\n",
      "Ｈ１１価格 7600\n",
      "Ｈ１２価格 7600\n",
      "Ｈ１３価格 7500\n",
      "Ｈ１４価格 7600\n",
      "Ｈ１５価格 7600\n",
      "Ｈ１６価格 7600\n",
      "Ｈ１７価格 7600\n",
      "Ｈ１８価格 7600\n",
      "Ｈ１９価格 7600\n",
      "Ｈ２０価格 7600\n",
      "Ｈ２１価格 7600\n",
      "Ｈ２２価格 7600\n",
      "Ｈ２３価格 7600\n",
      "Ｈ２４価格 7600\n",
      "Ｈ２５価格 7600\n",
      "Ｈ２６価格 7600\n",
      "Ｈ２７価格 7600\n",
      "Ｈ２８価格 7600\n",
      "Ｈ２９価格 7600\n",
      "Ｈ３０価格 7600\n",
      "Ｈ３１価格 7600\n",
      "属性移動Ｓ５９ 0\n",
      "属性移動Ｓ６０ 0\n",
      "属性移動Ｓ６１ 0\n",
      "属性移動Ｓ６２ 0\n",
      "属性移動Ｓ６３ 0\n",
      "属性移動Ｈ１ 0\n",
      "属性移動Ｈ２ 0\n",
      "属性移動Ｈ３ 0\n",
      "属性移動Ｈ４ 0\n",
      "属性移動Ｈ５ 0\n",
      "属性移動Ｈ６ 40000000000000\n",
      "属性移動Ｈ７ 10000000000000\n",
      "属性移動Ｈ８ 10000000000000\n",
      "属性移動Ｈ９ 10000000000000\n",
      "属性移動Ｈ１０ 10000001000001\n",
      "属性移動Ｈ１１ 10000001000001\n",
      "属性移動Ｈ１２ 10000000000011\n",
      "属性移動Ｈ１３ 10000000000000\n",
      "属性移動Ｈ１４ 10000000000000\n",
      "属性移動Ｈ１５ 10000000000000\n",
      "属性移動Ｈ１６ 10000100000000\n",
      "属性移動Ｈ１７ 10000000000001\n",
      "属性移動Ｈ１８ 10000000000000\n",
      "属性移動Ｈ１９ 10000000000000\n",
      "属性移動Ｈ２０ 10000000000000\n",
      "属性移動Ｈ２１ 10000010000000\n",
      "属性移動Ｈ２２ 10000000000000\n",
      "属性移動Ｈ２３ 10000000000000\n",
      "属性移動Ｈ２４ 10000000000000\n",
      "属性移動Ｈ２５ 10000000000000\n",
      "属性移動Ｈ２６ 10000000000000\n",
      "属性移動Ｈ２７ 10000000000000\n",
      "属性移動Ｈ２８ 10000000000000\n",
      "属性移動Ｈ２９ 10000000000000\n",
      "属性移動Ｈ３０ 10000000000000\n",
      "属性移動Ｈ３１ 10000010000000\n"
     ]
    }
   ],
   "source": [
    "for k, v in zip(pub_df.columns, pub_df.iloc[0].values):\n",
    "    print(k, v)"
   ]
  },
  {
   "cell_type": "code",
   "execution_count": 99,
   "metadata": {},
   "outputs": [
    {
     "data": {
      "text/plain": [
       "array([13101, 13102, 13103, 13104, 13105, 13106, 13107, 13108, 13109,\n",
       "       13110, 13111, 13112, 13113, 13114, 13115, 13116, 13117, 13118,\n",
       "       13119, 13120, 13121, 13122, 13123, 13201, 13202, 13203, 13204,\n",
       "       13205, 13206, 13207, 13208, 13209, 13210, 13211, 13212, 13213,\n",
       "       13214, 13215, 13218, 13219, 13220, 13221, 13222, 13223, 13224,\n",
       "       13225, 13227, 13228, 13229, 13303, 13305, 13307, 13308, 13361,\n",
       "       13363, 13364, 13381, 13401, 13421])"
      ]
     },
     "execution_count": 99,
     "metadata": {},
     "output_type": "execute_result"
    }
   ],
   "source": [
    "train_df['市区町村コード'].unique()"
   ]
  },
  {
   "cell_type": "code",
   "execution_count": 9,
   "metadata": {},
   "outputs": [
    {
     "data": {
      "text/html": [
       "<div>\n",
       "<style scoped>\n",
       "    .dataframe tbody tr th:only-of-type {\n",
       "        vertical-align: middle;\n",
       "    }\n",
       "\n",
       "    .dataframe tbody tr th {\n",
       "        vertical-align: top;\n",
       "    }\n",
       "\n",
       "    .dataframe thead th {\n",
       "        text-align: right;\n",
       "    }\n",
       "</style>\n",
       "<table border=\"1\" class=\"dataframe\">\n",
       "  <thead>\n",
       "    <tr style=\"text-align: right;\">\n",
       "      <th></th>\n",
       "      <th>id</th>\n",
       "      <th>経度</th>\n",
       "      <th>緯度</th>\n",
       "      <th>所在地コード</th>\n",
       "      <th>用途</th>\n",
       "      <th>連番</th>\n",
       "      <th>年次</th>\n",
       "      <th>前年所在地コード</th>\n",
       "      <th>前年用途</th>\n",
       "      <th>前年連番</th>\n",
       "      <th>...</th>\n",
       "      <th>属性移動Ｈ２２</th>\n",
       "      <th>属性移動Ｈ２３</th>\n",
       "      <th>属性移動Ｈ２４</th>\n",
       "      <th>属性移動Ｈ２５</th>\n",
       "      <th>属性移動Ｈ２６</th>\n",
       "      <th>属性移動Ｈ２７</th>\n",
       "      <th>属性移動Ｈ２８</th>\n",
       "      <th>属性移動Ｈ２９</th>\n",
       "      <th>属性移動Ｈ３０</th>\n",
       "      <th>属性移動Ｈ３１</th>\n",
       "    </tr>\n",
       "  </thead>\n",
       "  <tbody>\n",
       "    <tr>\n",
       "      <th>0</th>\n",
       "      <td>1</td>\n",
       "      <td>500891.116</td>\n",
       "      <td>123138.601</td>\n",
       "      <td>13364</td>\n",
       "      <td>0</td>\n",
       "      <td>1</td>\n",
       "      <td>2019</td>\n",
       "      <td>13364</td>\n",
       "      <td>0</td>\n",
       "      <td>1</td>\n",
       "      <td>...</td>\n",
       "      <td>10000000000000</td>\n",
       "      <td>10000000000000</td>\n",
       "      <td>10000000000000</td>\n",
       "      <td>10000000000000</td>\n",
       "      <td>10000000000000</td>\n",
       "      <td>10000000000000</td>\n",
       "      <td>10000000000000</td>\n",
       "      <td>10000000000000</td>\n",
       "      <td>10000000000000</td>\n",
       "      <td>10000010000000</td>\n",
       "    </tr>\n",
       "    <tr>\n",
       "      <th>1</th>\n",
       "      <td>2</td>\n",
       "      <td>500894.320</td>\n",
       "      <td>123142.529</td>\n",
       "      <td>13364</td>\n",
       "      <td>5</td>\n",
       "      <td>1</td>\n",
       "      <td>2019</td>\n",
       "      <td>13364</td>\n",
       "      <td>5</td>\n",
       "      <td>1</td>\n",
       "      <td>...</td>\n",
       "      <td>10000000000000</td>\n",
       "      <td>10000000000000</td>\n",
       "      <td>10000000000000</td>\n",
       "      <td>10000000000000</td>\n",
       "      <td>10000000000000</td>\n",
       "      <td>10000000000000</td>\n",
       "      <td>10000000000000</td>\n",
       "      <td>10000000000000</td>\n",
       "      <td>10000000000000</td>\n",
       "      <td>10000010000000</td>\n",
       "    </tr>\n",
       "    <tr>\n",
       "      <th>2</th>\n",
       "      <td>3</td>\n",
       "      <td>500912.888</td>\n",
       "      <td>123159.352</td>\n",
       "      <td>13364</td>\n",
       "      <td>0</td>\n",
       "      <td>2</td>\n",
       "      <td>2019</td>\n",
       "      <td>13364</td>\n",
       "      <td>0</td>\n",
       "      <td>2</td>\n",
       "      <td>...</td>\n",
       "      <td>0</td>\n",
       "      <td>0</td>\n",
       "      <td>0</td>\n",
       "      <td>40000000000000</td>\n",
       "      <td>10000000000000</td>\n",
       "      <td>10000000000000</td>\n",
       "      <td>10000000000000</td>\n",
       "      <td>10000000000000</td>\n",
       "      <td>10000000000000</td>\n",
       "      <td>10000000000000</td>\n",
       "    </tr>\n",
       "    <tr>\n",
       "      <th>3</th>\n",
       "      <td>4</td>\n",
       "      <td>501125.227</td>\n",
       "      <td>128626.391</td>\n",
       "      <td>13228</td>\n",
       "      <td>0</td>\n",
       "      <td>15</td>\n",
       "      <td>2019</td>\n",
       "      <td>13228</td>\n",
       "      <td>0</td>\n",
       "      <td>15</td>\n",
       "      <td>...</td>\n",
       "      <td>10000100000000</td>\n",
       "      <td>10000000000000</td>\n",
       "      <td>10000000000000</td>\n",
       "      <td>20000000000000</td>\n",
       "      <td>20000000000000</td>\n",
       "      <td>10000000000000</td>\n",
       "      <td>10000000000000</td>\n",
       "      <td>10000000000000</td>\n",
       "      <td>10000000000000</td>\n",
       "      <td>10000010000000</td>\n",
       "    </tr>\n",
       "    <tr>\n",
       "      <th>4</th>\n",
       "      <td>5</td>\n",
       "      <td>501133.658</td>\n",
       "      <td>128900.214</td>\n",
       "      <td>13205</td>\n",
       "      <td>0</td>\n",
       "      <td>23</td>\n",
       "      <td>2019</td>\n",
       "      <td>13205</td>\n",
       "      <td>0</td>\n",
       "      <td>23</td>\n",
       "      <td>...</td>\n",
       "      <td>10000000000000</td>\n",
       "      <td>10000000000000</td>\n",
       "      <td>10000000000000</td>\n",
       "      <td>10000000000000</td>\n",
       "      <td>10000000000000</td>\n",
       "      <td>10000000000000</td>\n",
       "      <td>10000000000000</td>\n",
       "      <td>10000000000000</td>\n",
       "      <td>10000000000000</td>\n",
       "      <td>10000000000000</td>\n",
       "    </tr>\n",
       "  </tbody>\n",
       "</table>\n",
       "<p>5 rows × 116 columns</p>\n",
       "</div>"
      ],
      "text/plain": [
       "   id          経度          緯度  所在地コード  用途  連番    年次  前年所在地コード  前年用途  前年連番  \\\n",
       "0   1  500891.116  123138.601   13364   0   1  2019     13364     0     1   \n",
       "1   2  500894.320  123142.529   13364   5   1  2019     13364     5     1   \n",
       "2   3  500912.888  123159.352   13364   0   2  2019     13364     0     2   \n",
       "3   4  501125.227  128626.391   13228   0  15  2019     13228     0    15   \n",
       "4   5  501133.658  128900.214   13205   0  23  2019     13205     0    23   \n",
       "\n",
       "   ...         属性移動Ｈ２２         属性移動Ｈ２３         属性移動Ｈ２４         属性移動Ｈ２５  \\\n",
       "0  ...  10000000000000  10000000000000  10000000000000  10000000000000   \n",
       "1  ...  10000000000000  10000000000000  10000000000000  10000000000000   \n",
       "2  ...               0               0               0  40000000000000   \n",
       "3  ...  10000100000000  10000000000000  10000000000000  20000000000000   \n",
       "4  ...  10000000000000  10000000000000  10000000000000  10000000000000   \n",
       "\n",
       "          属性移動Ｈ２６         属性移動Ｈ２７         属性移動Ｈ２８         属性移動Ｈ２９  \\\n",
       "0  10000000000000  10000000000000  10000000000000  10000000000000   \n",
       "1  10000000000000  10000000000000  10000000000000  10000000000000   \n",
       "2  10000000000000  10000000000000  10000000000000  10000000000000   \n",
       "3  20000000000000  10000000000000  10000000000000  10000000000000   \n",
       "4  10000000000000  10000000000000  10000000000000  10000000000000   \n",
       "\n",
       "          属性移動Ｈ３０         属性移動Ｈ３１  \n",
       "0  10000000000000  10000010000000  \n",
       "1  10000000000000  10000010000000  \n",
       "2  10000000000000  10000000000000  \n",
       "3  10000000000000  10000010000000  \n",
       "4  10000000000000  10000000000000  \n",
       "\n",
       "[5 rows x 116 columns]"
      ]
     },
     "execution_count": 9,
     "metadata": {},
     "output_type": "execute_result"
    }
   ],
   "source": [
    "pub_df.head()"
   ]
  },
  {
   "cell_type": "code",
   "execution_count": 76,
   "metadata": {},
   "outputs": [
    {
     "name": "stdout",
     "output_type": "stream",
     "text": [
      "<class 'pandas.core.frame.DataFrame'>\n",
      "RangeIndex: 356344 entries, 0 to 356343\n",
      "Data columns (total 28 columns):\n",
      "id            356344 non-null int64\n",
      "種類            356344 non-null object\n",
      "地域            196938 non-null object\n",
      "市区町村コード       356344 non-null int64\n",
      "都道府県名         356344 non-null object\n",
      "市区町村名         356344 non-null object\n",
      "地区名           356098 non-null object\n",
      "最寄駅：名称        354793 non-null object\n",
      "最寄駅：距離（分）     346215 non-null object\n",
      "間取り           153776 non-null object\n",
      "面積（㎡）         356344 non-null object\n",
      "土地の形状         196543 non-null object\n",
      "間口            180263 non-null object\n",
      "延床面積（㎡）       120143 non-null object\n",
      "建築年           273503 non-null object\n",
      "建物の構造         277515 non-null object\n",
      "用途            275283 non-null object\n",
      "今後の利用目的       111379 non-null object\n",
      "前面道路：方位       196514 non-null object\n",
      "前面道路：種類       194373 non-null object\n",
      "前面道路：幅員（ｍ）    193279 non-null float64\n",
      "都市計画          352897 non-null object\n",
      "建ぺい率（％）       350958 non-null float64\n",
      "容積率（％）        350958 non-null float64\n",
      "取引時点          356344 non-null object\n",
      "改装            144273 non-null object\n",
      "取引の事情等        28136 non-null object\n",
      "y             356344 non-null float64\n",
      "dtypes: float64(4), int64(2), object(22)\n",
      "memory usage: 76.1+ MB\n"
     ]
    }
   ],
   "source": [
    "train_df.info()"
   ]
  },
  {
   "cell_type": "code",
   "execution_count": 77,
   "metadata": {},
   "outputs": [
    {
     "name": "stdout",
     "output_type": "stream",
     "text": [
      "<class 'pandas.core.frame.DataFrame'>\n",
      "RangeIndex: 34844 entries, 0 to 34843\n",
      "Data columns (total 27 columns):\n",
      "id            34844 non-null int64\n",
      "種類            34844 non-null object\n",
      "地域            17401 non-null object\n",
      "市区町村コード       34844 non-null int64\n",
      "都道府県名         34844 non-null object\n",
      "市区町村名         34844 non-null object\n",
      "地区名           34844 non-null object\n",
      "最寄駅：名称        34707 non-null object\n",
      "最寄駅：距離（分）     34683 non-null object\n",
      "間取り           16651 non-null object\n",
      "面積（㎡）         34844 non-null object\n",
      "土地の形状         17397 non-null object\n",
      "間口            15895 non-null object\n",
      "延床面積（㎡）       11398 non-null object\n",
      "建築年           28180 non-null object\n",
      "建物の構造         28207 non-null object\n",
      "用途            22710 non-null object\n",
      "今後の利用目的       32088 non-null object\n",
      "前面道路：方位       17401 non-null object\n",
      "前面道路：種類       17176 non-null object\n",
      "前面道路：幅員（ｍ）    17078 non-null float64\n",
      "都市計画          34565 non-null object\n",
      "建ぺい率（％）       34459 non-null float64\n",
      "容積率（％）        34459 non-null float64\n",
      "取引時点          34844 non-null object\n",
      "改装            15077 non-null object\n",
      "取引の事情等        2502 non-null object\n",
      "dtypes: float64(3), int64(2), object(22)\n",
      "memory usage: 7.2+ MB\n"
     ]
    }
   ],
   "source": [
    "test_df.info()"
   ]
  },
  {
   "cell_type": "code",
   "execution_count": 7,
   "metadata": {},
   "outputs": [],
   "source": [
    "#from preprocess import mp\n",
    "import preprocess"
   ]
  },
  {
   "cell_type": "code",
   "execution_count": 269,
   "metadata": {},
   "outputs": [],
   "source": [
    "n_fold = 5\n",
    "kf = KFold(n_splits=n_fold, shuffle=True, random_state=234)"
   ]
  },
  {
   "cell_type": "code",
   "execution_count": 367,
   "metadata": {},
   "outputs": [
    {
     "data": {
      "text/plain": [
       "<module 'preprocess' from '/Users/rist002/Workspace/probspace/real_estate/preprocess.py'>"
      ]
     },
     "execution_count": 367,
     "metadata": {},
     "output_type": "execute_result"
    }
   ],
   "source": [
    "import importlib\n",
    "importlib.reload(preprocess)"
   ]
  },
  {
   "cell_type": "code",
   "execution_count": 368,
   "metadata": {},
   "outputs": [
    {
     "name": "stdout",
     "output_type": "stream",
     "text": [
      "train\n",
      "processing area\n",
      "processing frontage\n",
      "scale and absolute\n",
      "processing floor area\n",
      "processing transaction point\n",
      "processing floor_plan\n",
      "processing nearest station distance\n",
      "processing year of construction\n",
      "processing use\n",
      "processing building structure\n",
      "preprocessing transaction circumstances\n",
      "test\n",
      "processing area\n",
      "processing frontage\n",
      "scale and absolute\n",
      "processing floor area\n",
      "processing transaction point\n",
      "processing floor_plan\n",
      "processing nearest station distance\n",
      "processing year of construction\n",
      "processing use\n",
      "processing building structure\n",
      "preprocessing transaction circumstances\n",
      "target, min, max. encoding\n"
     ]
    },
    {
     "name": "stderr",
     "output_type": "stream",
     "text": [
      "/anaconda3/envs/kaggle/lib/python3.6/site-packages/pandas/core/indexing.py:205: SettingWithCopyWarning: \n",
      "A value is trying to be set on a copy of a slice from a DataFrame\n",
      "\n",
      "See the caveats in the documentation: http://pandas.pydata.org/pandas-docs/stable/user_guide/indexing.html#returning-a-view-versus-a-copy\n",
      "  self._setitem_with_indexer(indexer, value)\n"
     ]
    },
    {
     "name": "stdout",
     "output_type": "stream",
     "text": [
      "area, frontage, front_road_width linear regression encoding\n"
     ]
    },
    {
     "name": "stderr",
     "output_type": "stream",
     "text": [
      "/anaconda3/envs/kaggle/lib/python3.6/site-packages/pandas/core/indexing.py:205: SettingWithCopyWarning: \n",
      "A value is trying to be set on a copy of a slice from a DataFrame\n",
      "\n",
      "See the caveats in the documentation: http://pandas.pydata.org/pandas-docs/stable/user_guide/indexing.html#returning-a-view-versus-a-copy\n",
      "  self._setitem_with_indexer(indexer, value)\n",
      "/anaconda3/envs/kaggle/lib/python3.6/site-packages/pandas/core/indexing.py:205: SettingWithCopyWarning: \n",
      "A value is trying to be set on a copy of a slice from a DataFrame\n",
      "\n",
      "See the caveats in the documentation: http://pandas.pydata.org/pandas-docs/stable/user_guide/indexing.html#returning-a-view-versus-a-copy\n",
      "  self._setitem_with_indexer(indexer, value)\n",
      "/anaconda3/envs/kaggle/lib/python3.6/site-packages/pandas/core/indexing.py:205: SettingWithCopyWarning: \n",
      "A value is trying to be set on a copy of a slice from a DataFrame\n",
      "\n",
      "See the caveats in the documentation: http://pandas.pydata.org/pandas-docs/stable/user_guide/indexing.html#returning-a-view-versus-a-copy\n",
      "  self._setitem_with_indexer(indexer, value)\n",
      "/anaconda3/envs/kaggle/lib/python3.6/site-packages/pandas/core/indexing.py:205: SettingWithCopyWarning: \n",
      "A value is trying to be set on a copy of a slice from a DataFrame\n",
      "\n",
      "See the caveats in the documentation: http://pandas.pydata.org/pandas-docs/stable/user_guide/indexing.html#returning-a-view-versus-a-copy\n",
      "  self._setitem_with_indexer(indexer, value)\n",
      "/anaconda3/envs/kaggle/lib/python3.6/site-packages/pandas/core/indexing.py:205: SettingWithCopyWarning: \n",
      "A value is trying to be set on a copy of a slice from a DataFrame\n",
      "\n",
      "See the caveats in the documentation: http://pandas.pydata.org/pandas-docs/stable/user_guide/indexing.html#returning-a-view-versus-a-copy\n",
      "  self._setitem_with_indexer(indexer, value)\n",
      "/anaconda3/envs/kaggle/lib/python3.6/site-packages/pandas/core/indexing.py:205: SettingWithCopyWarning: \n",
      "A value is trying to be set on a copy of a slice from a DataFrame\n",
      "\n",
      "See the caveats in the documentation: http://pandas.pydata.org/pandas-docs/stable/user_guide/indexing.html#returning-a-view-versus-a-copy\n",
      "  self._setitem_with_indexer(indexer, value)\n"
     ]
    }
   ],
   "source": [
    "dfs, x_col, y_col = preprocess.mp(train_df, test_df, kf)"
   ]
  },
  {
   "cell_type": "code",
   "execution_count": 369,
   "metadata": {},
   "outputs": [],
   "source": [
    "p_train_df = dfs[0]\n",
    "p_test_df = dfs[1]"
   ]
  },
  {
   "cell_type": "code",
   "execution_count": 370,
   "metadata": {},
   "outputs": [],
   "source": [
    "corr = p_train_df[x_col + y_col].corr()\n",
    "#print(corr)"
   ]
  },
  {
   "cell_type": "code",
   "execution_count": 371,
   "metadata": {
    "collapsed": true,
    "jupyter": {
     "outputs_hidden": true
    }
   },
   "outputs": [
    {
     "name": "stdout",
     "output_type": "stream",
     "text": [
      "type                                      0.094191\n",
      "region                                    0.163303\n",
      "city_code                                -0.050684\n",
      "district_name                             0.007296\n",
      "nearest_station_name                      0.006159\n",
      "nearest_station_distance                 -0.042089\n",
      "area                                      0.328973\n",
      "land_shape                                0.066985\n",
      "frontage                                  0.275335\n",
      "floor_area                                0.032278\n",
      "year_of_construction                     -0.024428\n",
      "future_purpose                           -0.009913\n",
      "front_road_direction                      0.075245\n",
      "front_road_type                           0.058747\n",
      "front_road_width                          0.208196\n",
      "city_planning                            -0.036131\n",
      "building_coverage_ratio                   0.039713\n",
      "floor_area_ratio                          0.067104\n",
      "renovation                               -0.085598\n",
      "abs_std_log1_area_std_frontage           -0.065161\n",
      "abs_std_log1_area_std_front_road_width    0.018138\n",
      "abs_std_frontage_std_front_road_width     0.051169\n",
      "type_target_mean                          0.100147\n",
      "type_target_var                           0.097515\n",
      "type_target_max                           0.094717\n",
      "type_target_min                          -0.038136\n",
      "region_target_mean                        0.203808\n",
      "region_target_var                         0.198559\n",
      "region_target_max                         0.117701\n",
      "region_target_min                         0.126123\n",
      "city_code_target_mean                     0.105572\n",
      "city_code_target_var                      0.089371\n",
      "city_code_target_max                      0.068998\n",
      "city_code_target_min                      0.018911\n",
      "district_name_target_mean                 0.147991\n",
      "district_name_target_var                  0.056448\n",
      "district_name_target_max                  0.060337\n",
      "district_name_target_min                  0.048726\n",
      "nearest_station_name_target_mean          0.143395\n",
      "nearest_station_name_target_var           0.067902\n",
      "nearest_station_name_target_max           0.037402\n",
      "nearest_station_name_target_min           0.023581\n",
      "land_shape_target_mean                    0.116683\n",
      "land_shape_target_var                     0.101066\n",
      "land_shape_target_max                     0.097146\n",
      "land_shape_target_min                     0.015361\n",
      "year_of_construction_target_mean          0.052289\n",
      "year_of_construction_target_var           0.023487\n",
      "year_of_construction_target_max           0.004932\n",
      "year_of_construction_target_min           0.002303\n",
      "future_purpose_target_mean                0.073377\n",
      "future_purpose_target_var                 0.062224\n",
      "future_purpose_target_max                 0.008879\n",
      "future_purpose_target_min                 0.054437\n",
      "city_planning_target_mean                 0.066291\n",
      "city_planning_target_var                  0.054181\n",
      "city_planning_target_max                  0.044302\n",
      "city_planning_target_min                  0.026934\n",
      "nb_R_target_mean                          0.097719\n",
      "nb_R_target_var                           0.095730\n",
      "nb_R_target_max                           0.094685\n",
      "nb_R_target_min                          -0.031416\n",
      "has_L_target_mean                         0.047579\n",
      "has_L_target_var                          0.047224\n",
      "has_L_target_max                          0.046232\n",
      "has_L_target_min                         -0.047326\n",
      "has_D_target_mean                         0.060399\n",
      "has_D_target_var                          0.060028\n",
      "has_D_target_max                          0.058973\n",
      "has_D_target_min                         -0.023771\n",
      "has_K_target_mean                         0.093454\n",
      "has_K_target_var                          0.093047\n",
      "has_K_target_max                          0.091879\n",
      "has_K_target_min                         -0.042484\n",
      "has_pK_target_mean                       -0.001295\n",
      "has_pK_target_var                        -0.000728\n",
      "has_pK_target_max                        -0.000323\n",
      "has_pK_target_min                        -0.000319\n",
      "has_S_target_mean                         0.006808\n",
      "has_S_target_var                          0.005006\n",
      "has_S_target_max                          0.003382\n",
      "has_S_target_min                         -0.006880\n",
      "linear_target                             0.330855\n",
      "area_over                                 0.294425\n",
      "frontage_over                             0.224092\n",
      "floor_area_over                           0.402949\n",
      "transaction_point_year                   -0.018157\n",
      "transaction_point_month                  -0.004660\n",
      "nb_R                                     -0.072409\n",
      "has_L                                    -0.047591\n",
      "has_D                                    -0.060410\n",
      "has_K                                    -0.093462\n",
      "has_pK                                   -0.000146\n",
      "has_S                                    -0.006881\n",
      "other_fp                                  0.068947\n",
      "is_use_parking                            0.131759\n",
      "is_use_workplace                          0.010481\n",
      "is_use_office                             0.184628\n",
      "is_use_other                              0.091581\n",
      "is_use_warehouse                          0.059615\n",
      "is_use_residential                       -0.098964\n",
      "is_use_factory                            0.024880\n",
      "is_use_apartment                          0.086729\n",
      "is_use_store                              0.116126\n",
      "is_bs_RC                                       NaN\n",
      "is_bs_SRC                                      NaN\n",
      "is_bs_steel                               0.050092\n",
      "is_bs_wooden                             -0.036083\n",
      "is_bs_lw_steel                            0.001947\n",
      "is_bs_block                               0.000681\n",
      "is_tcc_private                            0.000749\n",
      "is_tcc_next                               0.004435\n",
      "is_tcc_related                            0.009098\n",
      "is_tcc_other                              0.001301\n",
      "is_tcc_auction                           -0.011276\n",
      "is_tcc_other_rights                      -0.001278\n",
      "is_tcc_defects                            0.000167\n",
      "is_tcc_old                               -0.000496\n",
      "log1_area                                 0.245587\n",
      "y                                         1.000000\n",
      "Name: y, dtype: float64\n"
     ]
    }
   ],
   "source": [
    "pd.set_option('display.max_rows', None)\n",
    "print(corr['y'])\n",
    "pd.set_option('display.max_rows', 10)"
   ]
  },
  {
   "cell_type": "code",
   "execution_count": 372,
   "metadata": {},
   "outputs": [
    {
     "name": "stdout",
     "output_type": "stream",
     "text": [
      "True\n",
      "['y']\n"
     ]
    }
   ],
   "source": [
    "print('linear_target' in x_col)\n",
    "print(y_col)"
   ]
  },
  {
   "cell_type": "code",
   "execution_count": 373,
   "metadata": {},
   "outputs": [],
   "source": [
    "X = p_train_df[x_col]\n",
    "#log1_Y = p_train_df[['log1_y']]\n",
    "Y = p_train_df[y_col]"
   ]
  },
  {
   "cell_type": "code",
   "execution_count": 374,
   "metadata": {},
   "outputs": [],
   "source": [
    "lgb_param = {\n",
    "    \"objective\": \"regression\",\n",
    "    \"metric\": \"rmse\",\n",
    "    \"learning_rate\": 0.01,\n",
    "    \"num_iteration\": 1000000,\n",
    "    \"early_stopping_round\": 50,\n",
    "    'lambda_l1': 0.000750970614980332, \n",
    "    'lambda_l2': 0.01016861932031014, \n",
    "    'num_leaves': 160, \n",
    "    'feature_fraction': 0.47359999999999997, \n",
    "    'bagging_fraction': 0.6034476849013458, \n",
    "    'bagging_freq': 4, \n",
    "    'min_child_samples': 27\n",
    "}"
   ]
  },
  {
   "cell_type": "code",
   "execution_count": 158,
   "metadata": {},
   "outputs": [],
   "source": [
    "train_df['pred_y'] = 0"
   ]
  },
  {
   "cell_type": "code",
   "execution_count": 375,
   "metadata": {},
   "outputs": [
    {
     "data": {
      "text/plain": [
       "id                     int64\n",
       "type                   int64\n",
       "region                 int64\n",
       "city_code              int64\n",
       "prefecture_name       object\n",
       "                      ...   \n",
       "has_S_target_mean    float64\n",
       "has_S_target_var     float64\n",
       "has_S_target_max     float64\n",
       "has_S_target_min     float64\n",
       "linear_target        float64\n",
       "Length: 131, dtype: object"
      ]
     },
     "execution_count": 375,
     "metadata": {},
     "output_type": "execute_result"
    }
   ],
   "source": [
    "p_train_df.dtypes"
   ]
  },
  {
   "cell_type": "code",
   "execution_count": 376,
   "metadata": {},
   "outputs": [
    {
     "name": "stderr",
     "output_type": "stream",
     "text": [
      "/anaconda3/envs/kaggle/lib/python3.6/site-packages/lightgbm/engine.py:148: UserWarning: Found `num_iteration` in params. Will use it instead of argument\n",
      "  warnings.warn(\"Found `{}` in params. Will use it instead of argument\".format(alias))\n",
      "/anaconda3/envs/kaggle/lib/python3.6/site-packages/lightgbm/engine.py:153: UserWarning: Found `early_stopping_round` in params. Will use it instead of argument\n",
      "  warnings.warn(\"Found `{}` in params. Will use it instead of argument\".format(alias))\n"
     ]
    },
    {
     "name": "stdout",
     "output_type": "stream",
     "text": [
      "Training until validation scores don't improve for 50 rounds\n",
      "[500]\tvalid_0's rmse: 197.187\n",
      "Early stopping, best iteration is:\n",
      "[624]\tvalid_0's rmse: 194.953\n",
      "194.93369554981362\n"
     ]
    },
    {
     "name": "stderr",
     "output_type": "stream",
     "text": [
      "/anaconda3/envs/kaggle/lib/python3.6/site-packages/lightgbm/engine.py:148: UserWarning: Found `num_iteration` in params. Will use it instead of argument\n",
      "  warnings.warn(\"Found `{}` in params. Will use it instead of argument\".format(alias))\n",
      "/anaconda3/envs/kaggle/lib/python3.6/site-packages/lightgbm/engine.py:153: UserWarning: Found `early_stopping_round` in params. Will use it instead of argument\n",
      "  warnings.warn(\"Found `{}` in params. Will use it instead of argument\".format(alias))\n"
     ]
    },
    {
     "name": "stdout",
     "output_type": "stream",
     "text": [
      "Training until validation scores don't improve for 50 rounds\n",
      "Early stopping, best iteration is:\n",
      "[323]\tvalid_0's rmse: 225.898\n",
      "225.89782740809014\n"
     ]
    },
    {
     "name": "stderr",
     "output_type": "stream",
     "text": [
      "/anaconda3/envs/kaggle/lib/python3.6/site-packages/lightgbm/engine.py:148: UserWarning: Found `num_iteration` in params. Will use it instead of argument\n",
      "  warnings.warn(\"Found `{}` in params. Will use it instead of argument\".format(alias))\n",
      "/anaconda3/envs/kaggle/lib/python3.6/site-packages/lightgbm/engine.py:153: UserWarning: Found `early_stopping_round` in params. Will use it instead of argument\n",
      "  warnings.warn(\"Found `{}` in params. Will use it instead of argument\".format(alias))\n"
     ]
    },
    {
     "name": "stdout",
     "output_type": "stream",
     "text": [
      "Training until validation scores don't improve for 50 rounds\n",
      "[500]\tvalid_0's rmse: 273.398\n",
      "Early stopping, best iteration is:\n",
      "[829]\tvalid_0's rmse: 268.38\n",
      "268.34578490691507\n"
     ]
    },
    {
     "name": "stderr",
     "output_type": "stream",
     "text": [
      "/anaconda3/envs/kaggle/lib/python3.6/site-packages/lightgbm/engine.py:148: UserWarning: Found `num_iteration` in params. Will use it instead of argument\n",
      "  warnings.warn(\"Found `{}` in params. Will use it instead of argument\".format(alias))\n",
      "/anaconda3/envs/kaggle/lib/python3.6/site-packages/lightgbm/engine.py:153: UserWarning: Found `early_stopping_round` in params. Will use it instead of argument\n",
      "  warnings.warn(\"Found `{}` in params. Will use it instead of argument\".format(alias))\n"
     ]
    },
    {
     "name": "stdout",
     "output_type": "stream",
     "text": [
      "Training until validation scores don't improve for 50 rounds\n",
      "Early stopping, best iteration is:\n",
      "[321]\tvalid_0's rmse: 176.626\n",
      "176.6263613257085\n"
     ]
    },
    {
     "name": "stderr",
     "output_type": "stream",
     "text": [
      "/anaconda3/envs/kaggle/lib/python3.6/site-packages/lightgbm/engine.py:148: UserWarning: Found `num_iteration` in params. Will use it instead of argument\n",
      "  warnings.warn(\"Found `{}` in params. Will use it instead of argument\".format(alias))\n",
      "/anaconda3/envs/kaggle/lib/python3.6/site-packages/lightgbm/engine.py:153: UserWarning: Found `early_stopping_round` in params. Will use it instead of argument\n",
      "  warnings.warn(\"Found `{}` in params. Will use it instead of argument\".format(alias))\n"
     ]
    },
    {
     "name": "stdout",
     "output_type": "stream",
     "text": [
      "Training until validation scores don't improve for 50 rounds\n",
      "[500]\tvalid_0's rmse: 205.69\n",
      "Early stopping, best iteration is:\n",
      "[848]\tvalid_0's rmse: 201.17\n",
      "201.1427160176813\n",
      "final score: 213.38927704164172\n"
     ]
    }
   ],
   "source": [
    "mscore = 0.0\n",
    "models = []\n",
    "#bps = []\n",
    "for train_ind, val_ind in kf.split(X, Y):\n",
    "    dtrain = lgb.Dataset(X.iloc[train_ind], label=Y.iloc[train_ind])\n",
    "    dval = lgb.Dataset(X.iloc[val_ind], label=Y.iloc[val_ind], reference=dtrain)\n",
    "    model = lgb.train(lgb_param, dtrain, valid_sets=dval, verbose_eval=500)\n",
    "    #best_params = {}\n",
    "    #lgb_tuner.train(lgb_param, dtrain, valid_sets=dval, verbose_eval=500, best_params=best_params)\n",
    "    #bps.append(best_params)\n",
    "    models.append(model)\n",
    "    y_pred = model.predict(X.iloc[val_ind])\n",
    "    y_pred[y_pred < 0] = 0\n",
    "    #train_df['pred_y'].iloc[val_ind] = y_pred\n",
    "    score = np.sqrt(mean_squared_error(Y.iloc[val_ind], y_pred))\n",
    "    print(score)\n",
    "    mscore += score / n_fold\n",
    "print(\"final score: {}\".format(mscore))\n",
    "#print(bps)"
   ]
  },
  {
   "cell_type": "code",
   "execution_count": 377,
   "metadata": {},
   "outputs": [
    {
     "name": "stdout",
     "output_type": "stream",
     "text": [
      "area 6348.6\n",
      "nearest_station_name_target_mean 3610.2000000000003\n",
      "district_name_target_mean 3443.0\n",
      "city_code_target_mean 3429.0\n",
      "linear_target 3401.0000000000005\n",
      "year_of_construction 3342.0\n",
      "front_road_width 3139.0\n",
      "log1_area 3132.8\n",
      "district_name_target_var 2933.2\n",
      "nearest_station_distance 2900.6\n",
      "abs_std_log1_area_std_front_road_width 2735.0\n",
      "frontage 2727.6\n",
      "floor_area_ratio 2648.2\n",
      "abs_std_log1_area_std_frontage 2560.6\n",
      "transaction_point_year 2558.2\n",
      "nearest_station_name_target_var 2399.0\n",
      "city_code 2393.4\n",
      "city_code_target_var 2334.0\n",
      "district_name_target_max 2282.2\n",
      "abs_std_frontage_std_front_road_width 2210.6\n",
      "nearest_station_name_target_min 1687.8000000000002\n",
      "district_name_target_min 1622.6\n",
      "year_of_construction_target_mean 1490.8000000000002\n",
      "nearest_station_name 1441.6\n",
      "nearest_station_name_target_max 1394.4\n",
      "district_name 1321.0\n",
      "year_of_construction_target_min 1310.6\n",
      "city_planning_target_var 1267.6\n",
      "city_planning_target_mean 1259.6\n",
      "year_of_construction_target_var 1207.0\n",
      "city_code_target_max 1183.4\n",
      "year_of_construction_target_max 1031.2\n",
      "land_shape_target_mean 871.6000000000001\n",
      "land_shape_target_var 779.2\n",
      "city_code_target_min 764.4000000000001\n",
      "city_planning 702.0\n",
      "region_target_mean 694.8\n",
      "city_planning_target_max 689.0\n",
      "region_target_var 601.2\n",
      "front_road_direction 563.8000000000001\n",
      "front_road_type 558.0\n",
      "future_purpose_target_mean 533.8\n",
      "is_use_apartment 521.0\n",
      "land_shape_target_min 495.2\n",
      "building_coverage_ratio 494.0\n",
      "city_planning_target_min 466.0\n",
      "future_purpose_target_var 438.0\n",
      "is_use_store 433.0\n",
      "region 409.79999999999995\n",
      "floor_area 390.40000000000003\n",
      "is_bs_wooden 388.4\n",
      "area_over 363.40000000000003\n",
      "land_shape_target_max 363.2\n",
      "type_target_mean 360.8\n",
      "transaction_point_month 344.4\n",
      "future_purpose 321.8\n",
      "region_target_max 321.6\n",
      "future_purpose_target_max 292.2\n",
      "type_target_var 282.8\n",
      "is_use_office 281.0\n",
      "region_target_min 274.0\n",
      "future_purpose_target_min 256.4\n",
      "land_shape 243.8\n",
      "is_bs_steel 238.4\n",
      "floor_area_over 229.2\n",
      "nb_R_target_mean 207.2\n",
      "is_use_residential 157.8\n",
      "nb_R_target_var 126.4\n",
      "frontage_over 111.19999999999999\n",
      "is_use_parking 110.2\n",
      "is_tcc_auction 96.8\n",
      "has_L_target_mean 95.6\n",
      "type_target_min 94.6\n",
      "type 93.6\n",
      "has_D_target_mean 92.6\n",
      "is_tcc_private 88.4\n",
      "is_use_other 86.60000000000001\n",
      "is_tcc_related 63.400000000000006\n",
      "type_target_max 62.4\n",
      "is_bs_lw_steel 55.4\n",
      "other_fp 52.8\n",
      "is_use_warehouse 48.0\n",
      "has_L_target_var 44.8\n",
      "nb_R_target_min 37.0\n",
      "nb_R_target_max 32.8\n",
      "nb_R 20.2\n",
      "has_D_target_var 18.0\n",
      "renovation 15.8\n",
      "has_pK_target_mean 15.200000000000003\n",
      "has_L_target_min 15.0\n",
      "is_tcc_next 12.8\n",
      "has_K_target_mean 12.600000000000001\n",
      "is_use_factory 11.600000000000001\n",
      "has_L_target_max 11.599999999999998\n",
      "has_K_target_var 7.8\n",
      "has_pK_target_var 7.6\n",
      "has_L 6.6\n",
      "has_D_target_min 5.800000000000001\n",
      "has_D_target_max 3.4000000000000004\n",
      "has_S_target_mean 3.4\n",
      "has_D 3.0\n",
      "has_K_target_min 2.6\n",
      "is_use_workplace 2.2\n",
      "has_S_target_var 2.1999999999999997\n",
      "is_tcc_other 1.4\n",
      "has_pK_target_max 1.2\n",
      "has_K_target_max 0.4\n",
      "has_K 0.4\n",
      "has_pK_target_min 0.2\n",
      "is_tcc_other_rights 0.0\n",
      "is_tcc_old 0.0\n",
      "is_tcc_defects 0.0\n",
      "is_bs_block 0.0\n",
      "is_bs_SRC 0.0\n",
      "is_bs_RC 0.0\n",
      "has_pK 0.0\n",
      "has_S_target_min 0.0\n",
      "has_S_target_max 0.0\n",
      "has_S 0.0\n"
     ]
    }
   ],
   "source": [
    "importances = np.zeros((len(x_col)))\n",
    "for i in range(n_fold):\n",
    "    importances += models[i].feature_importance() / n_fold\n",
    "for imp, col in sorted(zip(importances, x_col), reverse=True):\n",
    "    print(col, imp)"
   ]
  },
  {
   "cell_type": "code",
   "execution_count": 382,
   "metadata": {},
   "outputs": [
    {
     "data": {
      "text/plain": [
       "array([0, 1])"
      ]
     },
     "execution_count": 382,
     "metadata": {},
     "output_type": "execute_result"
    }
   ],
   "source": [
    "p_train_df[''].unique()"
   ]
  },
  {
   "cell_type": "code",
   "execution_count": 381,
   "metadata": {},
   "outputs": [
    {
     "data": {
      "text/plain": [
       "False"
      ]
     },
     "execution_count": 381,
     "metadata": {},
     "output_type": "execute_result"
    }
   ],
   "source": [
    "'Ｓ' == 'S'"
   ]
  },
  {
   "cell_type": "code",
   "execution_count": 230,
   "metadata": {},
   "outputs": [],
   "source": [
    "score = np.zeros((len(p_test_df)))\n",
    "for i in range(n_fold):\n",
    "    score += models[i].predict(p_test_df[x_col]) / n_fold"
   ]
  },
  {
   "cell_type": "code",
   "execution_count": 99,
   "metadata": {},
   "outputs": [
    {
     "data": {
      "text/plain": [
       "Index(['id', '種類', '地域', '市区町村コード', '都道府県名', '市区町村名', '地区名', '最寄駅：名称',\n",
       "       '最寄駅：距離（分）', '間取り', '面積（㎡）', '土地の形状', '間口', '延床面積（㎡）', '建築年', '建物の構造',\n",
       "       '用途', '今後の利用目的', '前面道路：方位', '前面道路：種類', '前面道路：幅員（ｍ）', '都市計画', '建ぺい率（％）',\n",
       "       '容積率（％）', '取引時点', '改装', '取引の事情等', 'y'],\n",
       "      dtype='object')"
      ]
     },
     "execution_count": 99,
     "metadata": {},
     "output_type": "execute_result"
    }
   ],
   "source": [
    "test_df.columns"
   ]
  },
  {
   "cell_type": "code",
   "execution_count": 231,
   "metadata": {},
   "outputs": [],
   "source": [
    "test_df['y'] = score"
   ]
  },
  {
   "cell_type": "code",
   "execution_count": 232,
   "metadata": {},
   "outputs": [],
   "source": [
    "test_df[['id', 'y']].to_csv(\"submission/lgb_004_cv_210_714.csv\", index=False)"
   ]
  },
  {
   "cell_type": "code",
   "execution_count": null,
   "metadata": {},
   "outputs": [],
   "source": []
  }
 ],
 "metadata": {
  "kernelspec": {
   "display_name": "Python 3",
   "language": "python",
   "name": "python3"
  },
  "language_info": {
   "codemirror_mode": {
    "name": "ipython",
    "version": 3
   },
   "file_extension": ".py",
   "mimetype": "text/x-python",
   "name": "python",
   "nbconvert_exporter": "python",
   "pygments_lexer": "ipython3",
   "version": "3.6.10"
  }
 },
 "nbformat": 4,
 "nbformat_minor": 4
}
